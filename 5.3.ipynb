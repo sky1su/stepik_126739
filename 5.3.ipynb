{
 "cells": [
  {
   "cell_type": "markdown",
   "source": [
    "# Задача №1\n",
    "https://stepik.org/lesson/806244/step/2?unit=809373\n",
    "\n",
    "Напишите программу, которая запрашивает натуральное число N, и выводит K- количество разрядов в этом числе.\n",
    "\n",
    "Входные данные\n",
    "Натуральное число N\n",
    "\n",
    "Выходные данные\n",
    "Количество разрядов в числе\n",
    "\n",
    "Формулировка по исправлению кода: найдите и исправьте 2 ошибки. Код оставляем тот же самый. Вносим исправление в двух местах."
   ],
   "metadata": {
    "collapsed": false
   },
   "id": "3c65f5b37d6f8498"
  },
  {
   "cell_type": "code",
   "execution_count": null,
   "outputs": [],
   "source": [
    "N = int(input())\n",
    "K = 0\n",
    "while N >= 1:\n",
    "    K = K + 1\n",
    "    N = N//10\n",
    "print(K)"
   ],
   "metadata": {
    "collapsed": false
   },
   "id": "b0b41c76f0da175d"
  },
  {
   "cell_type": "markdown",
   "source": [
    "# Задача №2\n",
    "https://stepik.org/lesson/806244/step/3?unit=809373\n",
    "\n",
    "Напишите программу, которая запрашивает натуральное число N, и выводит произведение всех его цифр, отличных от 0.\n",
    "\n",
    "Входные данные\n",
    "Натуральное число N\n",
    "\n",
    "Выходные данные\n",
    "Произведение всех цифр числа, кроме 0.\n",
    "\n",
    "Формулировка по исправлению кода: найдите и исправьте 2 ошибки. Код оставляем тот же самый. Вносим исправление в двух местах."
   ],
   "metadata": {
    "collapsed": false
   },
   "id": "15ae0e1f016b7ca6"
  },
  {
   "cell_type": "code",
   "execution_count": null,
   "outputs": [],
   "source": [
    "z = int(input())\n",
    "t = 1\n",
    "while z != 0:\n",
    "    x = z % 10\n",
    "    if x != 0:\n",
    "        t = t * x\n",
    "    z = z // 10\n",
    "print(t)"
   ],
   "metadata": {
    "collapsed": false
   },
   "id": "ff36fff4f19089ca"
  },
  {
   "cell_type": "markdown",
   "source": [
    "# Задача №3\n",
    "https://stepik.org/lesson/806244/step/4?unit=809373\n",
    "\n",
    "Напишите программу, которая запрашивает натуральное число N, и выводит сообщение, есть ли среди цифр числа нечётные. Если есть вывести \"YES\", иначе - вывести \"NO\".\n",
    "\n",
    "Входные данные\n",
    "Натуральное число N\n",
    "\n",
    "Выходные данные\n",
    "Выводится \"YES\" или \"NO\"\n",
    "\n",
    "Формулировка по исправлению кода: найдите и исправьте ошибки. Код оставляем тот же самый. Вносим исправление в одном, максимум в двух местах."
   ],
   "metadata": {
    "collapsed": false
   },
   "id": "66829f6549871f78"
  },
  {
   "cell_type": "code",
   "execution_count": null,
   "outputs": [],
   "source": [
    "n = int(input())\n",
    "while n !=0:\n",
    "    if n%2 > 0:\n",
    "        f = \"YES\"\n",
    "        break\n",
    "    else:\n",
    "        f = \"NO\"\n",
    "    n = n//10\n",
    "print(f)"
   ],
   "metadata": {
    "collapsed": false
   },
   "id": "1808f5adfd8e91bb"
  },
  {
   "cell_type": "markdown",
   "source": [
    "# Задача №4\n",
    "https://stepik.org/lesson/806244/step/5?unit=809373\n",
    "\n",
    "Определите количество двузначных элементов последовательности, завершающейся числом 0.\n",
    "\n",
    "Входные данные\n",
    "Вводится последовательность целых чисел, оканчивающаяся числом 0 (число 0 в последовательность не входит, а служит как признак ее окончания)\n",
    "\n",
    "Выходные данные\n",
    "Выведите количество двузначных элементов последовательности."
   ],
   "metadata": {
    "collapsed": false
   },
   "id": "b62b5ef04754d558"
  },
  {
   "cell_type": "code",
   "execution_count": null,
   "outputs": [],
   "source": [
    "x = int(input())\n",
    "k = 0\n",
    "while x !=0:\n",
    "    if 9<x<100 or -100<x<-9:\n",
    "        k = k+1\n",
    "    x = int(input())\n",
    "print (k)"
   ],
   "metadata": {
    "collapsed": false
   },
   "id": "3f65f6037dd069f3"
  },
  {
   "cell_type": "markdown",
   "source": [
    "# Задача №5\n",
    "https://stepik.org/lesson/806244/step/6?unit=809373\n",
    "\n",
    "Определите среднее арифметическое положительных элементов последовательности, завершающейся числом 0.\n",
    "\n",
    "Входные данные\n",
    "Вводится последовательность целых чисел, оканчивающаяся числом 0 (число 0 в последовательность не входит, а служит как признак ее окончания). Гарантируется, что в последовательности есть хотя бы один положительный элемент.\n",
    "\n",
    "Выходные данные\n",
    "Выведите среднее арифметическое положительных элементов последовательности."
   ],
   "metadata": {
    "collapsed": false
   },
   "id": "8edc3b111f4e393d"
  },
  {
   "cell_type": "code",
   "execution_count": null,
   "outputs": [],
   "source": [
    "s = 0\n",
    "k = 0\n",
    "x = int(input())\n",
    "while x != 0:\n",
    "    if x > 0:\n",
    "        s = s + x\n",
    "        k = k + 1\n",
    "    x = int(input())\n",
    "print(s/k)"
   ],
   "metadata": {
    "collapsed": false
   },
   "id": "1b225052bb6a9b83"
  }
 ],
 "metadata": {
  "kernelspec": {
   "display_name": "Python 3",
   "language": "python",
   "name": "python3"
  },
  "language_info": {
   "codemirror_mode": {
    "name": "ipython",
    "version": 2
   },
   "file_extension": ".py",
   "mimetype": "text/x-python",
   "name": "python",
   "nbconvert_exporter": "python",
   "pygments_lexer": "ipython2",
   "version": "2.7.6"
  }
 },
 "nbformat": 4,
 "nbformat_minor": 5
}
