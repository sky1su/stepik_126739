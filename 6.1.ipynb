{
 "cells": [
  {
   "cell_type": "markdown",
   "source": [
    "# Задача №1\n",
    "https://stepik.org/lesson/806246/step/2?unit=809375\n",
    "\n",
    "На вход программе подается число n, потом ровно n одиночных символов в столбик. Надо напечатать их номера из таблицы ASCII в строку через пробел\n",
    "\n",
    "Входные данные\n",
    "Сначала подаётся число n. Далее n штук одиночных символов в столбик.\n",
    "\n",
    "Выходные данные\n",
    "Вывести коды символов одной строкой через пробел."
   ],
   "metadata": {
    "collapsed": false
   },
   "id": "63baea48e9dea0be"
  },
  {
   "cell_type": "code",
   "execution_count": null,
   "outputs": [],
   "source": [
    "def user_input(count):\n",
    "    result = list()\n",
    "    for i in range(count):\n",
    "        result.append(ord(input()))\n",
    "    return result\n",
    "\n",
    "x = int(input())\n",
    "data = user_input((x))\n",
    "print(' '.join(map(str,data)))\n"
   ],
   "metadata": {
    "collapsed": false
   },
   "id": "11a2d6c28ac694fe"
  },
  {
   "cell_type": "markdown",
   "source": [
    "# Задача №2\n",
    "https://stepik.org/lesson/806246/step/3?unit=809375\n",
    "\n",
    "На вход программе подается число n, потом ровно n кодов различных символов в столбик. Надо напечатать символы по их коду в одной строке через пробел\n",
    "\n",
    "Входные данные\n",
    "Сначала подаётся число n. Далее n чисел.\n",
    "\n",
    "Выходные данные\n",
    "Вывести символы по коду в строку через пробел."
   ],
   "metadata": {
    "collapsed": false
   },
   "id": "7d9d0d4426a032d9"
  },
  {
   "cell_type": "code",
   "execution_count": null,
   "outputs": [],
   "source": [
    "def user_input(count):\n",
    "    result = list()\n",
    "    for i in range(count):\n",
    "        result.append(chr(int(input())))\n",
    "    return result\n",
    "\n",
    "x = int(input())\n",
    "data = user_input((x))\n",
    "print(' '.join(map(str,data)))"
   ],
   "metadata": {
    "collapsed": false
   },
   "id": "5d87fcdc81573d27"
  },
  {
   "cell_type": "markdown",
   "source": [
    "# Задача №3\n",
    "https://stepik.org/lesson/806246/step/4?unit=809375\n",
    "\n",
    "На вход программе подаётся ровно один символ. Надо определить, является ли он заглавной латинской буквой или нет. Если является заглавной латинской буквой, то надо вывести сообщение - YES, иначе вывести - NO."
   ],
   "metadata": {
    "collapsed": false
   },
   "id": "7ac765fd0a97f948"
  },
  {
   "cell_type": "code",
   "execution_count": null,
   "outputs": [],
   "source": [
    "# код заглавных латинских букв в таблице ASCII 65-90\n",
    "def check_letter(letter_code):\n",
    "    if letter_code in range(65,91):\n",
    "        return 'YES'\n",
    "    return 'NO'\n",
    "\n",
    "x = ord(input())\n",
    "print (check_letter(x))\n"
   ],
   "metadata": {
    "collapsed": false
   },
   "id": "1ab964fea82cf159"
  },
  {
   "cell_type": "markdown",
   "source": [
    "Задача №4\n",
    "https://stepik.org/lesson/806246/step/5?unit=809375\n",
    "\n",
    "На вход программе подаётся ровно один символ. Надо определить, является ли он заглавной или малой латинской буквой. Если является латинской буквой, то надо вывести сообщение - True, иначе вывести - False."
   ],
   "metadata": {
    "collapsed": false
   },
   "id": "3dad2baf99234ae2"
  },
  {
   "cell_type": "code",
   "execution_count": null,
   "outputs": [],
   "source": [
    "# код латинских букв в таблице ASCII 65-90, 97-122\n",
    "def check_letter(letter_code):\n",
    "    if letter_code in range(65,91) or letter_code in range(97, 123):\n",
    "        return True\n",
    "    return False\n",
    "\n",
    "x = ord(input())\n",
    "print (check_letter(x))"
   ],
   "metadata": {
    "collapsed": false
   },
   "id": "8c99d111626468c4"
  },
  {
   "cell_type": "markdown",
   "source": [
    "# Задача №5\n",
    "https://stepik.org/lesson/806246/step/6?unit=809375\n",
    "\n",
    "На вход программы подаётся один символ. Нужно вывести в одну строку два предыдущих символа, введённый символ и два следующих символа."
   ],
   "metadata": {
    "collapsed": false
   },
   "id": "b4195abee52d9b7b"
  },
  {
   "cell_type": "code",
   "execution_count": null,
   "outputs": [],
   "source": [
    "x = ord(input())\n",
    "print(f'{chr(x-2)} {chr(x-1)} {chr(x)} {chr(x+1)} {chr(x+2)}')    "
   ],
   "metadata": {
    "collapsed": false
   },
   "id": "fe23c7dfc809ce02"
  },
  {
   "cell_type": "markdown",
   "source": [
    "# Задача №6\n",
    "https://stepik.org/lesson/806246/step/7?unit=809375\n",
    "\n",
    "Выведите подряд, без пробелов, все символы, лежащие в таблице ASCII между двумя заданными символами.\n",
    "\n",
    "Входные данные\n",
    "Программа получает на вход два символа, каждый в отдельной строке.\n",
    "\n",
    "Выходные данные\n",
    "Программа должна вывести строку, начинающуюся первым из заданных символов и заканчивающуюся вторым."
   ],
   "metadata": {
    "collapsed": false
   },
   "id": "ee16a35f81f241e"
  },
  {
   "cell_type": "code",
   "execution_count": null,
   "outputs": [],
   "source": [
    "start = ord(input())\n",
    "end = ord(input())\n",
    "result=''\n",
    "for i in range(start, end+1):\n",
    "    result = result + chr(i)\n",
    "\n",
    "print(result)"
   ],
   "metadata": {
    "collapsed": false
   },
   "id": "2b46bf6a01152fa2"
  },
  {
   "cell_type": "markdown",
   "source": [
    "# Задача №7\n",
    "https://stepik.org/lesson/806246/step/9?unit=809375\n",
    "\n",
    "Напишите программу, которая переводит данный символ в верхний регистр.\n",
    "\n",
    "Входные данные\n",
    "Задан единственный символ.\n",
    "\n",
    "Выходные данные\n",
    "Если символ является строчной буквой латинского алфавита (то есть буквой от a до z), выведите вместо него аналогичную заглавную букву, иначе выведите тот же самый символ (такая операция называется \"перевод в верхний регистр\")."
   ],
   "metadata": {
    "collapsed": false
   },
   "id": "5a291d739c3db67c"
  },
  {
   "cell_type": "code",
   "execution_count": null,
   "outputs": [],
   "source": [
    "x = input()\n",
    "shift = 32\n",
    "if 'a' <= x <= 'z':\n",
    "    code = ord(x)\n",
    "    code -= shift\n",
    "    print(chr(code))\n",
    "else:\n",
    "    print(x)"
   ],
   "metadata": {
    "collapsed": false
   },
   "id": "a0a6495e81e232fb"
  },
  {
   "cell_type": "markdown",
   "source": [
    "# Задача №8\n",
    "https://stepik.org/lesson/806246/step/10?unit=809375\n",
    "\n",
    "Измените регистр символа, если он был латинской буквой: сделайте его заглавным, если он был строчной буквой и наоборот. Все остальные символы остаются без изменений\n",
    "\n",
    "Входные данные\n",
    "Задан единственный символ с.\n",
    "\n",
    "Выходные данные\n",
    "Необходимо вывести  получившийся символ."
   ],
   "metadata": {
    "collapsed": false
   },
   "id": "22ef5267d286cbb2"
  },
  {
   "cell_type": "code",
   "execution_count": null,
   "outputs": [],
   "source": [
    "def revers_case(char):\n",
    "    shift = 32\n",
    "    if 'a' <= char <= 'z':\n",
    "        code = ord(char)\n",
    "        code -= shift\n",
    "        return chr(code)\n",
    "    elif 'A' <= char <= 'Z':\n",
    "        code = ord(char)\n",
    "        code += shift\n",
    "        return chr(code)\n",
    "    return char\n",
    "\n",
    "x = input()\n",
    "print(revers_case(x))"
   ],
   "metadata": {
    "collapsed": false
   },
   "id": "fc5c786e1d97895d"
  }
 ],
 "metadata": {
  "kernelspec": {
   "display_name": "Python 3",
   "language": "python",
   "name": "python3"
  },
  "language_info": {
   "codemirror_mode": {
    "name": "ipython",
    "version": 2
   },
   "file_extension": ".py",
   "mimetype": "text/x-python",
   "name": "python",
   "nbconvert_exporter": "python",
   "pygments_lexer": "ipython2",
   "version": "2.7.6"
  }
 },
 "nbformat": 4,
 "nbformat_minor": 5
}
