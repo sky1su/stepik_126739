{
 "cells": [
  {
   "cell_type": "markdown",
   "source": [
    "# Задача №1\n",
    "https://stepik.org/lesson/806254/step/2?unit=809383\n",
    "\n",
    "Дан массив, состоящий из целых чисел. Напишите программу, которая выводит те элементы массива, которые являются чётными числами.\n",
    "\n",
    "Входные данные:\n",
    "Сначала задано число N — количество элементов в массиве (1≤N≤100).\n",
    "Далее через пробел записаны N чисел — элементы массива. Массив состоит из целых чисел.\n",
    "\n",
    "Выходные данные:\n",
    "Необходимо вывести одной строкой все четные элементы массива (то есть те элементы, которые являются четными числами)."
   ],
   "metadata": {
    "collapsed": false
   },
   "id": "66c0903f9e5b2759"
  },
  {
   "cell_type": "code",
   "execution_count": null,
   "outputs": [],
   "source": [
    "import string\n",
    "\n",
    "n = int(input())\n",
    "array = map(int, input().split())\n",
    "result = ''\n",
    "for item in array:\n",
    "    if item % 2 == 0:\n",
    "        result = result + f'{item} ' \n",
    "\n",
    "print(result)"
   ],
   "metadata": {
    "collapsed": false
   },
   "id": "c393d05e5f5e20c3"
  },
  {
   "cell_type": "code",
   "execution_count": null,
   "outputs": [],
   "source": [
    "n = int(input())\n",
    "array = map(int, input().split())\n",
    "x = int(input())\n",
    "count = 0\n",
    "for item in array:\n",
    "    if item ==  x:\n",
    "        count += 1\n",
    "print(count)"
   ],
   "metadata": {
    "collapsed": false
   },
   "id": "e0a5cea6c7e6a5e6"
  },
  {
   "cell_type": "markdown",
   "source": [
    "# Задача №3\n",
    "https://stepik.org/lesson/806254/step/4?unit=809383\n",
    "\n",
    "Напишите программу, которая выводит номера элементов массива, равных заданному значению X .\n",
    "\n",
    "Входные данные:\n",
    "Первая строка содержит размер массива N . Во второй строке через пробел задаются N чисел – элементы массива.\n",
    "В третьей строке записано число X . Гарантируется, что 0 < N ≤ 10000 .\n",
    "\n",
    "Выходные данные:\n",
    "Программа должна вывести в одной строке номера элементов массива, равных X , разделив их пробелами. Предполагается, что нумерация начинается с единицы. Если таких элементов нет, нужно вывести число -1."
   ],
   "metadata": {
    "collapsed": false
   },
   "id": "3f45845b3b2e7457"
  },
  {
   "cell_type": "code",
   "execution_count": null,
   "outputs": [],
   "source": [
    "n = int(input())\n",
    "array = list(map(int, input().split()))\n",
    "x = int(input())\n",
    "count = list()\n",
    "for i in range(n):\n",
    "    if array[i] ==  x:\n",
    "        count.append(str(i+1))\n",
    "if len(count) == 0:\n",
    "    print('-1')\n",
    "else:\n",
    "    print(' '.join(count))"
   ],
   "metadata": {
    "collapsed": false
   },
   "id": "b015c2d07616e0e7"
  },
  {
   "cell_type": "markdown",
   "source": [
    "# Задача №4\n",
    "https://stepik.org/lesson/806254/step/5?unit=809383\n",
    "\n",
    "Дан массив, состоящий из целых чисел. Напишите программу, которая подсчитывает количество положительных чисел среди элементов массива.\n",
    "\n",
    "Входные данные:\n",
    "Сначала задано число N — количество элементов в массиве (1≤ N ≤10000). \n",
    "Далее через пробел записаны N чисел — элементы массива. Массив состоит из целых чисел.\n",
    "\n",
    "Выходные данные:\n",
    "Необходимо единственное число - количество положительных элементов в массиве."
   ],
   "metadata": {
    "collapsed": false
   },
   "id": "fed18b766097fdae"
  },
  {
   "cell_type": "code",
   "execution_count": null,
   "outputs": [],
   "source": [
    "n = input()\n",
    "array = list(map(int, input().split()))\n",
    "count = 0\n",
    "for item in array:\n",
    "    if item > 0:\n",
    "        count += 1\n",
    "print(count)"
   ],
   "metadata": {
    "collapsed": false
   },
   "id": "664bcf847400ea7d"
  },
  {
   "cell_type": "markdown",
   "source": [
    "# Задача №5\n",
    "https://stepik.org/lesson/806254/step/6?unit=809383\n",
    "\n",
    "Дан массив, состоящий из целых чисел. Напишите программу, которая подсчитывает сумму отрицательных элементов целочисленного массива. Если отрицательных элементов нет, выведите NO.\n",
    "\n",
    "Входные данные:\n",
    "Сначала задано число N — количество элементов в массиве (1≤ N ≤10000). \n",
    "Далее через пробел записаны N чисел — элементы массива. Массив состоит из целых чисел.\n",
    "\n",
    "Выходные данные:\n",
    "Необходимо вывести сумму отрицательных элементов массива или сообщение NO."
   ],
   "metadata": {
    "collapsed": false
   },
   "id": "69dc408b4c2fd66e"
  },
  {
   "cell_type": "code",
   "execution_count": null,
   "outputs": [],
   "source": [
    "n = input()\n",
    "array = list(map(int, input().split()))\n",
    "negative_sum = 0\n",
    "for item in array:\n",
    "    if item < 0:\n",
    "        negative_sum = negative_sum + item\n",
    "if negative_sum == 0:\n",
    "    print('NO')\n",
    "else:\n",
    "    print(negative_sum)"
   ],
   "metadata": {
    "collapsed": false
   },
   "id": "33703ac1758b6efa"
  },
  {
   "cell_type": "markdown",
   "source": [
    "# Задача №6\n",
    "https://stepik.org/lesson/806254/step/7?unit=809383\n",
    "\n",
    "Дан массив, состоящий из целых чисел. Напишите программу, которая подсчитывает среднее арифметическое отрицательных элементов целочисленного массива. Гарантируется, что в последовательности есть хотя бы один отрицательный элемент.\n",
    "\n",
    "Входные данные:\n",
    "Сначала задано число N — количество элементов в массиве (1≤ N ≤10000). \n",
    "Далее через пробел записаны N чисел — элементы массива. Массив состоит из целых чисел.\n",
    "\n",
    "Выходные данные:\n",
    "Необходимо вывести среднее арифметическое отрицательных элементов массива."
   ],
   "metadata": {
    "collapsed": false
   },
   "id": "5c96b446dcfc7526"
  },
  {
   "cell_type": "code",
   "execution_count": null,
   "outputs": [],
   "source": [
    "n = input()\n",
    "array = list(map(int, input().split()))\n",
    "numbers_list = list()\n",
    "count = 0\n",
    "for item in array:\n",
    "    if item < 0:\n",
    "        numbers_list.append(item)\n",
    "        count += 1\n",
    "num_sum = sum(numbers_list)\n",
    "print(num_sum / count)\n"
   ],
   "metadata": {
    "collapsed": false
   },
   "id": "60c28bb6eab8d1be"
  },
  {
   "cell_type": "markdown",
   "source": [
    "# Задача №7\n",
    "https://stepik.org/lesson/806254/step/8?unit=809383\n",
    "\n",
    "В вещественном массиве задан вес спортсменок одной команды (в килограммах с округлением до десятых). Напишите программу подсчёта количества спортсменок, чей вес превышает 50 кг, но не более 57 кг. Если таких спортсменок нет, выведите -1.\n",
    "\n",
    "Входные данные:\n",
    "В первой строке подаётся количество спортсменок, натуральное число N.\n",
    "Во второй строке подаётся вес спортсменок одной строкой через пробел. Вес спортсменок - действительные числа.\n",
    "\n",
    "Выходные данные:\n",
    "Программа должна вывести число - количество спортсменок, чей вес превышает 50 кг, но не более 57 кг или -1, если не было спортсменок с таким весом."
   ],
   "metadata": {
    "collapsed": false
   },
   "id": "84646699957efdf5"
  },
  {
   "cell_type": "code",
   "execution_count": null,
   "outputs": [],
   "source": [
    "n = int(input())\n",
    "array = map(float, input().split())\n",
    "count = 0\n",
    "for item in array:\n",
    "    if 50.0 < item <= 57.0:\n",
    "        count += 1\n",
    "if count == 0:\n",
    "    print(-1)\n",
    "else:\n",
    "    print(count)"
   ],
   "metadata": {
    "collapsed": false
   },
   "id": "9d1a632f462f9166"
  },
  {
   "cell_type": "markdown",
   "source": [
    "# Задача №8\n",
    "https://stepik.org/lesson/806254/step/10?unit=809383\n",
    "\n",
    "На вход программы подаётся набор слов. Между словами имеется ровно один пробел. Напишите программу, которая находит среднюю длину слов. Среднюю длину выразите целым числом, округлённым вниз.\n",
    "\n",
    "Входные данные:\n",
    "Строка, состоящая из различных символов. Между словами имеется ровно один пробел.\n",
    "\n",
    "Выходные данные:\n",
    "Целое число - средняя длина слов."
   ],
   "metadata": {
    "collapsed": false
   },
   "id": "71508b0dc02ff6a"
  },
  {
   "cell_type": "code",
   "execution_count": null,
   "outputs": [],
   "source": [
    "array = list(input().split())\n",
    "count = sum(map(len, array))\n",
    "print(count // len(array))"
   ],
   "metadata": {
    "collapsed": false
   },
   "id": "7530144fd1ea86ed"
  },
  {
   "cell_type": "markdown",
   "source": [
    "# Задача №9\n",
    "https://stepik.org/lesson/806254/step/11?unit=809383\n",
    "\n",
    "На вход программы подаётся набор слов. Между словами имеется ровно один пробел. Напишите программу, которая находит количество слов, состоящих ровно из двух символов. \n",
    "\n",
    "Входные данные:\n",
    "Строка, состоящая из различных символов. Между словами имеется ровно один пробел.\n",
    "\n",
    "Выходные данные:\n",
    "Целое число - количество слов, состоящих из двух символов."
   ],
   "metadata": {
    "collapsed": false
   },
   "id": "668d9bd6e77d54c"
  },
  {
   "cell_type": "code",
   "execution_count": null,
   "outputs": [],
   "source": [
    "array = list(input().split())\n",
    "count = 0\n",
    "for item in array:\n",
    "    if len(item) == 2:\n",
    "        count += 1\n",
    "print(count)"
   ],
   "metadata": {
    "collapsed": false
   },
   "id": "5a1265e47fa503d0"
  },
  {
   "cell_type": "markdown",
   "source": [
    "# Задача №10\n",
    "https://stepik.org/lesson/806254/step/12?unit=809383\n",
    "\n",
    "На вход программы подаётся набор предложений. Между словами имеется ровно один пробел. Каждое предложение заканчивается точкой. Второй строкой подаётся натуральное число - номер предложения, которое надо напечатать на экране.\n",
    "\n",
    "Входные данные:\n",
    "Набор предложений с точками в конце. Между словами - один пробел.\n",
    "Второй строкой - номер предложения, которое надо напечатать на экране.\n",
    "\n",
    "Выходные данные:\n",
    "Предложение, номер которого вводился с экрана. В конце предложения должна стоять точка. Нумерация начинается с единицы.\n",
    "\n",
    "Указание: Организуйте массив строк с помощью такой команды: A = list(input().split(\". \")). В функции split() в качестве разделителя укажите точку с пробелом."
   ],
   "metadata": {
    "collapsed": false
   },
   "id": "b8a4c500eb10449f"
  },
  {
   "cell_type": "code",
   "execution_count": null,
   "outputs": [],
   "source": [
    "array = list(input().split('.')) # Несмотря на прямое указание в задании использовать разделитель '. ' - такой вариант не проходит тесты!\n",
    "x = int(input())\n",
    "print(f'{array[x - 1]}.')"
   ],
   "metadata": {
    "collapsed": false
   },
   "id": "46663d86974615a7"
  },
  {
   "cell_type": "markdown",
   "source": [
    "# Задача №11\n",
    "https://stepik.org/lesson/806254/step/13?unit=809383\n",
    "\n",
    "Напишите программу, которая преобразует строку, содержащую имя, отчество и фамилию человека, к форме\n",
    "<фамилия> <инициалы>\n",
    "\n",
    "Входные данные: \n",
    "Входная строка содержит имя, отчество и фамилию, разделённые одиночными пробелами.\n",
    "\n",
    "Выходные данные:\n",
    "Программа должна вывести в одной строке сначала фамилию, а потом (через пробел) – инициалы."
   ],
   "metadata": {
    "collapsed": false
   },
   "id": "ce24df997f81ff24"
  },
  {
   "cell_type": "code",
   "execution_count": null,
   "outputs": [],
   "source": [
    "data = list(input().split())\n",
    "print(f'{data[2]} {data[0][0]}.{data[1][0]}.')"
   ],
   "metadata": {
    "collapsed": false
   },
   "id": "d0b40a03e9273189"
  },
  {
   "cell_type": "markdown",
   "source": [
    "# Задача №12\n",
    "https://stepik.org/lesson/806254/step/14?unit=809383\n",
    "\n",
    "Напишите программу, которая преобразует строку, содержащую фамилию, имя и отчество человека, к форме\n",
    "<инициалы> <фамилия>\n",
    "\n",
    "Входные данные:  \n",
    "Входная строка содержит фамилию, имя и отчество, разделённые одиночными пробелами.\n",
    "\n",
    "Выходные данные:\n",
    "Программа должна вывести в одной строке сначала инициалы, а потом (через пробел) – фамилию."
   ],
   "metadata": {
    "collapsed": false
   },
   "id": "8f787093f3152896"
  },
  {
   "cell_type": "code",
   "execution_count": null,
   "outputs": [],
   "source": [
    "data = list(input().split())\n",
    "print(f'{data[1][0]}.{data[2][0]}. {data[0]}')"
   ],
   "metadata": {
    "collapsed": false
   },
   "id": "cfc1bba415ef148c"
  }
 ],
 "metadata": {
  "kernelspec": {
   "display_name": "Python 3",
   "language": "python",
   "name": "python3"
  },
  "language_info": {
   "codemirror_mode": {
    "name": "ipython",
    "version": 2
   },
   "file_extension": ".py",
   "mimetype": "text/x-python",
   "name": "python",
   "nbconvert_exporter": "python",
   "pygments_lexer": "ipython2",
   "version": "2.7.6"
  }
 },
 "nbformat": 4,
 "nbformat_minor": 5
}
