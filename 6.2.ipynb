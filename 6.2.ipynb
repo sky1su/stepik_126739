{
 "cells": [
  {
   "cell_type": "markdown",
   "source": [
    "# Задача №1\n",
    "https://stepik.org/lesson/806247/step/2?unit=809376\n",
    "\n",
    "На вход программы подаётся строка. Надо написать программу, которая будет определять количество символов в данной строке и выводить его на экран.\n",
    "\n",
    "Входные данные\n",
    "Строка символов.\n",
    "\n",
    "Выходные данные\n",
    "Одно число - количество символов в строке."
   ],
   "metadata": {
    "collapsed": false
   },
   "id": "7b85ee9c55af4f07"
  },
  {
   "cell_type": "code",
   "execution_count": null,
   "outputs": [],
   "source": [
    "s = input()\n",
    "print(len(s))"
   ],
   "metadata": {
    "collapsed": false
   },
   "id": "e4967b21fb4703b2"
  },
  {
   "cell_type": "markdown",
   "source": [
    "# Задача №2\n",
    "https://stepik.org/lesson/806247/step/3?unit=809376\n",
    "\n",
    "На вход программы подаётся сначала число n, а потом n строк в столбик. Надо найти суммарное количество символов во всех введённых строках.\n",
    "\n",
    "Входные данные\n",
    "Число n, далее n строк по одной.\n",
    "\n",
    "Выходные данные\n",
    "Одно число - количество символов во всех строках."
   ],
   "metadata": {
    "collapsed": false
   },
   "id": "3a70babbe38e9144"
  },
  {
   "cell_type": "code",
   "execution_count": null,
   "outputs": [],
   "source": [
    "def user_input(count: int):\n",
    "    data = list()\n",
    "    for i in range(count):\n",
    "        data.append(input())\n",
    "    return data\n",
    "\n",
    "count = int(input())\n",
    "data = user_input(count)\n",
    "total_len = (len(''.join(data)))\n",
    "print(total_len)"
   ],
   "metadata": {
    "collapsed": false
   },
   "id": "bf535fef22a3ca99"
  },
  {
   "cell_type": "markdown",
   "source": [
    "# Задача №3\n",
    "https://stepik.org/lesson/806247/step/4?unit=809376\n",
    "\n",
    "На вход программы подаётся сначала строка. Далее подаётся через пробел 2 индекса - целые числа. Надо вывести символы, которые находятся в строке под этими индексами одной строкой через пробел.\n",
    "\n",
    "Входные данные\n",
    "Строка и далее два целых числа через пробел.\n",
    "\n",
    "Выходные данные\n",
    "Два символа, индексы которых были введены, одной строкой через пробел."
   ],
   "metadata": {
    "collapsed": false
   },
   "id": "503f6f06d9c24880"
  },
  {
   "cell_type": "code",
   "execution_count": null,
   "outputs": [],
   "source": [
    "s = input()\n",
    "x1, x2 = map(int, input().split())\n",
    "print(s[x1], s[x2])"
   ],
   "metadata": {
    "collapsed": false
   },
   "id": "35f55603401e2583"
  },
  {
   "cell_type": "markdown",
   "source": [
    "# Задача №4\n",
    "https://stepik.org/lesson/806247/step/5?unit=809376\n",
    "\n",
    "Напишите программу, которая считывает строку с клавиатуры, затем выводит на каждой строке этот символ столько раз, какой он по счёту в данной строке. Отсчёт начинается с 1."
   ],
   "metadata": {
    "collapsed": false
   },
   "id": "e8b0ecd47773d6e"
  },
  {
   "cell_type": "code",
   "execution_count": null,
   "outputs": [],
   "source": [
    "s = input()\n",
    "count = 1\n",
    "for l in s:\n",
    "    print(l * count)\n",
    "    count +=1"
   ],
   "metadata": {
    "collapsed": false
   },
   "id": "f28db2c6838ff803"
  },
  {
   "cell_type": "markdown",
   "source": [
    "# Задача №5\n",
    "https://stepik.org/lesson/806247/step/7?unit=809376\n",
    "\n",
    "На вход программе подаётся строка, в которой имеется несколько слов. Слова друг от друга отделяются ровно одним пробелом. Определите количество слов в ведённой строке.\n",
    "\n",
    "Входные данные\n",
    "Строка, слова в которой отделены друг от друга пробелом\n",
    "\n",
    "Выходные данные\n",
    "Выдать одно число - количество слов"
   ],
   "metadata": {
    "collapsed": false
   },
   "id": "fe1e806ac4175a47"
  },
  {
   "cell_type": "code",
   "execution_count": null,
   "outputs": [],
   "source": [
    "data = input().split()\n",
    "print(len(data))"
   ],
   "metadata": {
    "collapsed": false
   },
   "id": "6e271bf60c362bba"
  },
  {
   "cell_type": "markdown",
   "source": [
    "# Задача №6\n",
    "https://stepik.org/lesson/806247/step/8?unit=809376\n",
    "\n",
    "На вход программе подаётся строка, в которой имеется несколько слов. Слова друг от друга отделяются ровно одним пробелом. Определите количество слов, которые начинаются с буквы t. Регистр не имеет значения.\n",
    "\n",
    "Входные данные\n",
    "Строка, слова в которой отделены друг от друга пробелом\n",
    "\n",
    "Выходные данные\n",
    "Выдать одно число - количество слов, которые начинаются с символа t. Регистр не имеет значения."
   ],
   "metadata": {
    "collapsed": false
   },
   "id": "d5a1f34c8a8aa3a6"
  },
  {
   "cell_type": "code",
   "execution_count": null,
   "outputs": [],
   "source": [
    "def check_t(s: str):\n",
    "    if 't' == s[0].lower():\n",
    "        return True\n",
    "    return False\n",
    "\n",
    "data = input().split()\n",
    "count_word = 0\n",
    "for word in data:\n",
    "    if check_t(word):\n",
    "        count_word += 1\n",
    "        \n",
    "print(count_word)"
   ],
   "metadata": {
    "collapsed": false
   },
   "id": "1e05420a40fb51e5"
  },
  {
   "cell_type": "markdown",
   "source": [
    "Задача №7\n",
    "https://stepik.org/lesson/806247/step/9?unit=809376\n",
    "\n",
    "На вход программы подаётся строка, записанная в нижнем регистре. Определите, есть ли в строке сочетание символов \"pro\". На экран надо выдать сообщение True, если есть такая комбинация символов, иначе - False.\n",
    "\n",
    "Входные данные\n",
    "Строка, символы которой записаны в нижнем регистре.\n",
    "\n",
    "Выходные данные\n",
    "Выдать сообщение True, если есть комбинация символов pro, иначе - False."
   ],
   "metadata": {
    "collapsed": false
   },
   "id": "793e76ffddb03a96"
  },
  {
   "cell_type": "code",
   "execution_count": null,
   "outputs": [],
   "source": [
    "def check_substr(s: str, subs: str):\n",
    "    if s.find(subs) != -1:\n",
    "        return True\n",
    "    return False\n",
    "\n",
    "s = input()\n",
    "print(check_substr(s, 'pro'))"
   ],
   "metadata": {
    "collapsed": false
   },
   "id": "6c97d63c8c61b47d"
  },
  {
   "cell_type": "markdown",
   "source": [
    "# Задача №8\n",
    "https://stepik.org/lesson/806247/step/10?unit=809376\n",
    "\n",
    "На вход программы подаётся строка, записанная на русском языке в нижнем регистре. Определите, сколько в ней гласных и сколько согласных букв. \n",
    "\n",
    "В русском языке 10 гласных букв (а, у, о, ы, и, э, я, ю, ё, е) и 21 согласная буква  (б, в, г, д, ж, з, й, к, л, м, н, п, р, с, т, ф, х, ц, ч, ш, щ).\n",
    "\n",
    "Входные данные\n",
    "Строка, символы которой записаны на русском языке в нижнем регистре.\n",
    "\n",
    "Выходные данные\n",
    "Выдать сначала количество гласных букв, через пробел количество согласных."
   ],
   "metadata": {
    "collapsed": false
   },
   "id": "c6d3dec681ee071b"
  },
  {
   "cell_type": "code",
   "execution_count": null,
   "outputs": [],
   "source": [
    "def count_letters(s: str):\n",
    "    consonants = list('ауоыиэяюёе')\n",
    "    vowels = list(('бвгджзйклмнпрстфхцчшщ'))    \n",
    "    count_consonants = 0\n",
    "    count_vowels = 0\n",
    "    for letter in s:\n",
    "        if letter in consonants:\n",
    "            count_consonants += 1\n",
    "        if letter in vowels:\n",
    "            count_vowels += 1\n",
    "    return f'{count_consonants} {count_vowels}'\n",
    "\n",
    "s = input()\n",
    "print(count_letters(s))"
   ],
   "metadata": {
    "collapsed": false
   },
   "id": "6c5d4ecd63bec088"
  },
  {
   "cell_type": "markdown",
   "source": [
    "# Задача №9\n",
    "https://stepik.org/lesson/806247/step/11?unit=809376\n",
    "\n",
    "Напишите программу, которая запрашивает строку, состоящую только из строчных латинских букв и цифр, и выводит слово 'LETTERS', если строка полностью состоит из букв, слово 'DIGITS', если строка полностью состоит из цифр, и слово 'ANOTHER', если в строке есть и цифры и буквы.\n",
    "\n",
    "Входные данные\n",
    "Строка, состоящая из строчных латинских букв и цифр\n",
    "\n",
    "Выходные данные\n",
    "\"LETTERS\", если строка полностью состоит из букв.\n",
    "\"DIGITS\", если строка полностью состоит из цифр.\n",
    "\"ANOTHER\", если в строке есть и цифры и буквы."
   ],
   "metadata": {
    "collapsed": false
   },
   "id": "960993c8f578207d"
  },
  {
   "cell_type": "code",
   "execution_count": null,
   "outputs": [],
   "source": [
    "def check_string(s: str):\n",
    "    if s.isdigit():\n",
    "        return 'DIGITS'\n",
    "    if s.isalpha():\n",
    "         return 'LETTERS'\n",
    "    return 'ANOTHER'\n",
    "    \n",
    "s = input()\n",
    "print(check_string(s))"
   ],
   "metadata": {
    "collapsed": false
   },
   "id": "5e2d9da7238e8236"
  }
 ],
 "metadata": {
  "kernelspec": {
   "display_name": "Python 3",
   "language": "python",
   "name": "python3"
  },
  "language_info": {
   "codemirror_mode": {
    "name": "ipython",
    "version": 2
   },
   "file_extension": ".py",
   "mimetype": "text/x-python",
   "name": "python",
   "nbconvert_exporter": "python",
   "pygments_lexer": "ipython2",
   "version": "2.7.6"
  }
 },
 "nbformat": 4,
 "nbformat_minor": 5
}
