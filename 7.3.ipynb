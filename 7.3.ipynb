{
 "cells": [
  {
   "cell_type": "markdown",
   "source": [
    "# Задача №1\n",
    "https://stepik.org/lesson/806255/step/2?unit=809384\n",
    "\n",
    "Имеется массив данных с фамилиями писателей 19 века. Определите, есть ли среди них нужный автор. \n",
    "\n",
    "Входные данные:\n",
    "Первой строкой подаются фамилии писателей 19 века. Фамилии разделены ровно одним пробелом.\n",
    "Второй строкой подаётся фамилия писателя, которого надо найти в списке.\n",
    "\n",
    "Выходные данные:\n",
    "Программа должна напечатать YES, если автор был найден. В противном случае программа должна напечатать NO."
   ],
   "metadata": {
    "collapsed": false
   },
   "id": "f0d879911dbe639b"
  },
  {
   "cell_type": "code",
   "execution_count": null,
   "outputs": [],
   "source": [
    "data = input().split()\n",
    "x = input()\n",
    "if x in data:\n",
    "    print('YES')\n",
    "else:\n",
    "    print('NO')"
   ],
   "metadata": {
    "collapsed": false
   },
   "id": "b1f403643ecd1419"
  },
  {
   "cell_type": "markdown",
   "source": [
    "# Задача №2\n",
    "https://stepik.org/lesson/806255/step/3?unit=809384\n",
    "\n",
    "Напишите программу, которая определяет, есть в массиве элемент, равный квадрату заданного значения X .\n",
    "\n",
    "Входные данные:\n",
    "Первая строка содержит размер массива N. Гарантируется, что 0 < N ≤ 10000.\n",
    "Во второй строке через пробел задаются N  целых чисел – элементы массива.\n",
    "В третьей строке записано число X.\n",
    "\n",
    "Выходные данные:\n",
    "Программа должна вывести одно из двух сообщений - YES или NO в зависимости от того, найден ли был квадрат числа X в массиве."
   ],
   "metadata": {
    "collapsed": false
   },
   "id": "3f4e1392065d9ca0"
  },
  {
   "cell_type": "code",
   "execution_count": null,
   "outputs": [],
   "source": [
    "n = int(input())\n",
    "data = list(map(int,input().split()))\n",
    "x = int(input())\n",
    "pow_x = x * x\n",
    "if pow_x in data:\n",
    "    print('YES')\n",
    "else:\n",
    "    print('NO')"
   ],
   "metadata": {
    "collapsed": false
   },
   "id": "56498b6444818b96"
  },
  {
   "cell_type": "markdown",
   "source": [
    "# Задача №3\n",
    "https://stepik.org/lesson/806255/step/4?unit=809384\n",
    "\n",
    "Напишите программу, которая определяет, есть в массиве хотя бы один элемент, который находится в диапазоне [a, b].\n",
    "\n",
    "Входные данные:\n",
    "Первая строка содержит размер массива N. Гарантируется, что 0 < N ≤ 10000.\n",
    "Во второй строке через пробел задаются N действительных чисел – элементы массива.\n",
    "В третьей строке записаны два действительных числа a, b. Гарантируется, что a<=b.\n",
    "\n",
    "Выходные данные:\n",
    "Программа должна вывести одно из двух сообщений - YES или NO в зависимости от того, найден ли был элемент массива, принадлежащий отрезку [a, b]."
   ],
   "metadata": {
    "collapsed": false
   },
   "id": "a57396d2e521709f"
  },
  {
   "cell_type": "code",
   "execution_count": null,
   "outputs": [],
   "source": [
    "n = int(input())\n",
    "data = list(map(float, input().split()))\n",
    "a,b = map(float, input().split())\n",
    "f = 'NO'\n",
    "\n",
    "for i in range(n):\n",
    "    if a <= data[i] <= b:\n",
    "        f = 'YES'\n",
    "print(f)"
   ],
   "metadata": {
    "collapsed": false
   },
   "id": "d652b186aa7967c"
  },
  {
   "cell_type": "markdown",
   "source": [
    "# Задача №4\n",
    "https://stepik.org/lesson/806255/step/5?unit=809384\n",
    "\n",
    "Напишите программу, которая определяет, есть в массиве элемент, который является полным квадратом.\n",
    "\n",
    "Входные данные:\n",
    "Первая строка содержит размер массива N. Гарантируется, что 0 < N ≤ 10000.\n",
    "Во второй строке через пробел задаются N  натуральных чисел – элементы массива.\n",
    "\n",
    "Выходные данные:\n",
    "Программа должна вывести одно из двух сообщений - True или False в зависимости от того, найден ли был полный квадрат в массиве или нет.\n",
    "\n",
    "Если не знаете, что такое полный квадрат, посмотрите в Википедии статью  полный квадрат."
   ],
   "metadata": {
    "collapsed": false
   },
   "id": "9f4869911dcf0ca1"
  },
  {
   "cell_type": "code",
   "execution_count": null,
   "outputs": [],
   "source": [],
   "metadata": {
    "collapsed": false
   },
   "id": "e950dbc95fbb6795"
  }
 ],
 "metadata": {
  "kernelspec": {
   "display_name": "Python 3",
   "language": "python",
   "name": "python3"
  },
  "language_info": {
   "codemirror_mode": {
    "name": "ipython",
    "version": 2
   },
   "file_extension": ".py",
   "mimetype": "text/x-python",
   "name": "python",
   "nbconvert_exporter": "python",
   "pygments_lexer": "ipython2",
   "version": "2.7.6"
  }
 },
 "nbformat": 4,
 "nbformat_minor": 5
}
