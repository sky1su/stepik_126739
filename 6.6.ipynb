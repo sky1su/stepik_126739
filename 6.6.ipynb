{
 "cells": [
  {
   "cell_type": "markdown",
   "source": [
    "# Задача №1\n",
    "https://stepik.org/lesson/806251/step/2?unit=809380\n",
    "\n",
    "Напишите программу, которая определяет, верно ли, что введённое число состоит из одинаковых цифр (как, например, число 222).\n",
    "\n",
    "Входные данные:\n",
    "Входная строка содержит одно натуральное число.\n",
    "\n",
    "Выходные данные:\n",
    "Программа должна вывести слово 'YES', если все цифры в числе одинаковые, и слово 'NO', если это неверно."
   ],
   "metadata": {
    "collapsed": false
   },
   "id": "5368f2561fb6b0e6"
  },
  {
   "cell_type": "code",
   "execution_count": null,
   "outputs": [],
   "source": [
    "S = input()\n",
    "f = \"YES\"\n",
    "for i in range(len(S)-1):\n",
    "    if S[i] != S[i+1]:\n",
    "        f = \"NO\"\n",
    "        break\n",
    "print(f)"
   ],
   "metadata": {
    "collapsed": false
   },
   "id": "5b40455c4f195bc"
  },
  {
   "cell_type": "markdown",
   "source": [
    "# Задача №2\n",
    "https://stepik.org/lesson/806251/step/3?unit=809380\n",
    "\n",
    "Напишите программу, которая определяет, верно ли, что введённое число содержит две одинаковых цифры, стоящие рядом (как, например, 12234567).\n",
    "\n",
    "Входные данные:\n",
    "Входная строка содержит одно натуральное число.\n",
    "\n",
    "Выходные данные:\n",
    "Программа должна вывести слово 'YES', если в числе есть две одинаковые цифры, стоящие рядом, и слово 'NO', если такой пары цифр нет."
   ],
   "metadata": {
    "collapsed": false
   },
   "id": "6e3f37c471e6d899"
  },
  {
   "cell_type": "code",
   "execution_count": null,
   "outputs": [],
   "source": [
    "S = input()\n",
    "f = \"NO\"\n",
    "for i in range(len(S)-1):\n",
    "    if S[i] == S[i+1]:\n",
    "        f = \"YES\"\n",
    "print(f)"
   ],
   "metadata": {
    "collapsed": false
   },
   "id": "157bcf3cb6adcd92"
  },
  {
   "cell_type": "markdown",
   "source": [
    "# Задача №3\n",
    "https://stepik.org/lesson/806251/step/4?unit=809380\n",
    "\n",
    "Напишите программу, которая определяет, верно ли, что введённое число содержит по крайней мере две одинаковых цифры, возможно, не стоящие рядом (как, например, 3212467).\n",
    "\n",
    "Входные данные:\n",
    "Входная строка содержит одно натуральное число.\n",
    "\n",
    "Выходные данные:\n",
    "Программа должна вывести слово 'YES', если в числе есть две одинаковые цифры, и слово 'NO', если такой пары цифр нет."
   ],
   "metadata": {
    "collapsed": false
   },
   "id": "cfe0452a79db9e1a"
  },
  {
   "cell_type": "code",
   "execution_count": null,
   "outputs": [],
   "source": [
    "def count_simbols(s: str):\n",
    "    data = {'0': 0,\n",
    "            '1': 0,\n",
    "            '2': 0,\n",
    "            '3': 0,\n",
    "            '4': 0,\n",
    "            '5': 0,\n",
    "            '6': 0,\n",
    "            '7': 0,\n",
    "            '8': 0,\n",
    "            '9': 0\n",
    "            }\n",
    "    for l in s:\n",
    "        data[l] += 1\n",
    "    data = dict(sorted(data.items()))\n",
    "    return data\n",
    "\n",
    "s = input()\n",
    "\n",
    "data = count_simbols(s)\n",
    "\n",
    "flag = 'NO'\n",
    "for key, value in data.items():\n",
    "    if value >= 2:\n",
    "        flag = 'YES'\n",
    "\n",
    "print(flag)    "
   ],
   "metadata": {
    "collapsed": false
   },
   "id": "8f985108c6c3c889"
  },
  {
   "cell_type": "markdown",
   "source": [
    "# Задача №4\n",
    "https://stepik.org/lesson/806251/step/5?unit=809380\n",
    "\n",
    "Напишите программу, которая выводит в столбик цифры введённого числа, начиная с первой. \n",
    "\n",
    "Входные данные:\n",
    "Входная строка содержит неотрицательное число N .\n",
    "\n",
    "Выходные данные:\n",
    "Программа должна вывести в столбик все цифры введённого числа, начиная с первой."
   ],
   "metadata": {
    "collapsed": false
   },
   "id": "9f22d7d87252bf33"
  },
  {
   "cell_type": "code",
   "execution_count": null,
   "outputs": [],
   "source": [
    "s = input()\n",
    "for l in s:\n",
    "    print(l)"
   ],
   "metadata": {
    "collapsed": false
   },
   "id": "5ad076ab774e9a04"
  },
  {
   "cell_type": "markdown",
   "source": [
    "# Задача №5\n",
    "https://stepik.org/lesson/806251/step/7?unit=809380\n",
    "\n",
    "Напишите программу, которая запрашивает строку символов, состоящую только из латинских букв x, y, z  и выводит три числа через пробел, количество букв x, y, z."
   ],
   "metadata": {
    "collapsed": false
   },
   "id": "69adfff8fe68c9a2"
  },
  {
   "cell_type": "code",
   "execution_count": null,
   "outputs": [],
   "source": [
    "def count_simbols(s: str):\n",
    "    data = {'x': 0, 'y': 0, 'z': 0}\n",
    "    for l in s:\n",
    "        data[l] += 1\n",
    "    return data\n",
    "\n",
    "s = input()\n",
    "\n",
    "data = count_simbols(s)\n",
    "result = ' '.join(map(str, data.values()))\n",
    "print(result)\n",
    "    "
   ],
   "metadata": {
    "collapsed": false
   },
   "id": "f333ac5c42aa2e8b"
  },
  {
   "cell_type": "markdown",
   "source": [
    "# Задача №6\n",
    "https://stepik.org/lesson/806251/step/8?unit=809380\n",
    "\n",
    "Напишите программу, которая запрашивает строку символов, состоящую только из латинских букв, и выводит \"YES\", если строка полностью состоит только из букв x, y, z и \"NO\", если в строке есть ещё какие-то буквы."
   ],
   "metadata": {
    "collapsed": false
   },
   "id": "7e4198d545e50409"
  },
  {
   "cell_type": "code",
   "execution_count": null,
   "outputs": [],
   "source": [
    "def check(s: str, substr: str):\n",
    "    for l in s:\n",
    "        if l not in substr:\n",
    "            return 'NO'\n",
    "    return 'YES'\n",
    "\n",
    "s =  input()\n",
    "print(check(s, 'xyz'))"
   ],
   "metadata": {
    "collapsed": false
   },
   "id": "112e0a5b0c7b35d7"
  },
  {
   "cell_type": "markdown",
   "source": [
    "# Задача №7\n",
    "https://stepik.org/lesson/806251/step/9?unit=809380\n",
    "\n",
    "Напишите программу, которая запрашивает строку символов, состоящую только из латинских букв, и выводит все пары соседних символов, если они различны. Если в строке все символы одинаковые -- выведите \"NO\"."
   ],
   "metadata": {
    "collapsed": false
   },
   "id": "dc817dfba572ee78"
  },
  {
   "cell_type": "code",
   "execution_count": null,
   "outputs": [],
   "source": [
    "def string_processing(s: str):\n",
    "    result = list()\n",
    "    for i in range(len(s)-1):\n",
    "        if s[i] != s[i+1]:\n",
    "            result.append(s[i]+s[i+1])\n",
    "    if len(result) == 0:\n",
    "        result.append('NO')\n",
    "        return result\n",
    "    else:\n",
    "        return result\n",
    "    \n",
    "s = input()\n",
    "data = string_processing(s)\n",
    "for i  in data:\n",
    "    print(i)"
   ],
   "metadata": {
    "collapsed": false
   },
   "id": "5341863dc70d2093"
  },
  {
   "cell_type": "markdown",
   "source": [
    "# Задача №8\n",
    "https://stepik.org/lesson/806251/step/10?unit=809380\n",
    "\n",
    "Напишите программу, которая запрашивает строку символов, состоящую только из латинских букв x, y, z и выводит в начале все буквы x, затем все буквы y и в конце все буквы z."
   ],
   "metadata": {
    "collapsed": false
   },
   "id": "d20589fbeb9fe4f4"
  },
  {
   "cell_type": "code",
   "execution_count": null,
   "outputs": [],
   "source": [
    "def count_simbols(s: str):\n",
    "    data = {'x': 0, 'y': 0, 'z': 0}\n",
    "    for l in s:\n",
    "        data[l] += 1\n",
    "    return data\n",
    "\n",
    "s = input()\n",
    "data = count_simbols(s)\n",
    "result = ''\n",
    "for key, value in data.items():\n",
    "    result += key * value\n",
    "\n",
    "print(result)"
   ],
   "metadata": {
    "collapsed": false
   },
   "id": "c49a7dd2f7cf78f"
  },
  {
   "cell_type": "markdown",
   "source": [
    "# Задача №9\n",
    "https://stepik.org/lesson/806251/step/11?unit=809380\n",
    "\n",
    "Напишите программу, которая запрашивает строку символов, состоящую только из латинских букв x, y и z, и выводит начальные позиции всех цепочек xyz. Если нет ни одной цепочки xyz -- вывести \"NO\". Во входной строке не менее  3 символов."
   ],
   "metadata": {
    "collapsed": false
   },
   "id": "d0ac11dc177932"
  },
  {
   "cell_type": "code",
   "execution_count": null,
   "outputs": [],
   "source": [
    "def check(s: str, substr: str):\n",
    "    if s == substr:\n",
    "        return True\n",
    "    return False\n",
    "\n",
    "def processing(s):\n",
    "    result = list()\n",
    "    for i in range(len(s)):\n",
    "        if (check(s[i:i+3],'xyz')):\n",
    "            result.append(i+1)\n",
    "    if len(result) == 0:\n",
    "        result.append('NO')\n",
    "    return result\n",
    "\n",
    "s = input()\n",
    "data = processing(s)\n",
    "print(' '.join(map(str,data)))"
   ],
   "metadata": {
    "collapsed": false
   },
   "id": "be4ce81f7b77a06e"
  }
 ],
 "metadata": {
  "kernelspec": {
   "display_name": "Python 3",
   "language": "python",
   "name": "python3"
  },
  "language_info": {
   "codemirror_mode": {
    "name": "ipython",
    "version": 2
   },
   "file_extension": ".py",
   "mimetype": "text/x-python",
   "name": "python",
   "nbconvert_exporter": "python",
   "pygments_lexer": "ipython2",
   "version": "2.7.6"
  }
 },
 "nbformat": 4,
 "nbformat_minor": 5
}
