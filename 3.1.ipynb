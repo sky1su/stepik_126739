{
 "cells": [
  {
   "cell_type": "markdown",
   "source": [
    "# Задача №1\n",
    "https://stepik.org/lesson/806232/step/3?unit=809361\n",
    "\n",
    "Подаются два целых числа в одной строке через пробел. Выведите значение наименьшего из них.\n",
    " \n",
    "Рекомендация: Задумайтесь, как будет работать ваша программа, если будут введены два одинаковых числа (какая ветка при этом сработает?)"
   ],
   "metadata": {
    "collapsed": false
   },
   "id": "52692a049d4dcccb"
  },
  {
   "cell_type": "code",
   "execution_count": 1,
   "outputs": [
    {
     "name": "stdout",
     "output_type": "stream",
     "text": [
      "8\n"
     ]
    }
   ],
   "source": [
    "x1,x2 = map(int, input().split())\n",
    "if x1 <= x2:\n",
    "    print(x1)\n",
    "else:\n",
    "    print(x2)"
   ],
   "metadata": {
    "collapsed": false,
    "ExecuteTime": {
     "end_time": "2023-11-04T16:19:08.444358Z",
     "start_time": "2023-11-04T16:19:05.452165Z"
    }
   },
   "id": "a54c3634bcdce118"
  },
  {
   "cell_type": "markdown",
   "source": [
    "# Задача №2\n",
    "https://stepik.org/lesson/806232/step/4?unit=809361\n",
    "\n",
    "Даны две строки. Выведите сообщение \"YES\", если каждый символ первой строки совпадает с каждым символом второй строки, то есть строки совпадают. Выведите \"NO\", если строки не совпадают.\n",
    "\n",
    "Указание: Равенство строк определяется с помощью знака ==. "
   ],
   "metadata": {
    "collapsed": false
   },
   "id": "eb44df52d558dca9"
  },
  {
   "cell_type": "code",
   "execution_count": 3,
   "outputs": [
    {
     "name": "stdout",
     "output_type": "stream",
     "text": [
      "NO\n"
     ]
    }
   ],
   "source": [
    "str1 = input()\n",
    "str2 = input()\n",
    "\n",
    "if str1 == str2:\n",
    "    print('YES')\n",
    "else:\n",
    "    print('NO')"
   ],
   "metadata": {
    "collapsed": false,
    "ExecuteTime": {
     "end_time": "2023-11-04T16:22:02.916119Z",
     "start_time": "2023-11-04T16:21:58.163018Z"
    }
   },
   "id": "7da69dd1f3442b3b"
  },
  {
   "cell_type": "markdown",
   "source": [
    "# Задача №3\n",
    "https://stepik.org/lesson/806232/step/5?unit=809361\n",
    "\n",
    "На вход программы подаётся количество конфет и количество детей. Надо раздать всем ребятам одинаковое количество конфет. Но количество конфет таково, что они могут быть все распределены между детьми, а может появиться остаток. Программа должна вывести \"yes\", если есть остаток и \"no\", если остатка не было.\n",
    "\n",
    "Указание: обратите внимание, что yes и no записаны малыми буквами!"
   ],
   "metadata": {
    "collapsed": false
   },
   "id": "fb0a5245b3d9e80e"
  },
  {
   "cell_type": "code",
   "execution_count": 5,
   "outputs": [
    {
     "name": "stdout",
     "output_type": "stream",
     "text": [
      "yes\n"
     ]
    }
   ],
   "source": [
    "caddy_count = int(input())\n",
    "children_count = int(input())\n",
    "\n",
    "if caddy_count % children_count == 0:\n",
    "    print('no')\n",
    "else:\n",
    "    print('yes')"
   ],
   "metadata": {
    "collapsed": false,
    "ExecuteTime": {
     "end_time": "2023-11-04T16:26:10.603428Z",
     "start_time": "2023-11-04T16:26:05.254165Z"
    }
   },
   "id": "ddf1e9004cd786a1"
  },
  {
   "cell_type": "markdown",
   "source": [
    "# Задача №4\n",
    "https://stepik.org/lesson/806232/step/6?unit=809361\n",
    "\n",
    "Напишите программу, которая запрашивает натуральное трёхзначное число, и если произведение его цифр равно нулю - пишет \"YES\", в противном случае - \"NO\".\n",
    "\n",
    "> думаю автор курса ожидал другое решение :)\n",
    "> но зачем усложнять себе жизнь, если результат достигнут?"
   ],
   "metadata": {
    "collapsed": false
   },
   "id": "16c9089218b7a9f1"
  },
  {
   "cell_type": "code",
   "execution_count": 13,
   "outputs": [
    {
     "name": "stdout",
     "output_type": "stream",
     "text": [
      "-1\n",
      "NO\n"
     ]
    }
   ],
   "source": [
    "x = input()\n",
    "if x.find('0') > 0:\n",
    "    print('YES')\n",
    "else:\n",
    "    print('NO')"
   ],
   "metadata": {
    "collapsed": false,
    "ExecuteTime": {
     "end_time": "2023-11-04T16:30:02.015673Z",
     "start_time": "2023-11-04T16:30:00.065272Z"
    }
   },
   "id": "1a8ab86f001437ea"
  },
  {
   "cell_type": "markdown",
   "source": [],
   "metadata": {
    "collapsed": false
   },
   "id": "9c7ce21d190b59d0"
  },
  {
   "cell_type": "markdown",
   "source": [
    " # Задача №5\n",
    "https://stepik.org/lesson/806232/step/7?unit=809361\n",
    "\n",
    "Напишите программу, которая запрашивает натуральное  число, и если последняя цифра этого числа больше 5, то вывести её на печать, иначе вывести число 0.\n",
    "\n",
    "> думаю автор курса ожидал другое решение :)\n",
    "> но зачем усложнять себе жизнь, если результат достигнут?"
   ],
   "metadata": {
    "collapsed": false
   },
   "id": "3a9a133627c678c7"
  },
  {
   "cell_type": "code",
   "execution_count": 15,
   "outputs": [
    {
     "name": "stdout",
     "output_type": "stream",
     "text": [
      "7\n"
     ]
    }
   ],
   "source": [
    "x = input()\n",
    "if int(x[-1]) > 5:\n",
    "    print(x[-1])\n",
    "else:\n",
    "    print(0)"
   ],
   "metadata": {
    "collapsed": false,
    "ExecuteTime": {
     "end_time": "2023-11-04T16:33:37.582596Z",
     "start_time": "2023-11-04T16:33:33.803336Z"
    }
   },
   "id": "3919c190c07f9ac9"
  },
  {
   "cell_type": "code",
   "execution_count": null,
   "outputs": [],
   "source": [],
   "metadata": {
    "collapsed": false
   },
   "id": "bfc8fd9ae75e4613"
  }
 ],
 "metadata": {
  "kernelspec": {
   "display_name": "Python 3",
   "language": "python",
   "name": "python3"
  },
  "language_info": {
   "codemirror_mode": {
    "name": "ipython",
    "version": 2
   },
   "file_extension": ".py",
   "mimetype": "text/x-python",
   "name": "python",
   "nbconvert_exporter": "python",
   "pygments_lexer": "ipython2",
   "version": "2.7.6"
  }
 },
 "nbformat": 4,
 "nbformat_minor": 5
}
