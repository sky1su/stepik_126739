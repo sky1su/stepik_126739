{
 "cells": [
  {
   "cell_type": "markdown",
   "source": [
    "Задача №1. Алгоритм Евклида\n",
    "https://stepik.org/lesson/806245/step/2?unit=809374\n",
    "\n",
    "Алгоритм Евклида для вычисления наибольшего общего делителя двух натуральных чисел (НОД), формулируется так: нужно заменять большее число на разность большего и меньшего до тех пор, пока одно из них не станет равно нулю; тогда второе и есть НОД. Напишите программу, которая реализует этот алгоритм.\n",
    "\n",
    "Входные данные\n",
    "Входная строка содержит два числа, разделённые пробелом – a и b .\n",
    "\n",
    "Выходные данные\n",
    "Программа должна вывести в одной строке два числа: сначала наибольший общий делитель двух введённых чисел, а затем – количество шагов цикла, которые были выполнены."
   ],
   "metadata": {
    "collapsed": false
   },
   "id": "ef61769fcd48bf0d"
  },
  {
   "cell_type": "code",
   "execution_count": null,
   "outputs": [],
   "source": [
    "a,b = map(int, input().split())\n",
    "k = 0\n",
    "while a != 0 and b != 0:\n",
    "    k = k + 1\n",
    "    if a > b:\n",
    "       a = a - b\n",
    "    else:\n",
    "       b = b - a\n",
    "print (a+b, k)"
   ],
   "metadata": {
    "collapsed": false
   },
   "id": "248930578f7966e"
  },
  {
   "cell_type": "markdown",
   "source": [
    "Задача №2. Модифицированный алгоритм Евклида\n",
    "https://stepik.org/lesson/806245/step/3?unit=809374\n",
    "\n",
    "Модифицированный алгоритм Евклида для вычисления наибольшего общего делителя двух натуральных чисел, формулируется так: нужно менять большее число на остаток от деления большего на меньшее до тех пор, пока остаток не станет равен нулю; тогда второе число и есть НОД. Напишите программу, которая реализует этот алгоритм.\n",
    "\n",
    "Входные данные\n",
    "Входная строка содержит два числа, разделённые пробелом – a и b .\n",
    "\n",
    "Выходные данные\n",
    "Программа должна вывести в одной строке два числа: сначала наибольший общий делитель двух введённых чисел, а затем – количество шагов цикла, которые были выполнены."
   ],
   "metadata": {
    "collapsed": false
   },
   "id": "b97e9a4d8cb31e2b"
  },
  {
   "cell_type": "code",
   "execution_count": null,
   "outputs": [],
   "source": [
    "a,b = map(int, input().split())\n",
    "k = 0\n",
    "while a != 0 and b != 0:\n",
    "    k = k + 1\n",
    "    if a > b:\n",
    "       a = a%b\n",
    "    else:\n",
    "       b = b%a\n",
    "print (a+b, k)"
   ],
   "metadata": {
    "collapsed": false
   },
   "id": "ce75451c1904ab01"
  },
  {
   "cell_type": "markdown",
   "source": [
    "# Задача №3. Минимальный делитель\n",
    "https://stepik.org/lesson/806245/step/4?unit=809374\n",
    "\n",
    "Дано натуральное число, больше 1. Выведите его наименьший натуральный делитель, отличный от 1.\n",
    "\n",
    "Входные данные\n",
    "Натуральное число, больше 1.\n",
    "\n",
    "Выходные данные\n",
    "Минимальный делитель числа, отличный от 1."
   ],
   "metadata": {
    "collapsed": false
   },
   "id": "114aa9762b499433"
  },
  {
   "cell_type": "code",
   "execution_count": null,
   "outputs": [],
   "source": [
    "def calc(x):\n",
    "    for i in range(2, x+1):\n",
    "        if x % i == 0:\n",
    "            return i\n",
    "        \n",
    "        \n",
    "x = int(input())      \n",
    "print(calc(x))"
   ],
   "metadata": {
    "collapsed": false
   },
   "id": "87913ffc6a2e7e47"
  },
  {
   "cell_type": "markdown",
   "source": [
    "# Задача №4\n",
    "https://stepik.org/lesson/806245/step/5?unit=809374\n",
    "\n",
    "По данному целому числу N распечатайте все квадраты натуральных чисел, не превосходящие N, в порядке возрастания в строку через пробел.\n",
    "\n",
    "Входные данные\n",
    "Натуральное число N.\n",
    "\n",
    "Выходные данные\n",
    "Печать квадратов натуральных чисел, не превосходящих N в строку через пробел."
   ],
   "metadata": {
    "collapsed": false
   },
   "id": "858f450e58dff7fb"
  },
  {
   "cell_type": "code",
   "execution_count": null,
   "outputs": [],
   "source": [
    "def power(x):\n",
    "    return x*x\n",
    "\n",
    "\n",
    "n = int(input())\n",
    "result = list()\n",
    "for i in range(1, n):\n",
    "    tmp = power(i)\n",
    "    if tmp <= n:\n",
    "        result.append(power(i))\n",
    "print(' '.join(map(str,result)))\n"
   ],
   "metadata": {
    "collapsed": false
   },
   "id": "781e17da9524acb3"
  },
  {
   "cell_type": "markdown",
   "source": [
    "# Задача №5\n",
    "https://stepik.org/lesson/806245/step/6?unit=809374\n",
    "\n",
    "Вместо того чтобы делать уроки, Петя смотрел футбольный матч и записывал счет, который показывался на табло, после каждого забитого гола.\n",
    "\n",
    "Например, у него могла получиться такая запись:\n",
    "1:0\n",
    "1:1\n",
    "1:2\n",
    "2:2\n",
    "2:3\n",
    "\n",
    "После этого он сложил все записанные числа: 1+0+1+1+1+2+2+2+2+3=15.\n",
    "По сумме, получившейся у Пети, определите, сколько всего мячей было забито в матче.\n",
    "\n",
    "Входные данные\n",
    "Вводится одно натуральное число, не превосходящее 1000 – сумма, полученная Петей.\n",
    "\n",
    "Выходные данные\n",
    "Выведите одно число – общее количество забитых мячей."
   ],
   "metadata": {
    "collapsed": false
   },
   "id": "3d941d8c1bc8bafd"
  },
  {
   "cell_type": "code",
   "execution_count": null,
   "outputs": [],
   "source": [
    "#TO_DO"
   ],
   "metadata": {
    "collapsed": false
   },
   "id": "308a017375008f4e"
  }
 ],
 "metadata": {
  "kernelspec": {
   "display_name": "Python 3",
   "language": "python",
   "name": "python3"
  },
  "language_info": {
   "codemirror_mode": {
    "name": "ipython",
    "version": 2
   },
   "file_extension": ".py",
   "mimetype": "text/x-python",
   "name": "python",
   "nbconvert_exporter": "python",
   "pygments_lexer": "ipython2",
   "version": "2.7.6"
  }
 },
 "nbformat": 4,
 "nbformat_minor": 5
}
