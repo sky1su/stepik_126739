{
 "cells": [
  {
   "cell_type": "markdown",
   "source": [
    "# Задача №1\n",
    "https://stepik.org/lesson/806235/step/3?unit=809364\n",
    "\n",
    "Напишите программу, которая запрашивает 5 целых чисел, и определяет, сколько среди них нечётных. Числа подаются одной строкой через пробел."
   ],
   "metadata": {
    "collapsed": false
   },
   "id": "96e6cc8c844a212"
  },
  {
   "cell_type": "code",
   "execution_count": null,
   "outputs": [],
   "source": [
    "number_list = map(int, input().split())\n",
    "count = 0\n",
    "for i in number_list:\n",
    "    if i % 2 != 0:\n",
    "        count += 1\n",
    "print(count)"
   ],
   "metadata": {
    "collapsed": false
   },
   "id": "9308cbf62bf65d45"
  },
  {
   "cell_type": "markdown",
   "source": [
    "# Задача №2\n",
    "https://stepik.org/lesson/806235/step/4?unit=809364\n",
    "\n",
    "На вход программы в столбик подаются пять чисел. Найдите сумму, количество и произведение двузначных чисел. Гарантируется, что среди исходных чисел есть хотя бы одно двузначное."
   ],
   "metadata": {
    "collapsed": false
   },
   "id": "e7496f9f3d892776"
  },
  {
   "cell_type": "code",
   "execution_count": null,
   "outputs": [],
   "source": [
    "def user_input(count):\n",
    "    result = list()\n",
    "    for i in range(count):\n",
    "        result.append(input())\n",
    "    return result\n",
    "\n",
    "data = user_input(5)\n",
    "\n",
    "def data_compute(data):\n",
    "    data_count = 0\n",
    "    data_sum = 0\n",
    "    data_multiplication = 1\n",
    "    for i in data:\n",
    "        if len(i) == 2:\n",
    "            tmp = int(i)\n",
    "            data_count += 1\n",
    "            data_sum += tmp\n",
    "            data_multiplication *= tmp\n",
    "    result = map(str, [data_sum, data_count, data_multiplication])\n",
    "    return ' '.join(result)\n",
    "\n",
    "print (data_compute(data))"
   ],
   "metadata": {
    "collapsed": false
   },
   "id": "902942b5307b7589"
  },
  {
   "cell_type": "markdown",
   "source": [
    "# Задача №3\n",
    "https://stepik.org/lesson/806235/step/5?unit=809364\n",
    "\n",
    "Напишите программу, которая запрашивает в первой строке число n, далее во второй строке ещё 5 двузначных чисел через нижнее подчёркивание, и находит количество чисел из данных пяти, у которых сумма цифр больше n."
   ],
   "metadata": {
    "collapsed": false
   },
   "id": "e8f19ce5c2ba7f2e"
  },
  {
   "cell_type": "code",
   "execution_count": null,
   "outputs": [],
   "source": [
    "n = int(input())\n",
    "data = input().split('_')\n",
    "count = 0\n",
    "for i in data:\n",
    "    tmp1 = int(i[0]) + int(i[1])\n",
    "    if tmp1 > n:\n",
    "        count += 1\n",
    "print(count)"
   ],
   "metadata": {
    "collapsed": false
   },
   "id": "c63ca079c9855861"
  },
  {
   "cell_type": "markdown",
   "source": [
    "# Задача №4\n",
    "https://stepik.org/lesson/806235/step/6?unit=809364\n",
    "\n",
    "На вход программе подаётся пять чисел, между которыми стоит знак '*'. Среди введённых чисел возможны числа, равные 0. Найдите произведение чисел без учёта нулей. То есть надо найти произведение всех чисел, отличных от 0. Гарантируется, что среди введённых чисел есть хотя бы одно, отличное от 0."
   ],
   "metadata": {
    "collapsed": false
   },
   "id": "aa1df821be744db5"
  },
  {
   "cell_type": "code",
   "execution_count": null,
   "outputs": [],
   "source": [
    "data = map(int, input().split('*'))\n",
    "result = 1\n",
    "for i in data:\n",
    "    if i != 0:\n",
    "        result = i * result\n",
    "print(result)"
   ],
   "metadata": {
    "collapsed": false
   },
   "id": "32b13b0f6aa7956d"
  }
 ],
 "metadata": {
  "kernelspec": {
   "display_name": "Python 3",
   "language": "python",
   "name": "python3"
  },
  "language_info": {
   "codemirror_mode": {
    "name": "ipython",
    "version": 2
   },
   "file_extension": ".py",
   "mimetype": "text/x-python",
   "name": "python",
   "nbconvert_exporter": "python",
   "pygments_lexer": "ipython2",
   "version": "2.7.6"
  }
 },
 "nbformat": 4,
 "nbformat_minor": 5
}
