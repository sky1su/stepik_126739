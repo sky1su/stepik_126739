{
 "cells": [
  {
   "cell_type": "markdown",
   "source": [
    "# Задача №1\n",
    "https://stepik.org/lesson/806248/step/2?unit=809377\n",
    " \n",
    "\n",
    "Дана строка. Получите новую строку, вставив между двумя символами исходной строки символ *. Выведите полученную строку.\n",
    "\n",
    "Входные данные\n",
    "Символьная строка\n",
    "\n",
    "Выходные данные\n",
    "Символьная строка, в которой между символами вставлены *."
   ],
   "metadata": {
    "collapsed": false
   },
   "id": "a6a3c5db0fe611ec"
  },
  {
   "cell_type": "code",
   "execution_count": null,
   "outputs": [],
   "source": [
    "def add_asteriks(s: str):\n",
    "    return '*'.join(s)\n",
    "\n",
    "s = input()\n",
    "print(add_asteriks(s))"
   ],
   "metadata": {
    "collapsed": false
   },
   "id": "ad8a2c588817ffb8"
  },
  {
   "cell_type": "markdown",
   "source": [
    "# Задача №2\n",
    "https://stepik.org/lesson/806248/step/3?unit=809377\n",
    "\n",
    "Напишите программу, которая из данной строки получает новую. В новой строке латинские строчные буквы а и о заключить в круглые скобки. Все остальные символы остаются без изменений.\n",
    "\n",
    "Входные данные\n",
    "Символьная строка\n",
    "\n",
    "Выходные данные\n",
    "Символьная строка, в которой латинские строчные буквы а и о заключены в круглые скобки."
   ],
   "metadata": {
    "collapsed": false
   },
   "id": "eae7bfa65d570913"
  },
  {
   "cell_type": "code",
   "execution_count": null,
   "outputs": [],
   "source": [
    "def add_rounds(s: str):\n",
    "    result = ''\n",
    "    for l in s:\n",
    "        if l == 'a' or l == 'o':\n",
    "            result += '(' + l + ')'\n",
    "        else:\n",
    "            result += l\n",
    "    return result\n",
    "\n",
    "s = input()\n",
    "print(add_rounds(s))"
   ],
   "metadata": {
    "collapsed": false
   },
   "id": "f847ee164e0fff14"
  },
  {
   "cell_type": "markdown",
   "source": [
    "# Задача №3\n",
    "https://stepik.org/lesson/806248/step/4?unit=809377\n",
    "\n",
    "у, которая из данной строки получает новую путём удаления всех пробелов.\n",
    "\n",
    "Входные данные\n",
    "Символьная строка\n",
    "\n",
    "Выходные данные\n",
    "Символьная строка, в которой отсутствуют пробелы"
   ],
   "metadata": {
    "collapsed": false
   },
   "id": "ebd6ea5947975415"
  },
  {
   "cell_type": "code",
   "execution_count": null,
   "outputs": [],
   "source": [
    "def trim(s):\n",
    "    result = ''\n",
    "    for l in s:\n",
    "        if l != ' ':\n",
    "            result += l\n",
    "    return result\n",
    "\n",
    "s: str = input()\n",
    "print(trim(s))"
   ],
   "metadata": {
    "collapsed": false
   },
   "id": "fb10ef75a2a51761"
  },
  {
   "cell_type": "markdown",
   "source": [
    "# Задача №4\n",
    "https://stepik.org/lesson/806248/step/5?unit=809377\n",
    "\n",
    "Программа получает на вход строку, которая состоит только из русских строчных букв. Другие символы отсутствуют. Получите новую строку, в которой идут сначала гласные буквы потом согласные.\n",
    "\n",
    "Входные данные\n",
    "Символьная строка\n",
    "\n",
    "Выходные данные\n",
    "Символьная строка, в которой идут сначала гласные буквы, потом согласные, причём в том же порядке в каком они идут в исходной строке."
   ],
   "metadata": {
    "collapsed": false
   },
   "id": "465814f836a23a45"
  },
  {
   "cell_type": "code",
   "execution_count": null,
   "outputs": [],
   "source": [
    "def string_processing(s: str):\n",
    "    consonants = list('ауоыиэяюёе')\n",
    "    vowels = list(('бвгджзйклмнпрстфхцчшщ'))    \n",
    "    sting_consonants = ''\n",
    "    string_vowels = ''\n",
    "    for letter in s:\n",
    "        if letter in consonants:\n",
    "            sting_consonants += letter\n",
    "        if letter in vowels:\n",
    "            string_vowels += letter\n",
    "    return f'{sting_consonants}{string_vowels}'\n",
    "\n",
    "s = input()\n",
    "print(string_processing(s))"
   ],
   "metadata": {
    "collapsed": false
   },
   "id": "594fae28b4008958"
  },
  {
   "cell_type": "markdown",
   "source": [
    "# Задача №5\n",
    "https://stepik.org/lesson/806248/step/6?unit=809377\n",
    "\n",
    "Напишите программу, которая считывает исходную строку и получает новую путём замены каждого символа следующим за ним, стоящим в таблице ASCII."
   ],
   "metadata": {
    "collapsed": false
   },
   "id": "76e22780b1af0540"
  },
  {
   "cell_type": "code",
   "execution_count": null,
   "outputs": [],
   "source": [
    "def shift(s: str):\n",
    "    result = ''\n",
    "    for l in s:\n",
    "        result += chr(ord(l)+1)\n",
    "    return result\n",
    "\n",
    "s = input()\n",
    "print(shift(s))"
   ],
   "metadata": {
    "collapsed": false
   },
   "id": "9f8caaad134f0fcb"
  },
  {
   "cell_type": "markdown",
   "source": [
    "# Задача №6\n",
    "https://stepik.org/lesson/806248/step/7?unit=809377\n",
    "\n",
    "Напишите программу, которая определяет, является ли строка палиндромом или нет. Палиндром одинаково читается слева направо и справа налево. Если строка является палиндромом, то выведите True, иначе выведите - False.\n",
    "\n",
    "Входные данные\n",
    "Символьная строка\n",
    "\n",
    "Выходные данные\n",
    "Если строка является палиндромом, то выведите True, иначе выведите - False."
   ],
   "metadata": {
    "collapsed": false
   },
   "id": "45b1324bcb014309"
  },
  {
   "cell_type": "code",
   "execution_count": null,
   "outputs": [],
   "source": [
    "def check_palindrome(s: str):\n",
    "    if s == s[::-1]:\n",
    "        return True\n",
    "    return False\n",
    "\n",
    "s = input()\n",
    "print(check_palindrome(s))"
   ],
   "metadata": {
    "collapsed": false
   },
   "id": "990ae3d4bdeba16b"
  }
 ],
 "metadata": {
  "kernelspec": {
   "display_name": "Python 3",
   "language": "python",
   "name": "python3"
  },
  "language_info": {
   "codemirror_mode": {
    "name": "ipython",
    "version": 2
   },
   "file_extension": ".py",
   "mimetype": "text/x-python",
   "name": "python",
   "nbconvert_exporter": "python",
   "pygments_lexer": "ipython2",
   "version": "2.7.6"
  }
 },
 "nbformat": 4,
 "nbformat_minor": 5
}
