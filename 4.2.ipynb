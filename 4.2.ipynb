{
 "cells": [
  {
   "cell_type": "markdown",
   "source": [
    "# Задача №1\n",
    "https://stepik.org/lesson/806239/step/2?unit=809368\n",
    "\n",
    "Напишите программу, которая запрашивает число n, а далее последовательность из n целых чисел, и находит сумму чётных элементов последовательности."
   ],
   "metadata": {
    "collapsed": false
   },
   "id": "7c75e2e686e313e6"
  },
  {
   "cell_type": "code",
   "execution_count": null,
   "outputs": [],
   "source": [
    "#TO_DO"
   ],
   "metadata": {
    "collapsed": false
   },
   "id": "791870a7b0f64adb"
  },
  {
   "cell_type": "markdown",
   "source": [
    "# Задача №2\n",
    "https://stepik.org/lesson/806239/step/3?unit=809368\n",
    "\n",
    "Напишите программу, которая запрашивает число n, а далее последовательность из n целых чисел, и находит сумму положительных элементов и количество отрицательных."
   ],
   "metadata": {
    "collapsed": false
   },
   "id": "728cd854c4621ca3"
  },
  {
   "cell_type": "code",
   "execution_count": null,
   "outputs": [],
   "source": [
    "#TO_DO"
   ],
   "metadata": {
    "collapsed": false
   },
   "id": "d240a4df59a2e50e"
  },
  {
   "cell_type": "markdown",
   "source": [
    "# Задача №3\n",
    "https://stepik.org/lesson/806239/step/4?unit=809368\n",
    "\n",
    "Напишите программу, которая запрашивает сначала строку, потом число  n, а далее последовательность из n строк.\n",
    "Надо определить сколько раз первая считанная строка встречается среди последовательности из n строк."
   ],
   "metadata": {
    "collapsed": false
   },
   "id": "6e5b133b01e2ffa3"
  },
  {
   "cell_type": "code",
   "execution_count": null,
   "outputs": [],
   "source": [
    "#TO_DO"
   ],
   "metadata": {
    "collapsed": false
   },
   "id": "46fade78d50fe901"
  },
  {
   "cell_type": "markdown",
   "source": [
    "# Задача №4\n",
    "https://stepik.org/lesson/806239/step/5?unit=809368\n",
    "\n",
    "Напишите программу, которая запрашивает число n. Затем вычисляет факториал этого числа.\n",
    "\n",
    "Напоминание: Факториал натурального числа n - это произведение всех натуральных чисел от 1 до n включительно.\n",
    "То есть n! = 1*2*3*...*n, а факториал числа 6! = 1*2*3*4*5*6."
   ],
   "metadata": {
    "collapsed": false
   },
   "id": "4c78958a842c76f5"
  },
  {
   "cell_type": "code",
   "execution_count": null,
   "outputs": [],
   "source": [
    "#TO_DO"
   ],
   "metadata": {
    "collapsed": false
   },
   "id": "ccf94dde2bc4e41f"
  },
  {
   "cell_type": "markdown",
   "source": [
    "# Задача №5\n",
    "https://stepik.org/lesson/806239/step/7?unit=809368\n",
    "\n",
    "Напишите программу, которая запрашивает число n, а далее последовательность из n целых чисел, и определяет, есть ли среди введённых чисел нечётные. Если такие числа есть, то выведите \"YES\", если таких чисел нет -- выведите \"NO\"."
   ],
   "metadata": {
    "collapsed": false
   },
   "id": "20acbad143b5a966"
  },
  {
   "cell_type": "code",
   "execution_count": null,
   "outputs": [],
   "source": [
    "#TO_DO"
   ],
   "metadata": {
    "collapsed": false
   },
   "id": "a6bad49af86ae70e"
  },
  {
   "cell_type": "markdown",
   "source": [
    "# Задача №6\n",
    "https://stepik.org/lesson/806239/step/8?unit=809368\n",
    "\n",
    "Напишите программу, которая запрашивает двузначные числа A и B (A<=B) и определяет, есть ли в диапазоне чисел от A до B включительно такие, что сумма цифр равна 10. Если таких чисел нет - выведите \"NO\", а если есть выведите  - \"YES\"."
   ],
   "metadata": {
    "collapsed": false
   },
   "id": "a2d4210b09897a94"
  },
  {
   "cell_type": "code",
   "execution_count": null,
   "outputs": [],
   "source": [
    "#TO_DO"
   ],
   "metadata": {
    "collapsed": false
   },
   "id": "862cff9a6c2a0cd4"
  },
  {
   "cell_type": "markdown",
   "source": [
    "# Задача №7\n",
    "https://stepik.org/lesson/806239/step/9?unit=809368\n",
    "\n",
    "Напишите программу, которая запрашивает число n, а далее последовательность из n чисел, и выводит только числа, кратные 3 (это те числа, которые без остатка делятся на 3) через пробел. Если таких чисел нет - выведите \"NO\"."
   ],
   "metadata": {
    "collapsed": false
   },
   "id": "ed903490f37c4990"
  },
  {
   "cell_type": "code",
   "execution_count": null,
   "outputs": [],
   "source": [
    "#TO_DO"
   ],
   "metadata": {
    "collapsed": false
   },
   "id": "a3062fc6e122acf3"
  },
  {
   "cell_type": "markdown",
   "source": [
    "# Задача №8\n",
    "https://stepik.org/lesson/806239/step/10?unit=809368\n",
    "\n",
    "Напишите программу, которая запрашивает натуральные числа A и B (A<=B), перебирает все значения от А до B и определяет, есть ли среди них трёхзначные. Если трёхзначных чисел нет - выведите число 0, а если есть выведите число 1."
   ],
   "metadata": {
    "collapsed": false
   },
   "id": "69edc48ac86ef17d"
  },
  {
   "cell_type": "code",
   "execution_count": null,
   "outputs": [],
   "source": [
    "#TO_DO"
   ],
   "metadata": {
    "collapsed": false
   },
   "id": "66e5f16f8674114a"
  },
  {
   "cell_type": "markdown",
   "source": [
    "# Задача №9\n",
    "https://stepik.org/lesson/806239/step/11?unit=809368\n",
    "\n",
    "Имеется небольшое предприятие. Оно получает ежедневную прибыль. Но бывают дни, когда прибыль небольшая, да ещё в этот день был какой-то платёж, например арендная плата или оплата света. И может получиться так, что в этот день прибыль отрицательная. \n",
    "\n",
    "Входные данные\n",
    "Натуральное число n - количество дней работы фирмы.\n",
    "Далее подаются n целых чисел, которые характеризуют прибыль фирмы за день.\n",
    "\n",
    "Выходные данные\n",
    "Надо вывести на экран через пробел номера тех дней, когда прибыль оказалась отрицательная. Нумерация дней начинается с 1. Если таких дней не было, то надо вывести 0."
   ],
   "metadata": {
    "collapsed": false
   },
   "id": "324156d15342a4e8"
  },
  {
   "cell_type": "code",
   "execution_count": null,
   "outputs": [],
   "source": [
    "#TO_DO"
   ],
   "metadata": {
    "collapsed": false
   },
   "id": "b46d00e2e30796cf"
  }
 ],
 "metadata": {
  "kernelspec": {
   "display_name": "Python 3",
   "language": "python",
   "name": "python3"
  },
  "language_info": {
   "codemirror_mode": {
    "name": "ipython",
    "version": 2
   },
   "file_extension": ".py",
   "mimetype": "text/x-python",
   "name": "python",
   "nbconvert_exporter": "python",
   "pygments_lexer": "ipython2",
   "version": "2.7.6"
  }
 },
 "nbformat": 4,
 "nbformat_minor": 5
}
