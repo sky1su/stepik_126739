{
 "cells": [
  {
   "cell_type": "markdown",
   "source": [
    "# Задача №1\n",
    "https://stepik.org/lesson/806230/step/3?unit=809359\n",
    "\n",
    "Напишите программу, которая запрашивает двузначное число и выводит его цифры в обратном порядке."
   ],
   "metadata": {
    "collapsed": false
   },
   "id": "252f172702bc5b8a"
  },
  {
   "cell_type": "code",
   "execution_count": null,
   "outputs": [],
   "source": [
    "string = input()\n",
    "print(string[::-1])"
   ],
   "metadata": {
    "collapsed": false
   },
   "id": "e2779785d339f66d"
  },
  {
   "cell_type": "markdown",
   "source": [
    "# Задача №2\n",
    "https://stepik.org/lesson/806230/step/4?unit=809359\n",
    "\n",
    "Напишите программу, которая запрашивает пятиразрядное число и выводит цифры данного числа в обратном порядке"
   ],
   "metadata": {
    "collapsed": false
   },
   "id": "73213a0b3bffaf94"
  },
  {
   "cell_type": "code",
   "execution_count": null,
   "outputs": [],
   "source": [
    "string = input()\n",
    "print(string[::-1])"
   ],
   "metadata": {
    "collapsed": false
   },
   "id": "e5b332b5f74101da"
  },
  {
   "cell_type": "markdown",
   "source": [
    "# Задача №3\n",
    "https://stepik.org/lesson/806230/step/5?unit=809359\n",
    "\n",
    "Напишите программу, которая запрашивает пятиразрядное число и выводит число, составленное из цифр данного числа взятых в обратном порядке."
   ],
   "metadata": {
    "collapsed": false
   },
   "id": "cebc60d27868a961"
  },
  {
   "cell_type": "code",
   "execution_count": null,
   "outputs": [],
   "source": [
    "string = input()\n",
    "print(string[::-1])"
   ],
   "metadata": {
    "collapsed": false
   },
   "id": "c3f92e9180b254f0"
  },
  {
   "cell_type": "markdown",
   "source": [
    "# Задача №4\n",
    "https://stepik.org/lesson/806230/step/6?unit=809359\n",
    "\n",
    "Напишите программу, которая запрашивает три трёхзначных числа, вырезает из каждого среднюю цифру, и из\n",
    "вырезанных цифр складывает новое число."
   ],
   "metadata": {
    "collapsed": false
   },
   "id": "a9a5fb9f0224909e"
  },
  {
   "cell_type": "code",
   "execution_count": null,
   "outputs": [],
   "source": [
    "def get_midle(item):\n",
    "    return(item[1])\n",
    "\n",
    "string = input()\n",
    "x1,x2,x3 = map(str, string.split())\n",
    "result = ''\n",
    "result = result + get_midle(x1)\n",
    "result = result + get_midle(x2)\n",
    "result = result + get_midle(x3)\n",
    "print(int(result))"
   ],
   "metadata": {
    "collapsed": false
   },
   "id": "824bfb5fe3bc6819"
  },
  {
   "cell_type": "markdown",
   "source": [
    "# Задача №5\n",
    "https://stepik.org/lesson/806230/step/7?unit=809359\n",
    "\n",
    "Напишите программу, которая запрашивает три пятиразрядных числа, вырезает из каждого средние три цифры и выводит их в виде чисел без ведущих нулей."
   ],
   "metadata": {
    "collapsed": false
   },
   "id": "bc292abc960f4d90"
  },
  {
   "cell_type": "code",
   "execution_count": null,
   "outputs": [],
   "source": [
    "def get_midle(item):\n",
    "    return(str(int(item[1:4])))\n",
    "\n",
    "sting = input()\n",
    "tmp_list = list(map(str, sting.split()))\n",
    "result = list()\n",
    "for item in tmp_list:\n",
    "    result.append(get_midle(item))\n",
    "    # print(int(get_midle(item)))\n",
    "print(' '.join(result))"
   ],
   "metadata": {
    "collapsed": false
   },
   "id": "68b86fff70045a35"
  },
  {
   "cell_type": "markdown",
   "source": [
    "# Задача №6\n",
    "https://stepik.org/lesson/806230/step/8?unit=809359\n",
    "\n",
    "Напишите программу, которая запрашивает пять натуральных чисел и выводит 1, если это число нечётное и 0 -- если число чётное."
   ],
   "metadata": {
    "collapsed": false
   },
   "id": "e06694fe8d3030ed"
  },
  {
   "cell_type": "code",
   "execution_count": null,
   "outputs": [],
   "source": [
    "string = input()\n",
    "tmp_list = list(map(str, string.split()))\n",
    "result = ('')\n",
    "for item in tmp_list:\n",
    "    if int(item) % 2 == 0:\n",
    "        result = result +'0'\n",
    "    else:\n",
    "        result = result +'1'\n",
    "print(result)"
   ],
   "metadata": {
    "collapsed": false
   },
   "id": "e3dd1340c35ece2f"
  },
  {
   "cell_type": "markdown",
   "source": [
    "# Задача №7\n",
    "https://stepik.org/lesson/806230/step/11?unit=809359\n",
    "\n",
    "Пирожок в столовой стоит a рублей и b копеек. Определите, сколько рублей и копеек нужно заплатить за n пирожков."
   ],
   "metadata": {
    "collapsed": false
   },
   "id": "257b2d428449e383"
  },
  {
   "cell_type": "code",
   "execution_count": null,
   "outputs": [],
   "source": [
    "a = int(input()) # считали рубли\n",
    "b = int(input()) # считали копейки\n",
    "n = int(input()) # считали количество пирожков\n",
    "s = a*100 + b # нашли стоимость пирожка в копейках\n",
    "s = s * n # нашли стоимость n пирожков в копейках\n",
    "print(s//100, s%100) # перевели в копейки в рубли  и копейки"
   ],
   "metadata": {
    "collapsed": false
   },
   "id": "e33d2abe19aed1e7"
  },
  {
   "cell_type": "markdown",
   "source": [
    "# Задача №8\n",
    "https://stepik.org/lesson/806230/step/12?unit=809359\n",
    "\n",
    "n школьников делят k  конфет поровну, остаток конфет остается в коробке. Сколько конфет достанется каждому школьнику и сколько конфет останется в коробке?\n",
    "\n",
    "На вход программе подаются два натуральных числа n и k. "
   ],
   "metadata": {
    "collapsed": false
   },
   "id": "a6255b35ee6ecee5"
  },
  {
   "cell_type": "code",
   "execution_count": null,
   "outputs": [],
   "source": [
    "n = int(input())\n",
    "k = int(input())\n",
    "in_hand = k//n\n",
    "in_box = k%n\n",
    "print(in_hand, in_box, sep='\\n')"
   ],
   "metadata": {
    "collapsed": false
   },
   "id": "cc433dcf4de40534"
  },
  {
   "cell_type": "markdown",
   "source": [
    "# Задача №9\n",
    "https://stepik.org/lesson/806230/step/13?unit=809359\n",
    "\n",
    "Напишите программу, которая выдаёт из банкомата запрошенную сумму денег, кратную 10,  в имеющихся купюрах (100 рублей, 50 рублей, 10 рублей). Сумму необходимо выдавать в первую очередь наиболее крупными купюрами. Запрошенная сумма не будет превышать 2000 руб."
   ],
   "metadata": {
    "collapsed": false
   },
   "id": "7fb14171dcaeff66"
  },
  {
   "cell_type": "code",
   "execution_count": null,
   "outputs": [],
   "source": [
    "# TO_DO"
   ],
   "metadata": {
    "collapsed": false
   },
   "id": "d26eedcc8372cf07"
  },
  {
   "cell_type": "markdown",
   "source": [
    "# Задача №10\n",
    "https://stepik.org/lesson/806230/step/14?unit=809359\n",
    "\n",
    "Вводится натуральное число n, не превышающее 1000. Выведите следующее за ним четное число.\n",
    "\n",
    "Задачу необходимо решить целочисленными операциями без использования условных операторов и циклов!"
   ],
   "metadata": {
    "collapsed": false
   },
   "id": "72c36dacc370fb1d"
  },
  {
   "cell_type": "code",
   "execution_count": null,
   "outputs": [],
   "source": [
    "# TO_DO"
   ],
   "metadata": {
    "collapsed": false
   },
   "id": "8d9384fb0fdb9055"
  }
 ],
 "metadata": {
  "kernelspec": {
   "display_name": "Python 3",
   "language": "python",
   "name": "python3"
  },
  "language_info": {
   "codemirror_mode": {
    "name": "ipython",
    "version": 2
   },
   "file_extension": ".py",
   "mimetype": "text/x-python",
   "name": "python",
   "nbconvert_exporter": "python",
   "pygments_lexer": "ipython2",
   "version": "2.7.6"
  }
 },
 "nbformat": 4,
 "nbformat_minor": 5
}
