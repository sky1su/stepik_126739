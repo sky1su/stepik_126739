{
 "cells": [
  {
   "cell_type": "markdown",
   "source": [
    "# Задача №10\n",
    "https://stepik.org/lesson/806228/step/16?unit=809357\n",
    "\n",
    "Напишите программу, которая печатает строку \"Python\" 20 раз подряд без пробелов и без кавычек. \n",
    "\n",
    "Выходные данные:\n",
    "Одна строка, состоящая из строк Python, повторяющихся 20 раз. \n",
    "Начало строки выглядит так: PythonPythonPythonPythonPythonPython... ."
   ],
   "metadata": {
    "collapsed": false
   },
   "id": "510c3051ed33ea42"
  },
  {
   "cell_type": "code",
   "execution_count": null,
   "outputs": [],
   "source": [
    "s = \"Python\"\n",
    "result = s * 20\n",
    "print(result)"
   ],
   "metadata": {
    "collapsed": false
   },
   "id": "df331e92fe086c76"
  }
 ],
 "metadata": {
  "kernelspec": {
   "display_name": "Python 3",
   "language": "python",
   "name": "python3"
  },
  "language_info": {
   "codemirror_mode": {
    "name": "ipython",
    "version": 2
   },
   "file_extension": ".py",
   "mimetype": "text/x-python",
   "name": "python",
   "nbconvert_exporter": "python",
   "pygments_lexer": "ipython2",
   "version": "2.7.6"
  }
 },
 "nbformat": 4,
 "nbformat_minor": 5
}
