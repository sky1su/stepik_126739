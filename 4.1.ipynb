{
 "cells": [
  {
   "cell_type": "markdown",
   "source": [
    "# Задача №1\n",
    "https://stepik.org/lesson/806238/step/3?unit=809367\n",
    "\n",
    "С клавиатуры подаётся в первой строке натуральное число n, а во второй строка. Необходимо вывести n раз введённую строку."
   ],
   "metadata": {
    "collapsed": false
   },
   "id": "39645babe210689d"
  },
  {
   "cell_type": "code",
   "execution_count": null,
   "outputs": [],
   "source": [
    "repeat_count = int(input())\n",
    "string = input()\n",
    "for i in range(repeat_count):\n",
    "    print(string)"
   ],
   "metadata": {
    "collapsed": false
   },
   "id": "3cd234399057f582"
  },
  {
   "cell_type": "markdown",
   "source": [
    "# Задача №2\n",
    "https://stepik.org/lesson/806238/step/4?unit=809367\n",
    "\n",
    "Напишите программу, которая запрашивает два целых числа a и b, (a<=b) и выводит все целые числа от a до b включительно через пробел с шагом 1."
   ],
   "metadata": {
    "collapsed": false
   },
   "id": "a91130d7ff886b6d"
  },
  {
   "cell_type": "code",
   "execution_count": null,
   "outputs": [],
   "source": [
    "start, end = map(int, input().split())\n",
    "result = ''\n",
    "for i in range(start, end+1):\n",
    "    result = result + str(i) + ' '\n",
    "   \n",
    "print (result)"
   ],
   "metadata": {
    "collapsed": false
   },
   "id": "ee91ef895ab9a81b"
  },
  {
   "cell_type": "markdown",
   "source": [
    "# Задача №3\n",
    "https://stepik.org/lesson/806238/step/5?unit=809367\n",
    "\n",
    "На вход подаётся натуральное число N (не более 100). Вывести в одну строку без пробелов все нечётные числа от 1 до N.\n",
    "Указание. Не используйте условный оператор if.\n",
    "\n",
    "> не придумал как обойтись без if, pr приветствуется"
   ],
   "metadata": {
    "collapsed": false
   },
   "id": "a05de5b65fff0993"
  },
  {
   "cell_type": "code",
   "execution_count": null,
   "outputs": [],
   "source": [
    "x = int(input())\n",
    "x += 1\n",
    "result = ''\n",
    "for i in range(1,x):\n",
    "    if i % 2 != 0:\n",
    "        result = result + str(i)\n",
    "print(result)"
   ],
   "metadata": {
    "collapsed": false
   },
   "id": "9a0ef2cb9a156af4"
  },
  {
   "cell_type": "markdown",
   "source": [
    "# Задача №4\n",
    "https://stepik.org/lesson/806238/step/6?unit=809367\n",
    "\n",
    "Напишите программу, которая запрашивает натуральное число N (не более 100), и выводит все числа от N до 1 через пробел."
   ],
   "metadata": {
    "collapsed": false
   },
   "id": "ea5b385f8b4a379c"
  },
  {
   "cell_type": "code",
   "execution_count": null,
   "outputs": [],
   "source": [
    "x = int(input())\n",
    "x += 1\n",
    "result = list()\n",
    "for i in range(1, x):\n",
    "    result.append(i)\n",
    "result = sorted(result, reverse=True)\n",
    "print(' '.join(map(str,result))) "
   ],
   "metadata": {
    "collapsed": false
   },
   "id": "f5e9795624830963"
  },
  {
   "cell_type": "markdown",
   "source": [
    "# Задача №5\n",
    "https://stepik.org/lesson/806238/step/7?unit=809367\n",
    "\n",
    "Даны два целых числа A и В. Выведите все числа от A до B включительно, в порядке возрастания, если A < B, или в порядке убывания в противном случае."
   ],
   "metadata": {
    "collapsed": false
   },
   "id": "7e8b92e2d1a0fd63"
  },
  {
   "cell_type": "code",
   "execution_count": null,
   "outputs": [],
   "source": [
    "num_a, num_b = map(int, input().split())\n",
    "if num_a < num_b:\n",
    "    start = num_a\n",
    "    end = num_b + 1\n",
    "    revers_flag = False\n",
    "else:\n",
    "    start = num_b\n",
    "    end = num_a +1\n",
    "    revers_flag = True\n",
    "    \n",
    "result = list()\n",
    "for i in range(start, end):\n",
    "    result.append(i)\n",
    "result = sorted(result, reverse = revers_flag)\n",
    "print(' '.join(map(str,result))) "
   ],
   "metadata": {
    "collapsed": false
   },
   "id": "42f55c6d74a1c5c8"
  }
 ],
 "metadata": {
  "kernelspec": {
   "display_name": "Python 3",
   "language": "python",
   "name": "python3"
  },
  "language_info": {
   "codemirror_mode": {
    "name": "ipython",
    "version": 2
   },
   "file_extension": ".py",
   "mimetype": "text/x-python",
   "name": "python",
   "nbconvert_exporter": "python",
   "pygments_lexer": "ipython2",
   "version": "2.7.6"
  }
 },
 "nbformat": 4,
 "nbformat_minor": 5
}
