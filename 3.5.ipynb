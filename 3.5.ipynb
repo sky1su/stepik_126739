{
 "cells": [
  {
   "cell_type": "markdown",
   "source": [
    "# Задача №1\n",
    "https://stepik.org/lesson/806236/step/2?unit=809365\n",
    "\n",
    "Дано три числа. Упорядочите их в порядке неубывания. Программа должна считывать три числа a, b, c затем программа должна менять их значения так, чтобы стали выполнены условия a <= b <= c затем программа выводит тройку a, b, c.\n",
    "\n",
    "Замечание: Программа должна содержать ровно одну функцию print()!"
   ],
   "metadata": {
    "collapsed": false
   },
   "id": "af50abbbc0e246f0"
  },
  {
   "cell_type": "code",
   "execution_count": null,
   "outputs": [],
   "source": [
    "def user_input(count):\n",
    "    result = list()\n",
    "    for i in range(count):\n",
    "        result.append(input())\n",
    "    return result\n",
    "\n",
    "data = user_input(3)\n",
    "result = ' '.join(sorted(data))\n",
    "print(result)\n"
   ],
   "metadata": {
    "collapsed": false
   },
   "id": "2b5ab3392fe91eea"
  },
  {
   "cell_type": "markdown",
   "source": [
    "# Задача №2\n",
    "https://stepik.org/lesson/806236/step/3?unit=809365\n",
    "\n",
    "Размеры шкафа A × B × C. Возможно ли его пронести через дверной проем размерами X × Y?\n",
    "\n",
    "Входные данные\n",
    "Даны целые числа A, B, C, X, Y (1 ≤ A, B, C, X, Y ≤ 100)\n",
    "\n",
    "Выходные данные\n",
    "Программа должна напечатать строку \"YES\" , если пронести возможно, \"NO\"  – если нельзя.\n",
    "\n",
    "Примечание:\n",
    "1) Примените предыдущую задачу, как вспомогательную. То есть выполните сначала упорядочивание значений и только потом сравнивайте. Конечно, возможны другие решения.\n",
    "2) Если дверной проём совпадает с размерами шкафа, то считается, что шкаф пронести можно."
   ],
   "metadata": {
    "collapsed": false
   },
   "id": "72682e7ae24c6885"
  },
  {
   "cell_type": "code",
   "execution_count": null,
   "outputs": [],
   "source": [
    "a, b, c, x, y = map(int,input().split())\n",
    "if (a <= x and b <= y) or (b <= x and a <= y) or (b <= x and c <= y) or (c <= x and b <= y) or (a <= x  and c <= y) or (c <= x and a <= y):\n",
    "    print(\"YES\")\n",
    "else:\n",
    "    print(\"NO\")"
   ],
   "metadata": {
    "collapsed": false
   },
   "id": "b7822898982a5f4c"
  },
  {
   "cell_type": "markdown",
   "source": [
    "# Задача №3 \n",
    "https://stepik.org/lesson/806236/step/4?unit=809365\n",
    "\n",
    "На столе лежат коробка размера A1 x B1 x C1 и коробка размера A2 x B2 x C2 . Выясните можно ли одну из этих коробок положить в другую, если разрешены повороты коробок вокруг любого ребра на угол 90 градусов.\n",
    "\n",
    "Входные данные\n",
    "Первая строка входных данных содержит три целых числа A1, B1 и C1.\n",
    "Вторая строка входных данных содержит три целых числа A2, B2 и C2.\n",
    "Все числа положительны и не превосходят 1000.\n",
    "\n",
    "Выходные данные\n",
    "Если коробки одинаковы, выведите \"Boxes are equal\".\n",
    "Если первая коробка может быть положена во вторую, выведите \"The first box is smaller than the second one\".\n",
    "Если вторая коробка может быть положена в первую, выведите \"The first box is larger than the second one\".\n",
    "В остальных случаях выведите \"Boxes are incomparable\"."
   ],
   "metadata": {
    "collapsed": false
   },
   "id": "30bcec1c161bf185"
  },
  {
   "cell_type": "code",
   "execution_count": null,
   "outputs": [],
   "source": [
    "def sorted3(a, b, c):\n",
    "    if c < b: c, b = b, c  # swap\n",
    "    if c < a: c, a = a, c\n",
    "    if b < a: b, a = a, b\n",
    "    return a, b, c\n",
    "\n",
    "def user_input():\n",
    "    user_in = list(map(int, input().split()))\n",
    "    return sorted3(*user_in)\n",
    "\n",
    "a, b = user_input(), user_input()\n",
    "if a == b:\n",
    "    print('Boxes are equal')\n",
    "elif all(x <= y for x, y in zip(a, b)):\n",
    "    print('The first box is smaller than the second one')\n",
    "elif all(x <= y for x, y in zip(b, a)):\n",
    "    print('The first box is larger than the second one')\n",
    "else:\n",
    "    print('Boxes are incomparable')"
   ],
   "metadata": {
    "collapsed": false
   },
   "id": "94a530ae995b870c"
  },
  {
   "cell_type": "code",
   "execution_count": null,
   "outputs": [],
   "source": [],
   "metadata": {
    "collapsed": false
   },
   "id": "a68ec3af4c12cbc"
  }
 ],
 "metadata": {
  "kernelspec": {
   "display_name": "Python 3",
   "language": "python",
   "name": "python3"
  },
  "language_info": {
   "codemirror_mode": {
    "name": "ipython",
    "version": 2
   },
   "file_extension": ".py",
   "mimetype": "text/x-python",
   "name": "python",
   "nbconvert_exporter": "python",
   "pygments_lexer": "ipython2",
   "version": "2.7.6"
  }
 },
 "nbformat": 4,
 "nbformat_minor": 5
}
