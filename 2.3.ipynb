{
 "cells": [
  {
   "cell_type": "markdown",
   "source": [
    "# Задача № 1\n",
    "https://stepik.org/lesson/806229/step/5?unit=809358\n",
    "\n",
    "Напишите программу, которая запрашивает пять целых чисел и выводит в первой строке сумму первых двух чисел, во второй строке - сумму первых трёх чисел, в третьей строке - сумму первых четырёх чисел, в четвёртой строке - сумму всех пяти чисел."
   ],
   "metadata": {
    "collapsed": false
   },
   "id": "37594f5b6c251aea"
  },
  {
   "cell_type": "code",
   "execution_count": null,
   "outputs": [],
   "source": [
    "x1 = int(input())\n",
    "x2 = int(input())\n",
    "x3 = int(input())\n",
    "x4 = int(input())\n",
    "x5 = int(input())\n",
    "line1 = x1 + x2\n",
    "line2 = line1 + x3\n",
    "line3 = line2 + x4\n",
    "line4 = line3 + x5\n",
    "print(line1, line2, line3, line4, sep='\\n')"
   ],
   "metadata": {
    "collapsed": false
   },
   "id": "6f26c5e5dbead530"
  },
  {
   "cell_type": "markdown",
   "source": [
    "# Задача №2\n",
    "https://stepik.org/lesson/806229/step/6?unit=809358\n",
    "\n",
    "Напишите программу, которая запрашивает три различные цифры (кроме 0) в порядке возрастания и выводит все возможные трёхзначные числа, которые можно составить из этих цифр. Числа должны быть выстроены по возрастанию.\n"
   ],
   "metadata": {
    "collapsed": false
   },
   "id": "4b9b6d9e72247049"
  },
  {
   "cell_type": "code",
   "execution_count": null,
   "outputs": [],
   "source": [
    "import itertools\n",
    "\n",
    "\n",
    "def user_input():\n",
    "    digit_count = 3\n",
    "    digit_input = set()\n",
    "    i = 0\n",
    "    while i < digit_count:\n",
    "        tmp = str(input())\n",
    "        if tmp not in digit_input:\n",
    "            digit_input.add(tmp)\n",
    "        i += 1\n",
    "    return (sorted(digit_input))\n",
    "\n",
    "def digit_combinations(input_str):\n",
    "    result = []\n",
    "    for item in itertools.permutations(input_str):\n",
    "        result.append(item)\n",
    "    return(result)\n",
    "\n",
    "def convert(item):\n",
    "    str = ''.join(item)\n",
    "    return str\n",
    "    \n",
    "digit_str = user_input()\n",
    "\n",
    "for item in digit_combinations(digit_str):\n",
    "    print(convert(item))\n"
   ],
   "metadata": {
    "collapsed": false
   },
   "id": "82be2131d64c268f"
  },
  {
   "cell_type": "markdown",
   "source": [
    "# Задача №3\n",
    "https://stepik.org/lesson/806229/step/7?unit=809358\n",
    "\n",
    "Напишите программу, которая считывает два действительных числа и выводит сумму, разность и произведение этих чисел."
   ],
   "metadata": {
    "collapsed": false
   },
   "id": "d8300e33dc92d619"
  },
  {
   "cell_type": "code",
   "execution_count": null,
   "outputs": [],
   "source": [
    "x1 = float(input())\n",
    "x2 = float(input())\n",
    "\n",
    "print(x1+x2)\n",
    "print(x1-x2)\n",
    "print(x1*x2)"
   ],
   "metadata": {
    "collapsed": false
   },
   "id": "cbe9b6189fbcb73"
  },
  {
   "cell_type": "markdown",
   "source": [
    "# Задача №4\n",
    "https://stepik.org/lesson/806229/step/8?unit=809358\n",
    "\n",
    "Напишите программу, которая запрашивает четыре строки и выводит их в обратном порядке по одному в строке."
   ],
   "metadata": {
    "collapsed": false
   },
   "id": "95522c5b6cd2867e"
  },
  {
   "cell_type": "code",
   "execution_count": null,
   "outputs": [],
   "source": [
    "def user_input(digit_count):\n",
    "    digit_input = []\n",
    "    i = 0\n",
    "    while i < digit_count:\n",
    "        tmp = str(input())\n",
    "        if tmp not in digit_input:\n",
    "            digit_input.append(tmp)\n",
    "        i += 1\n",
    "    return(digit_input)\n",
    "\n",
    "sting = user_input(4)\n",
    "sting.reverse()\n",
    "for item in sting:\n",
    "    print(item)"
   ],
   "metadata": {
    "collapsed": false
   },
   "id": "89f3a6ad15aee955"
  },
  {
   "cell_type": "markdown",
   "source": [
    "# Задача №5\n",
    "https://stepik.org/lesson/806229/step/11?unit=809358\n",
    "\n",
    "Напишите программу, которая запрашивает два целых числа, и выводит их в обратном порядке через пробел. \n",
    "Числа вводятся одной строкой через пробел."
   ],
   "metadata": {
    "collapsed": false
   },
   "id": "33e3200701b9355a"
  },
  {
   "cell_type": "code",
   "execution_count": null,
   "outputs": [],
   "source": [
    "sting = input()\n",
    "x1,x2 = map(int, sting.split())\n",
    "print(x2, x1)"
   ],
   "metadata": {
    "collapsed": false
   },
   "id": "f1465d7a7f47cc20"
  },
  {
   "cell_type": "markdown",
   "source": [
    "# Задача №6\n",
    "https://stepik.org/lesson/806229/step/12?unit=809358\n",
    "\n",
    "Напишите программу, которая запрашивает три цифры (от 1 до 9) и выводит число, получающееся из этих цифр в том же порядке, что и при вводе. Цифры подаются в одной строке через пробел."
   ],
   "metadata": {
    "collapsed": false
   },
   "id": "15af609a6fae34b6"
  },
  {
   "cell_type": "code",
   "execution_count": null,
   "outputs": [],
   "source": [
    "sting = input()\n",
    "x1,x2,x3 = map(str, sting.split())\n",
    "result=int(x1+x2+x3)\n",
    "print(result)"
   ],
   "metadata": {
    "collapsed": false
   },
   "id": "1603fb01cd592ac5"
  },
  {
   "cell_type": "markdown",
   "source": [
    "# Задача №7\n",
    "https://stepik.org/lesson/806229/step/13?unit=809358\n",
    "\n",
    "На вход программе подаётся четыре целых числа, между которыми стоят знаки \"*\". Программа должна вычислить значение этого выражения."
   ],
   "metadata": {
    "collapsed": false
   },
   "id": "5b245afb5285d3eb"
  },
  {
   "cell_type": "code",
   "execution_count": null,
   "outputs": [],
   "source": [
    "sting = input()\n",
    "x1,x2,x3,x4 = map(int, sting.split('*'))\n",
    "result=x1*x2*x3*x4\n",
    "print(result)"
   ],
   "metadata": {
    "collapsed": false
   },
   "id": "e129fce67875ec94"
  },
  {
   "cell_type": "markdown",
   "source": [
    "# Задача №8\n",
    "https://stepik.org/lesson/806229/step/14?unit=809358\n",
    "\n",
    "Вводятся два натуральных числа в одной строке через пробел. Догадайтесь по двум открытым тестам, какую надо написать программу, чтобы она прошла все оставшиеся закрытые наборы исходных данных."
   ],
   "metadata": {
    "collapsed": false
   },
   "id": "67637c406458566d"
  },
  {
   "cell_type": "code",
   "execution_count": null,
   "outputs": [],
   "source": [
    "string = input()\n",
    "x1,x2 = map(int, string.split())\n",
    "result=2*x1+x2\n",
    "print(result)"
   ],
   "metadata": {
    "collapsed": false
   },
   "id": "a5250f2d458fabd3"
  },
  {
   "cell_type": "markdown",
   "source": [
    "# Задача №9\n",
    "https://stepik.org/lesson/806229/step/15?unit=809358\n",
    "\n",
    "Вводится одно натуральное число. Догадайтесь по двум открытым тестам, какую надо написать программу, чтобы она прошла все оставшиеся закрытые наборы исходных данных."
   ],
   "metadata": {
    "collapsed": false
   },
   "id": "94b088f6102770c3"
  },
  {
   "cell_type": "code",
   "execution_count": null,
   "outputs": [],
   "source": [
    "x1 = int(input())\n",
    "\n",
    "result=x1*x1-1\n",
    "print(result)"
   ],
   "metadata": {
    "collapsed": false
   },
   "id": "eb182f62f2497cf"
  },
  {
   "cell_type": "markdown",
   "source": [
    "# Задача №10\n",
    "https://stepik.org/lesson/806229/step/16?unit=809358\n",
    "\n",
    "На вход программе подаются значения переменных a и b. Тип входных переменных - действительные числа. Надо вычислить значение выражения 3 - 5(a + 2b).\n",
    "\n",
    "Указание: знаки умножения при написании кода программы пропускать нельзя! "
   ],
   "metadata": {
    "collapsed": false
   },
   "id": "54d507a5b7bc1361"
  },
  {
   "cell_type": "code",
   "execution_count": null,
   "outputs": [],
   "source": [
    "sting = input()\n",
    "x1,x2 = map(float, sting.split())\n",
    "result=3-5*(x1+2*x2)\n",
    "print(result)"
   ],
   "metadata": {
    "collapsed": false
   },
   "id": "ce37a6f4159d4e19"
  }
 ],
 "metadata": {
  "kernelspec": {
   "display_name": "Python 3",
   "language": "python",
   "name": "python3"
  },
  "language_info": {
   "codemirror_mode": {
    "name": "ipython",
    "version": 2
   },
   "file_extension": ".py",
   "mimetype": "text/x-python",
   "name": "python",
   "nbconvert_exporter": "python",
   "pygments_lexer": "ipython2",
   "version": "2.7.6"
  }
 },
 "nbformat": 4,
 "nbformat_minor": 5
}
