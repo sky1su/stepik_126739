{
 "cells": [
  {
   "cell_type": "markdown",
   "source": [
    "# Задача №1\n",
    "https://stepik.org/lesson/806250/step/2?unit=809379\n",
    "\n",
    "Напишите программу, которая считывает строку и сравнивает количество вхождений символа \"1\" и \"2\". Программа должна вывести одно из трёх сообщений:\n",
    "\n",
    "1 - если \"1\" встречается чаще\n",
    "2 - если \"2\" встречается чаще\n",
    "0 - если они встречаются одинаковое количество раз."
   ],
   "metadata": {
    "collapsed": false
   },
   "id": "765a23045fd4d85c"
  },
  {
   "cell_type": "code",
   "execution_count": null,
   "outputs": [],
   "source": [
    "def count(s: str, simbol: str):\n",
    "    return s.count(simbol)\n",
    "\n",
    "s = input()\n",
    "count_1 = count(s, '1')\n",
    "count_2 = count(s, '2')\n",
    "\n",
    "if count_1 > count_2:\n",
    "    print(1)\n",
    "elif count_1 < count_2:\n",
    "    print(2)\n",
    "else:\n",
    "    print(0)"
   ],
   "metadata": {
    "collapsed": false
   },
   "id": "7c980afaf198a916"
  },
  {
   "cell_type": "markdown",
   "source": [
    "# Задача №2\n",
    "https://stepik.org/lesson/806250/step/3?unit=809379\n",
    "\n",
    "Программа получает на вход число. Это число может быть очень большим. Напишите программу, которая определяет сколько каких цифр в нём имеется и выводит в строку по порядку количество цифр. На первом месте надо вывести количество нулей, затем количество 1 и т.д.\n",
    "\n",
    "Решите эту задачу с использованием цикла for. Число считайте как строку."
   ],
   "metadata": {
    "collapsed": false
   },
   "id": "771379782bd3cb1d"
  },
  {
   "cell_type": "code",
   "execution_count": null,
   "outputs": [],
   "source": [
    "def count_simbols(s: str):\n",
    "    data = {'0': 0,\n",
    "            '1': 0,\n",
    "            '2': 0,\n",
    "            '3': 0,\n",
    "            '4': 0,\n",
    "            '5': 0,\n",
    "            '6': 0,\n",
    "            '7': 0,\n",
    "            '8': 0,\n",
    "            '9': 0\n",
    "            }\n",
    "    for l in s:\n",
    "        data[l] += 1\n",
    "    data = dict(sorted(data.items()))\n",
    "    return data\n",
    "\n",
    "s = input()\n",
    "\n",
    "data = count_simbols(s)\n",
    "\n",
    "result = ''\n",
    "for key, value in data.items():\n",
    "    result += str(value) + ' '\n",
    "\n",
    "print(result)    "
   ],
   "metadata": {
    "collapsed": false
   },
   "id": "2d8103a7e2836311"
  },
  {
   "cell_type": "markdown",
   "source": [
    "# Задача №3\n",
    "https://stepik.org/lesson/806250/step/5?unit=809379\n",
    "\n",
    "Напишите программу, которая будет заменять в данной строке все точки, кроме последней (эта точка стоит в конце строки) на восклицательные знаки. \n",
    "\n",
    "Входные данные:\n",
    "Строка, которая содержит произвольные символы и одну или несколько точек. Гарантируется, что в конце строки находится символ точка.\n",
    "\n",
    "Выходные данные:\n",
    "Строка, в которой на последнем месте стоит точка. Внутри строки все точки заменены на восклицательные знаки."
   ],
   "metadata": {
    "collapsed": false
   },
   "id": "8eae4fcd6f527dce"
  },
  {
   "cell_type": "code",
   "execution_count": null,
   "outputs": [],
   "source": [
    "def string_processing(s: str):\n",
    "    shift = len(s) -1\n",
    "    tmp = s[:shift]\n",
    "    tmp = tmp.replace('.','!')\n",
    "    tmp += s[shift:]\n",
    "    return tmp\n",
    "\n",
    "s = input()\n",
    "print(string_processing(s))"
   ],
   "metadata": {
    "collapsed": false
   },
   "id": "bcc25549eda30bfd"
  },
  {
   "cell_type": "markdown",
   "source": [
    "# Задача №4\n",
    "https://stepik.org/lesson/806250/step/6?unit=809379\n",
    "\n",
    "Дана строка. Удалите из этой строки все символы открывающихся и закрывающихся круглых скобок - \"(\" и \")\"."
   ],
   "metadata": {
    "collapsed": false
   },
   "id": "b413a28a0a2e1c3e"
  },
  {
   "cell_type": "code",
   "execution_count": null,
   "outputs": [],
   "source": [
    "s = input()\n",
    "s = s.replace('(', '')\n",
    "s = s.replace(')', '')\n",
    "print(s)"
   ],
   "metadata": {
    "collapsed": false
   },
   "id": "d25b44cff44252d8"
  },
  {
   "cell_type": "markdown",
   "source": [
    "# Задача №5\n",
    "https://stepik.org/lesson/806250/step/7?unit=809379\n",
    "\n",
    "Напишите программу, которая удаляет каждый третий символ в исходной строке, начиная с первого символа, индекс которого 0."
   ],
   "metadata": {
    "collapsed": false
   },
   "id": "1c6f412058fc872b"
  },
  {
   "cell_type": "code",
   "execution_count": null,
   "outputs": [],
   "source": [
    "def remove_simbols(s: str, shift: int):\n",
    "    result = ''\n",
    "    for i in range(len(s)):\n",
    "        if i % shift != 0:\n",
    "            result += s[i]\n",
    "    return result\n",
    "\n",
    "s = input()\n",
    "\n",
    "print(remove_simbols(s, 3))"
   ],
   "metadata": {
    "collapsed": false
   },
   "id": "a92208bf0bf7ee2f"
  },
  {
   "cell_type": "markdown",
   "source": [
    "# Задача №6\n",
    "https://stepik.org/lesson/806250/step/9?unit=809379\n",
    "\n",
    "Дана строка. Если в этой строке буква d встречается только один раз, выведите её индекс. Если она встречается два и более раз, выведите индекс её первого и последнего появления. Если буква d в данной строке не встречается, ничего не выводите.\n",
    "\n",
    "При решении используйте методы функций."
   ],
   "metadata": {
    "collapsed": false
   },
   "id": "2a5ff32f5653a7ad"
  },
  {
   "cell_type": "code",
   "execution_count": null,
   "outputs": [],
   "source": [
    "s = input()\n",
    "fletter = 'd'\n",
    "\n",
    "first_index = s.find(fletter)\n",
    "last_index = s.rfind(fletter)\n",
    "\n",
    "if first_index != last_index != -1:\n",
    "    print (first_index, last_index)\n",
    "elif first_index != -1:\n",
    "    print(first_index)\n"
   ],
   "metadata": {
    "collapsed": false
   },
   "id": "d13cbbb4964c9ab"
  },
  {
   "cell_type": "markdown",
   "source": [
    "# Задача №7\n",
    "https://stepik.org/lesson/806250/step/10?unit=809379\n",
    "\n",
    "Дана строка, в которой буква z встречается минимум два раза. Удалите из этой строки все символы до первого вхождения z и все символы после последнего вхождения z. Буквы z не удалять."
   ],
   "metadata": {
    "collapsed": false
   },
   "id": "7901b0561f0c6f5"
  },
  {
   "cell_type": "code",
   "execution_count": null,
   "outputs": [],
   "source": [
    "s = input()\n",
    "fletter = 'z'\n",
    "\n",
    "first_index = s.find(fletter)\n",
    "last_index = s.rfind(fletter) + 1\n",
    "\n",
    "print(s[first_index:last_index:])"
   ],
   "metadata": {
    "collapsed": false
   },
   "id": "59ccc616577124e"
  },
  {
   "cell_type": "markdown",
   "source": [
    "# Задача №8\n",
    "https://stepik.org/lesson/806250/step/11?unit=809379\n",
    "\n",
    "Дана строка, состоящая ровно из двух слов, разделенных пробелом. Переставьте эти слова местами. Результат запишите в строку и выведите получившуюся строку.\n",
    "\n",
    "При решении этой задачи не использовать цикл и условный оператор."
   ],
   "metadata": {
    "collapsed": false
   },
   "id": "ea3511f049c86ee7"
  },
  {
   "cell_type": "code",
   "execution_count": null,
   "outputs": [],
   "source": [
    "s = input()\n",
    "fletter = ' '\n",
    "\n",
    "first_index = s.find(fletter)\n",
    "\n",
    "print(s[first_index+1:], s[:first_index])"
   ],
   "metadata": {
    "collapsed": false
   },
   "id": "7b3cfc237e58704d"
  }
 ],
 "metadata": {
  "kernelspec": {
   "display_name": "Python 3",
   "language": "python",
   "name": "python3"
  },
  "language_info": {
   "codemirror_mode": {
    "name": "ipython",
    "version": 2
   },
   "file_extension": ".py",
   "mimetype": "text/x-python",
   "name": "python",
   "nbconvert_exporter": "python",
   "pygments_lexer": "ipython2",
   "version": "2.7.6"
  }
 },
 "nbformat": 4,
 "nbformat_minor": 5
}
