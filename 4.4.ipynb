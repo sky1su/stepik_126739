{
 "cells": [
  {
   "cell_type": "markdown",
   "source": [
    "# Задача №1\n",
    "https://stepik.org/lesson/806241/step/2?unit=809370\n",
    "\n",
    "По данному натуральному n≥2 вычислите сумму 1×2+2×3+...+(n-1)×n. Ответ выведите в виде вычисленного выражение и его значения в точности, как показано в примере.\n",
    "\n",
    "Входные данные\n",
    "Вводится натуральное число.\n",
    "\n",
    "Выходные данные\n",
    "Выведите ответ на задачу."
   ],
   "metadata": {
    "collapsed": false
   },
   "id": "12e5d2377818d412"
  },
  {
   "cell_type": "code",
   "execution_count": null,
   "outputs": [],
   "source": [
    "def calculate(n):\n",
    "    total = 0\n",
    "    string = list()\n",
    "    for i in range(1, n):\n",
    "        string.append(f'{i}*{i+1}')\n",
    "        total += i * (i+1)\n",
    "    return '='.join(['+'.join(string), str(total)])\n",
    "\n",
    "n = int(input())\n",
    "print(calculate(n))"
   ],
   "metadata": {
    "collapsed": false
   },
   "id": "39a3645222839478"
  },
  {
   "cell_type": "markdown",
   "source": [
    "# Задача №2\n",
    "https://stepik.org/lesson/806241/step/3?unit=809370\n",
    "\n",
    "Дано натуральное число n. Выведите в порядке возрастания все трехзначные числа, сумма цифр которых равна n.\n",
    "\n",
    "Входные данные\n",
    "Вводится натуральное число n.\n",
    "\n",
    "Выходные данные\n",
    "Выведите ответ на задачу."
   ],
   "metadata": {
    "collapsed": false
   },
   "id": "52163a79a0bf2b3e"
  },
  {
   "cell_type": "code",
   "execution_count": null,
   "outputs": [],
   "source": [
    "def check_sum(number, n):\n",
    "    number = str(number)\n",
    "    if int(number[0]) + int(number[1]) + int(number[2]) == n:\n",
    "        return True\n",
    "    return False\n",
    "\n",
    "n = int(input())\n",
    "for i in range(100, 1000):\n",
    "    if check_sum(i, n):\n",
    "        print(i)"
   ],
   "metadata": {
    "collapsed": false
   },
   "id": "2cf0af9503abca0a"
  },
  {
   "cell_type": "markdown",
   "source": [
    "# Задача №3\n",
    "https://stepik.org/lesson/806241/step/4?unit=809370\n",
    "\n",
    "Даны два четырёхзначных числа A и B. Выведите все четырёхзначные числа на отрезке от A до B, запись которых является палиндромом.\n",
    "\n",
    "Входные данные\n",
    "Вводятся два целых числа A и B\n",
    "\n",
    "Выходные данные\n",
    "Выведите ответ на задачу.\n",
    "\n",
    "Указание. Числа, которые одинаково читаются как справа налево, так и слева направо, называются палиндромами. Понятие палиндрома очень часто встречается в школьных задачах на программирование. Бывают текстовые палиндромы, например: \n",
    "А роза упала на лапу Азора. "
   ],
   "metadata": {
    "collapsed": false
   },
   "id": "ae67d7be42e3967b"
  },
  {
   "cell_type": "code",
   "execution_count": null,
   "outputs": [],
   "source": [
    "def check_number(number):\n",
    "    number = str(number)\n",
    "    if number == number[::-1]:\n",
    "        return True\n",
    "    return False\n",
    "\n",
    "start = int(input())\n",
    "end = int(input())\n",
    "end += 1\n",
    "for i in range(start, end):\n",
    "    if check_number(i):\n",
    "        print(i)"
   ],
   "metadata": {
    "collapsed": false
   },
   "id": "384fe3a2b4d2204c"
  },
  {
   "cell_type": "markdown",
   "source": [
    "# Задача №4\n",
    "https://stepik.org/lesson/806241/step/5?unit=809370\n",
    "\n",
    "Даны два четырёхзначных числа A и B. Выведите в порядке возрастания все четырёхзначные числа в интервале от A до B, запись которых содержит ровно три одинаковые цифры.\n",
    "\n",
    "Входные данные\n",
    "Вводятся два целых числа A и B.\n",
    "\n",
    "Выходные данные\n",
    "Выведите ответ на задачу.\n",
    "\n",
    "Примечание. В языке Python ветки условного оператора нельзя оставлять пустыми. В ветке обязательно должна быть записана хотя бы одна команда. Но иногда алгоритм выстраивается таким образом, что после проверки условия ничего делать не надо. Чтобы такая конструкция работала, используют команду pass. Как может выглядеть код:\n",
    "if x > 0 and y > 0:\n",
    "      pass\n",
    "elif x > 0:\n",
    "      print......\n",
    "Возможно, вам в этой задаче пригодится команда pass. Но это не обязательно)"
   ],
   "metadata": {
    "collapsed": false
   },
   "id": "14de0d815d96f630"
  },
  {
   "cell_type": "code",
   "execution_count": null,
   "outputs": [],
   "source": [
    "def check_number(number):\n",
    "    number = str(number)\n",
    "    for i in number:\n",
    "        if number.count(i) == 3:\n",
    "            return True\n",
    "    return False\n",
    "\n",
    "start = int(input())\n",
    "end = int(input())\n",
    "end += 1\n",
    "for i in range(start, end):\n",
    "    if check_number(i):\n",
    "        print(i)"
   ],
   "metadata": {
    "collapsed": false
   },
   "id": "c65bf24f4fa1da9e"
  },
  {
   "cell_type": "markdown",
   "source": [
    "# Задача №5\n",
    "https://stepik.org/lesson/806241/step/6?unit=809370\n",
    "\n",
    "Найдите и выведите все двузначные числа, которые равны удвоенному произведению своих цифр.\n",
    "\n",
    "Входные данные\n",
    "Программа не требует ввода данных с клавиатуры, просто выводит список искомых чисел.\n",
    "\n",
    "Выходные данные\n",
    "Выведите ответ на задачу.\n",
    "\n",
    "Примечание. Организуйте перебор всех двузначных чисел с помощью цикла for, внутри цикла разложите двузначные числа на цифры и проверьте условие, которое сформулировано в условии задачи."
   ],
   "metadata": {
    "collapsed": false
   },
   "id": "e08cd59e9fd71edf"
  },
  {
   "cell_type": "code",
   "execution_count": null,
   "outputs": [],
   "source": [
    "def calculate(number):\n",
    "    number = str(number)\n",
    "    result = int(number[0]) * int(number[1]) *2\n",
    "    return result\n",
    "\n",
    "for i in range(10, 100):\n",
    "    if i == calculate(i):\n",
    "        print(i)"
   ],
   "metadata": {
    "collapsed": false
   },
   "id": "ff5c100af1c9ef60"
  },
  {
   "cell_type": "markdown",
   "source": [
    "# Задача №6\n",
    "https://stepik.org/lesson/806241/step/7?unit=809370\n",
    "\n",
    "Напишите программу, которая вводит натуральные числа a и b , и выводит квадраты натуральных чисел в диапазоне [ a , b ] .\n",
    "\n",
    "Входные данные\n",
    "Входная строка содержит два натуральных числа – значения a и b . Гарантируется, что a ≤ b .\n",
    "\n",
    "Выходные данные\n",
    "Программа должна вывести квадраты чисел в диапазоне [ a , b ]"
   ],
   "metadata": {
    "collapsed": false
   },
   "id": "2cdc644af3d0638"
  },
  {
   "cell_type": "code",
   "execution_count": null,
   "outputs": [],
   "source": [
    "start, end = map(int, input().split())\n",
    "end += 1\n",
    "for i in range(start, end):\n",
    "    print(f'{i}*{i}={i*i}')"
   ],
   "metadata": {
    "collapsed": false
   },
   "id": "57c4098086a6f1f5"
  }
 ],
 "metadata": {
  "kernelspec": {
   "display_name": "Python 3",
   "language": "python",
   "name": "python3"
  },
  "language_info": {
   "codemirror_mode": {
    "name": "ipython",
    "version": 2
   },
   "file_extension": ".py",
   "mimetype": "text/x-python",
   "name": "python",
   "nbconvert_exporter": "python",
   "pygments_lexer": "ipython2",
   "version": "2.7.6"
  }
 },
 "nbformat": 4,
 "nbformat_minor": 5
}
