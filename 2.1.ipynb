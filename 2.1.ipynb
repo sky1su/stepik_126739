{
 "cells": [
  {
   "cell_type": "markdown",
   "source": [
    "# Задача №3\n",
    "https://stepik.org/lesson/806227/step/5?unit=809356\n",
    "\n",
    "Напишите программу, которая печатает сообщение \"Hello, World!\". Текст должен быть напечатан без кавычек. Обратите внимание на то, чтобы фраза на 100% соответствовала заданию. Все пробелы и все знаки препинания должны быть на месте.\n",
    "\n",
    "Пробел для человека - просто пустое место, а для компьютера - это реальный двоичный символ! То есть один лишний пробел или отсутствие пробела меняет двоичный код фразы и тестирующая система воспримет вашу фразу, как другую, не соответствующую заданию. Пока привыкайте. Об этом более подробно будем говорить в разделе Строки."
   ],
   "metadata": {
    "collapsed": false
   },
   "id": "e9616ca3bb7d45d1"
  },
  {
   "cell_type": "code",
   "execution_count": null,
   "outputs": [],
   "source": [
    "print(\"Hello, World!\")"
   ],
   "metadata": {
    "collapsed": false
   },
   "id": "7800d3f6830e3298"
  },
  {
   "cell_type": "markdown",
   "source": [
    "# Задача №4\n",
    "https://stepik.org/lesson/806227/step/6?unit=809356\n",
    "\n",
    "Напишите программу, которая выводит сумму чисел от 1 до 8, то есть 1+2+3+...+8.\n",
    "Вычислять самим ничего не нужно. Напишите арифметическое выражение в операторе вывода."
   ],
   "metadata": {
    "collapsed": false
   },
   "id": "372965908a44b751"
  },
  {
   "cell_type": "code",
   "execution_count": null,
   "outputs": [],
   "source": [
    "def sum_val(a, b) -> int:\n",
    "    return a + b\n",
    "\n",
    "result = 0\n",
    "for value in range(9):\n",
    "    result = sum_val(value, result)\n",
    "\n",
    "print(result)"
   ],
   "metadata": {
    "collapsed": false
   },
   "id": "6300d0b69174b8cc"
  },
  {
   "cell_type": "markdown",
   "source": [
    "# Задача №5\n",
    "https://stepik.org/lesson/806227/step/7?unit=809356\n",
    "\n",
    "Напишите программу, которая вычисляет факториал числа 10. \n",
    "\n",
    "Факториал натурального числа n - это произведение всех натуральных чисел от 1 до n включительно.\n",
    "То есть n! = 1*2*3*...*n, а факториал числа 6! = 1*2*3*4*5*6."
   ],
   "metadata": {
    "collapsed": false
   },
   "id": "b1fd42d9d3c4f5cc"
  },
  {
   "cell_type": "code",
   "execution_count": null,
   "outputs": [],
   "source": [
    "def calc(a: int, b: int) -> int:\n",
    "    return a * b\n",
    "\n",
    "result = 1\n",
    "for value in range(1, 11):\n",
    "    result = calc(value, result)\n",
    "\n",
    "print(result)"
   ],
   "metadata": {
    "collapsed": false
   },
   "id": "7782943b2230faee"
  },
  {
   "cell_type": "markdown",
   "source": [
    "# Задача №6\n",
    "https://stepik.org/lesson/806227/step/8?unit=809356\n",
    "\n",
    "Напишите программу, которая выводит сумму дробных чисел 1/2 + 1/3 + 1/4 + 1/5 + 1/6.\n",
    "\n",
    "Вычислять самим ничего не нужно. Напишите арифметическое выражение в операторе вывода."
   ],
   "metadata": {
    "collapsed": false
   },
   "id": "4ba26928845bce6f"
  },
  {
   "cell_type": "code",
   "execution_count": null,
   "outputs": [],
   "source": [
    "print(1/2 + 1/3 + 1/4 + 1/5 + 1/6)"
   ],
   "metadata": {
    "collapsed": false
   },
   "id": "60758264c4e75dc6"
  },
  {
   "cell_type": "markdown",
   "source": [
    "# Задача №7\n",
    "https://stepik.org/lesson/806227/step/9?unit=809356\n",
    "\n",
    "Напишите программу, которая выводит на экран три строки по три числа через пробел в таком виде:\n",
    "\n",
    "1 2 3\n",
    "4 5 6\n",
    "7 8 9\n",
    "\n",
    "Замечание:\n",
    "Используйте оператор print(), в котором через запятую укажите список вывода."
   ],
   "metadata": {
    "collapsed": false
   },
   "id": "8e26115b02c3d968"
  },
  {
   "cell_type": "code",
   "execution_count": null,
   "outputs": [],
   "source": [
    "print('1 2 3','4 5 6','7 8 9', sep='\\n')"
   ],
   "metadata": {
    "collapsed": false
   },
   "id": "a5f754a0781fe511"
  },
  {
   "cell_type": "markdown",
   "source": [
    "# Задача №8\n",
    "https://stepik.org/lesson/806227/step/12?unit=809356\n",
    "\n",
    "Напишите программу, которая выводит на экран три строки по три числа через ДВА ПРОБЕЛА между числами.\n",
    "Между строками надо вывести ПУСТЫЕ СТРОКИ.\n",
    "\n",
    "1  2  3\n",
    "\n",
    "4  5  6\n",
    "\n",
    "7  8  9\n",
    "\n",
    "Замечание:\n",
    "Используйте параметр sep в операторе print() для вывода двух пробелов. "
   ],
   "metadata": {
    "collapsed": false
   },
   "id": "afe8f4ce060bf9aa"
  },
  {
   "cell_type": "code",
   "execution_count": null,
   "outputs": [],
   "source": [
    "print(1, 2, 3, sep='  ')\n",
    "print()\n",
    "print(4, 5, 6, sep='  ')\n",
    "print()\n",
    "print(7, 8, 9, sep='  ')"
   ],
   "metadata": {
    "collapsed": false
   },
   "id": "c331f9721df2c08"
  },
  {
   "cell_type": "markdown",
   "source": [
    "# Задача №9\n",
    "https://stepik.org/lesson/806227/step/13?unit=809356\n",
    "\n",
    "Напишите программу, которая выводит на экран такие строки:\n",
    "\n",
    "1+2+3\n",
    "4*5*6\n",
    "7-8-9\n",
    "\n",
    "Замечание:\n",
    "Используйте параметр sep в операторе print() для вывода знаков между числами."
   ],
   "metadata": {
    "collapsed": false
   },
   "id": "80fc884c7740a0b7"
  },
  {
   "cell_type": "code",
   "execution_count": null,
   "outputs": [],
   "source": [
    "print(1, 2, 3, sep='+')\n",
    "print(4, 5, 6, sep='*')\n",
    "print(7, 8, 9, sep='-')"
   ],
   "metadata": {
    "collapsed": false
   },
   "id": "3b6861e913fe6d1e"
  },
  {
   "cell_type": "markdown",
   "source": [
    "# Задача №10\n",
    "https://stepik.org/lesson/806227/step/14?unit=809356\n",
    "\n",
    "Напишите программу, которая печатает следующие строки:\n",
    "\n",
    "Изучаю я Питон,\n",
    "Очень нравится мне он!\n",
    "Буду дальше изучать,\n",
    "Много я смогу понять!\n",
    "\n",
    "Замечание: Для того, чтобы программа была зачтена тестирующей системой, необходимо, чтобы ваши строки строго соответствовали заданию. Тестирующая система сравнивает двоичные коды каждого символа."
   ],
   "metadata": {
    "collapsed": false
   },
   "id": "ac7c324aa403d1d9"
  },
  {
   "cell_type": "code",
   "execution_count": null,
   "outputs": [],
   "source": [
    "print(\"\"\"Изучаю я Питон,\n",
    "Очень нравится мне он!\n",
    "Буду дальше изучать,\n",
    "Много я смогу понять!\"\"\")"
   ],
   "metadata": {
    "collapsed": false
   },
   "id": "78b6acf46597a693"
  }
 ],
 "metadata": {
  "kernelspec": {
   "display_name": "Python 3",
   "language": "python",
   "name": "python3"
  },
  "language_info": {
   "codemirror_mode": {
    "name": "ipython",
    "version": 2
   },
   "file_extension": ".py",
   "mimetype": "text/x-python",
   "name": "python",
   "nbconvert_exporter": "python",
   "pygments_lexer": "ipython2",
   "version": "2.7.6"
  }
 },
 "nbformat": 4,
 "nbformat_minor": 5
}
