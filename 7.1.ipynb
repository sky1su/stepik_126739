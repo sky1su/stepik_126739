{
 "cells": [
  {
   "cell_type": "markdown",
   "source": [
    "# Задача №1\n",
    "https://stepik.org/lesson/806253/step/2?unit=809382\n",
    "\n",
    "Напишите программу, которая создаёт массив внутри программы с данными, которые содержат количество дней в каждом месяце в невисокосном году (в феврале 28 - дней). Элементов в массиве должно быть ровно 12 - по количеству месяцев в году. Выведите массив на печать с квадратными скобками и с запятыми."
   ],
   "metadata": {
    "collapsed": false
   },
   "id": "834186043d1f2aba"
  },
  {
   "cell_type": "code",
   "execution_count": null,
   "outputs": [],
   "source": [
    "# from calendar import monthrange\n",
    "# month_days = list()\n",
    "# for month in range(1,13):\n",
    "#     month_days.append(monthrange(2023,month)[1])\n",
    "\n",
    "month_days = [31, 28, 31, 30, 31, 30, 31, 31, 30, 31, 30, 31]\n",
    "print(month_days)"
   ],
   "metadata": {
    "collapsed": false
   },
   "id": "f49a2450aad96f93"
  },
  {
   "cell_type": "markdown",
   "source": [
    "# Задача №2\n",
    "https://stepik.org/lesson/806253/step/3?unit=809382\n",
    "\n",
    "Напишите программу, которая создаёт массив, состоящий из n нулей, (1 <= n <= 100). Число n подаётся с клавиатуры. Массив выведите в квадратных скобках."
   ],
   "metadata": {
    "collapsed": false
   },
   "id": "f5276f05a5ecd29a"
  },
  {
   "cell_type": "code",
   "execution_count": null,
   "outputs": [],
   "source": [
    "count = int(input())\n",
    "list = [0]*count\n",
    "print(list)"
   ],
   "metadata": {
    "collapsed": false
   },
   "id": "e95d50567eaaa45e"
  },
  {
   "cell_type": "markdown",
   "source": [
    "# Задача №3\n",
    "https://stepik.org/lesson/806253/step/4?unit=809382\n",
    "\n",
    "Напишите программу, которая считает среднее арифметическое первых трёх элементов массива. Найденное значение округляется, то есть печатается только целая часть, дробная часть отбрасывается.\n",
    "\n",
    "Массив уже задан в программе. Надо обратиться по индексам к указанным элементам и организовать вычисления в формуле.\n",
    "\n"
   ],
   "metadata": {
    "collapsed": false
   },
   "id": "e7f3875e5287dd46"
  },
  {
   "cell_type": "code",
   "execution_count": null,
   "outputs": [],
   "source": [
    "A = [2345, 3455, 6789, 2343, 234, 1232]\n",
    "result = int((A[0]+A[1]+A[2])/3)\n",
    "print(result)"
   ],
   "metadata": {
    "collapsed": false
   },
   "id": "5e087f5377075fec"
  },
  {
   "cell_type": "markdown",
   "source": [
    "# Задача №4\n",
    "https://stepik.org/lesson/806253/step/5?unit=809382\n",
    "\n",
    "Петя Иванов написал программу, в которой имеется массив, содержащий числа от 1 до 5. И в какой-то момент, ему было необходимо вывести последний элемент в массиве. Он написал такой код:\n",
    "\n",
    "```\n",
    "A = [1, 2, 3, 4, 5]\n",
    "...\n",
    "print (A[5])\n",
    "```\n",
    "Вопрос следующий. С каким вариантом ошибки столкнётся Петя? В теории этого не было. Но раз вы дошли до этого урока, то способны додуматься логически или написать код и проверить его) Часто теорию хорошо учить на практике!\n",
    "\n",
    "Для тех, кто способен доходчиво объяснить почему так ведёт себя код, пишите в комментариях разумное объяснение. "
   ],
   "metadata": {
    "collapsed": false
   },
   "id": "b66e609b535e871d"
  },
  {
   "cell_type": "markdown",
   "source": [
    "```\n",
    "Index Error\n",
    "```"
   ],
   "metadata": {
    "collapsed": false
   },
   "id": "7f184d8458d9fbb"
  },
  {
   "cell_type": "markdown",
   "source": [
    "# Задача №5\n",
    "https://stepik.org/lesson/806253/step/6?unit=809382\n",
    "\n",
    "Петя Иванов продолжает тренироваться писать программы по обработке массивов. Теперь он написал такой код:\n",
    "\n",
    "```\n",
    "A = [1, 2, 3, 4, 5, 6\n",
    "print (A[5])\n",
    "```\n",
    "     \n",
    "С каким вариантом ошибки теперь столкнётся Петя? "
   ],
   "metadata": {
    "collapsed": false
   },
   "id": "d8a3eae683f97141"
  },
  {
   "cell_type": "markdown",
   "source": [
    "Syntax Error"
   ],
   "metadata": {
    "collapsed": false
   },
   "id": "46edfe07493cacbf"
  },
  {
   "cell_type": "markdown",
   "source": [
    "# Задача №6\n",
    "https://stepik.org/lesson/806253/step/7?unit=809382\n",
    "\n",
    "Неутомимый Петя Иванов продолжает писать программы по обработке массивов. Теперь он написал вот так:\n",
    "```\n",
    "A = [1, 2, 3, 4, 5, 6]\n",
    "print (A(5))\n",
    "```\n",
    "Всё ли верно в его коде? Или он опять что-то пишет не так?"
   ],
   "metadata": {
    "collapsed": false
   },
   "id": "a1e53161c504c905"
  },
  {
   "cell_type": "markdown",
   "source": [
    "```\n",
    "Ошибка Туре Error\n",
    "```"
   ],
   "metadata": {
    "collapsed": false
   },
   "id": "e7cb97ebcc97eee5"
  },
  {
   "cell_type": "markdown",
   "source": [
    "# Задача №7\n",
    "https://stepik.org/lesson/806253/step/9?unit=809382\n",
    "\n",
    "На вход массива подаётся сначала количество элементов массива, а потом сами элементы одной строкой через пробел. Элементы массива - целые числа. Считайте данные в массив, и выведите на печать элементы массива в столбец."
   ],
   "metadata": {
    "collapsed": false
   },
   "id": "a9a4ed06fb4fb51e"
  },
  {
   "cell_type": "code",
   "execution_count": null,
   "outputs": [],
   "source": [
    "count = int(input())\n",
    "array = list(map(int, input().split()))\n",
    "for i in range(count):\n",
    "    print(array[i])"
   ],
   "metadata": {
    "collapsed": false
   },
   "id": "521a0a210cb7a79a"
  },
  {
   "cell_type": "markdown",
   "source": [
    "# Задача №8\n",
    "https://stepik.org/lesson/806253/step/10?unit=809382\n",
    "\n",
    "На вход массива подаётся сначала количество элементов массива n, а потом сами элементы одной строкой через пробел. Элементы массива - строки.\n",
    "\n",
    "Затем подаётся число m - количество элементов, которые надо напечатать одной строкой без пробела.\n",
    "\n",
    "Считайте данные в массив, и выведите на печать первые m элементов."
   ],
   "metadata": {
    "collapsed": false
   },
   "id": "ad1bf028b8c87af7"
  },
  {
   "cell_type": "code",
   "execution_count": null,
   "outputs": [],
   "source": [
    "n = int(input())\n",
    "array = list(input().split())\n",
    "m = int(input())\n",
    "result = ''\n",
    "for i in range(m):\n",
    "    result += str(array[i])\n",
    "print(result)"
   ],
   "metadata": {
    "collapsed": false
   },
   "id": "822c10d8c7bdd061"
  },
  {
   "cell_type": "markdown",
   "source": [
    "# Задача №9\n",
    "https://stepik.org/lesson/806253/step/11?unit=809382\n",
    "\n",
    "На вход программы подаётся набор действительных чисел одной строкой через пробел. Считайте их в массив и выведите на печать каждый второй элемент. То есть надо напечатать элементы с индексами 0, 2, 4, 6 и т.д. Способ вывода - в столбик."
   ],
   "metadata": {
    "collapsed": false
   },
   "id": "2f130e65c0184bda"
  },
  {
   "cell_type": "code",
   "execution_count": null,
   "outputs": [],
   "source": [
    "array = list(map(float,input().split()))\n",
    "for i in range(len(array)):\n",
    "    if i%2 == 0:\n",
    "        print(array[i])"
   ],
   "metadata": {
    "collapsed": false
   },
   "id": "7612f5dd46830a6e"
  },
  {
   "cell_type": "markdown",
   "source": [
    "# Задача №10\n",
    "https://stepik.org/lesson/806253/step/12?unit=809382\n",
    "\n",
    "Меняем ориентацию ввода данных. Теперь данные подаются в столбец )\n",
    "\n",
    "На вход этой задаче подаётся сначала количество элементов массива - число n, причём гарантируется, что оно чётное. Затем подаются сами элементы в столбец.\n",
    "\n",
    "Надо считать данные в массив и вывести половину элементов одной строкой через пробел, на следующей строке вывести вторую половину элементов также через пробел.\n",
    "\n",
    "Для продвинутых: если будете выводить другим способом, не описанным в теории. То имейте в виду, что после последнего символа в строке должен быть пробел. Иначе - тестирующая система не примет. "
   ],
   "metadata": {
    "collapsed": false
   },
   "id": "6ead0ba1af92d416"
  },
  {
   "cell_type": "code",
   "execution_count": null,
   "outputs": [],
   "source": [
    "count = int(input())\n",
    "array = list()\n",
    "for i in range(count):\n",
    "    array.append(input())\n",
    "middle = int(count/2)\n",
    "print(' '.join(array[:middle]),' ', sep='')\n",
    "print(' '.join(array[middle:]),' ', sep='')"
   ],
   "metadata": {
    "collapsed": false
   },
   "id": "e23997b4429c2b6"
  },
  {
   "cell_type": "markdown",
   "source": [
    "# Задача №11\n",
    "https://stepik.org/lesson/806253/step/13?unit=809382\n",
    "\n",
    "На вход программы подаётся сначала натуральное число - количество элементов в массиве. Затем сами элементы. Элементы массива - целые числа. Элементы подаются по одному в строке. \n",
    "\n",
    "Напишите программу, которая считает массив целых чисел, а затем напечатает его в зеркальном отображении. Первый элемент на последнем месте, второй на предпоследнем и так далее.\n",
    "\n",
    "Для вывода используйте цикл for с шагом -1. "
   ],
   "metadata": {
    "collapsed": false
   },
   "id": "208089b39e64bc4e"
  },
  {
   "cell_type": "code",
   "execution_count": null,
   "outputs": [],
   "source": [
    "count = int(input())\n",
    "array = list()\n",
    "for i in range(count):\n",
    "    array.append(input())\n",
    "print(' '.join(array[::-1]))"
   ],
   "metadata": {
    "collapsed": false
   },
   "id": "b38d64f0c09abb4"
  },
  {
   "cell_type": "markdown",
   "source": [
    "# Задача №12\n",
    "https://stepik.org/lesson/806253/step/14?unit=809382\n",
    "\n",
    "На вход программы подаётся сначала натуральное чётное число n - количество элементов массива. Далее подаются n элементов массива. Элементы массива - строкового типа. Надо считать массив. Затем выдать элементы массива в таком виде: на первой строке первый и последний элементы через пробел, на второй строке второй и предпоследний, на третьей строке - третий сначала и третий с конца и так далее."
   ],
   "metadata": {
    "collapsed": false
   },
   "id": "18ada7f7863b7d5c"
  },
  {
   "cell_type": "code",
   "execution_count": null,
   "outputs": [],
   "source": [
    "count = int(input())\n",
    "array = list()\n",
    "for i in range(count):\n",
    "    array.append(input())\n",
    "    \n",
    "for i in range(int(count/2)):\n",
    "    print(array[i], array[-i-1])\n",
    "    "
   ],
   "metadata": {
    "collapsed": false
   },
   "id": "243fa50c475cbc4b"
  }
 ],
 "metadata": {
  "kernelspec": {
   "display_name": "Python 3",
   "language": "python",
   "name": "python3"
  },
  "language_info": {
   "codemirror_mode": {
    "name": "ipython",
    "version": 2
   },
   "file_extension": ".py",
   "mimetype": "text/x-python",
   "name": "python",
   "nbconvert_exporter": "python",
   "pygments_lexer": "ipython2",
   "version": "2.7.6"
  }
 },
 "nbformat": 4,
 "nbformat_minor": 5
}
