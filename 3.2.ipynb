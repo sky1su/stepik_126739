{
 "cells": [
  {
   "cell_type": "markdown",
   "source": [
    "# Задача №1\n",
    "https://stepik.org/lesson/806233/step/3?unit=809362\n",
    "\n",
    "Напишите программу, которая запрашивает натуральное число и отвечает на вопрос: \"Введённое число оканчивается на цифру 4 или цифру 5\". Если да, то выведите - \"yes\", в противном случае - \"no\"."
   ],
   "metadata": {
    "collapsed": false
   },
   "id": "31ea84f5d23be432"
  },
  {
   "cell_type": "code",
   "execution_count": null,
   "outputs": [],
   "source": [
    "x = input()\n",
    "if int(x[-1]) == 4 or int(x[-1]) == 5:\n",
    "    print('yes')\n",
    "else:\n",
    "    print('no')"
   ],
   "metadata": {
    "collapsed": false
   },
   "id": "d9c46e993093ef97"
  },
  {
   "cell_type": "markdown",
   "source": [
    "# Задача №2\n",
    "https://stepik.org/lesson/806233/step/4?unit=809362\n",
    "\n",
    "Напишите программу, которая запрашивает натуральное число и отвечает на вопрос: \"Введённое число трёхзначное и чётное?\". Если да, то выведите - \"YES\", в противном случае - \"NO\".\n",
    "\n",
    "Примечание: Число называется чётным, если оно без остатка делится на 2. Четность числа проверяется с помощью такого условия x % 2 == 0, а нечётность x % 2 != 0."
   ],
   "metadata": {
    "collapsed": false
   },
   "id": "2073c7987993f4b6"
  },
  {
   "cell_type": "code",
   "execution_count": null,
   "outputs": [],
   "source": [
    "x = input()\n",
    "if len(x) == 3:\n",
    "    if int(x)%2 == 0:\n",
    "        print('YES')\n",
    "    else:\n",
    "        print('NO')\n",
    "else:\n",
    "    print('NO')"
   ],
   "metadata": {
    "collapsed": false
   },
   "id": "6318be6e683cce7c"
  },
  {
   "cell_type": "markdown",
   "source": [
    "# Задача №3\n",
    "https://stepik.org/lesson/806233/step/5?unit=809362\n",
    "\n",
    "Напишите программу, которая запрашивает натуральное число и отвечает на вопрос: \"Введённое число находится внутри отрезка [1; 10] или [20; 30]\". Если да, то выведите - \"True\", в противном случае ничего выводить не надо."
   ],
   "metadata": {
    "collapsed": false
   },
   "id": "8a54773bc7e781d2"
  },
  {
   "cell_type": "code",
   "execution_count": null,
   "outputs": [],
   "source": [
    "x = int(input())\n",
    "\n",
    "if (x >= 1 and x <= 10) or (x >= 20 and x <= 30):\n",
    "    print('True')"
   ],
   "metadata": {
    "collapsed": false
   },
   "id": "52ebb40986d814ad"
  },
  {
   "cell_type": "markdown",
   "source": [
    "# Задача №4\n",
    "https://stepik.org/lesson/806233/step/6?unit=809362\n",
    "\n",
    "Напишите программу, которая вводит одной строкой три целых числа: a, b, c. Проверить истинность высказывания: \"Ровно одно из чисел a, b, c положительное\". Если высказывание истинно, выведите - \"True\", иначе ничего выводить не надо.\n",
    "\n",
    "Для решения задачи надо помнить: Число 0 не является ни положительным ни отрицательным."
   ],
   "metadata": {
    "collapsed": false
   },
   "id": "b2707317ff349f38"
  },
  {
   "cell_type": "code",
   "execution_count": null,
   "outputs": [],
   "source": [
    "a,b,c = map(int, input().split())\n",
    "\n",
    "if ((a > 0 and (b <= 0 and c <= 0)) \n",
    "        or (b > 0 and (a <= 0 and c <= 0)) \n",
    "        or (c > 0 and (a <= 0 and b <= 0))):\n",
    "    print('True')\n",
    "    "
   ],
   "metadata": {
    "collapsed": false
   },
   "id": "be1ff05b505db23c"
  }
 ],
 "metadata": {
  "kernelspec": {
   "display_name": "Python 3",
   "language": "python",
   "name": "python3"
  },
  "language_info": {
   "codemirror_mode": {
    "name": "ipython",
    "version": 2
   },
   "file_extension": ".py",
   "mimetype": "text/x-python",
   "name": "python",
   "nbconvert_exporter": "python",
   "pygments_lexer": "ipython2",
   "version": "2.7.6"
  }
 },
 "nbformat": 4,
 "nbformat_minor": 5
}
