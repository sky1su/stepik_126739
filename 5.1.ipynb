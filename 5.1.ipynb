{
 "cells": [
  {
   "cell_type": "markdown",
   "source": [
    "# Задача №1\n",
    "https://stepik.org/lesson/806242/step/2?unit=809371\n",
    "\n",
    "Программа получает на вход последовательность целых неотрицательных чисел, каждое число записано в отдельной строке. Последовательность завершается числом 0, при считывании которого программа должна закончить свою работу и вывести количество членов последовательности (не считая завершающего числа 0).\n",
    "\n",
    "Числа, следующие за числом 0, считывать не нужно.\n",
    "\n",
    "Входные данные\n",
    "Вводится последовательность целых чисел, заканчивающаяся числом 0.\n",
    "\n",
    "Выходные данные\n",
    "Выведите ответ на задачу."
   ],
   "metadata": {
    "collapsed": false
   },
   "id": "471ea4ef4ad16a87"
  },
  {
   "cell_type": "code",
   "execution_count": null,
   "outputs": [],
   "source": [
    "count = 0\n",
    "x = int(input())\n",
    "\n",
    "while x != 0:\n",
    "    count += 1\n",
    "    x = int(input())\n",
    "    \n",
    "print (count)"
   ],
   "metadata": {
    "collapsed": false
   },
   "id": "955ce9706e0f3350"
  },
  {
   "cell_type": "markdown",
   "source": [
    "# Задача №2\n",
    "https://stepik.org/lesson/806242/step/3?unit=809371\n",
    "\n",
    "Программа получает на вход последовательность натуральных чисел, каждое число записано в отдельной строке. Последовательность завершается числом 0, при считывании которого программа должна закончить свою работу и вывести сумму элементов последовательности, кратных пяти. Числа, следующие за числом 0, считывать не нужно."
   ],
   "metadata": {
    "collapsed": false
   },
   "id": "c773482047706909"
  },
  {
   "cell_type": "code",
   "execution_count": null,
   "outputs": [],
   "source": [
    "result = 0\n",
    "x = int(input())\n",
    "\n",
    "while x != 0:\n",
    "    if x % 5 ==0:\n",
    "        result += x\n",
    "    x = int(input())\n",
    "    \n",
    "print (result)"
   ],
   "metadata": {
    "collapsed": false
   },
   "id": "fc03b6f4fff8c61a"
  },
  {
   "cell_type": "markdown",
   "source": [
    "# Задача №3\n",
    "https://stepik.org/lesson/806242/step/5?unit=809371\n",
    "\n",
    "Определите среднее значение всех элементов последовательности, завершающейся числом 0. Гарантируется, что в последовательности есть хотя бы один элемент.\n",
    "\n",
    "Входные данные\n",
    "Вводится последовательность целых чисел, оканчивающаяся числом 0 (число 0 в последовательность не входит, а служит как признак ее окончания)\n",
    "\n",
    "Выходные данные\n",
    "Выведите ответ на задачу."
   ],
   "metadata": {
    "collapsed": false
   },
   "id": "6ccd672ddad0c211"
  },
  {
   "cell_type": "code",
   "execution_count": null,
   "outputs": [],
   "source": [
    "result = 0\n",
    "count = 0\n",
    "x = int(input())\n",
    "\n",
    "while x != 0:\n",
    "    count += 1\n",
    "    result += x\n",
    "    x = int(input())\n",
    "    \n",
    "print (result/count)"
   ],
   "metadata": {
    "collapsed": false
   },
   "id": "a9df456112707dbb"
  },
  {
   "cell_type": "markdown",
   "source": [
    "# Задача №4\n",
    "https://stepik.org/lesson/806242/step/6?unit=809371\n",
    "\n",
    "Определите количество отрицательных и количество положительных элементов последовательности, завершающейся числом 0.\n",
    "\n",
    "Входные данные\n",
    "Вводится последовательность целых чисел, оканчивающаяся числом 0 (число 0 в последовательность не входит, а служит как признак ее окончания)\n",
    "\n",
    "Выходные данные\n",
    "Выведите количество положительных элементов и через пробел количество отрицательных элементов последовательности."
   ],
   "metadata": {
    "collapsed": false
   },
   "id": "2294e5746ff4059a"
  },
  {
   "cell_type": "code",
   "execution_count": null,
   "outputs": [],
   "source": [
    "positive = 0\n",
    "negative = 0\n",
    "x = int(input())\n",
    "\n",
    "while x != 0:\n",
    "    if x > 0:\n",
    "        positive += 1\n",
    "    else:\n",
    "        negative += 1\n",
    "    x = int(input())\n",
    "    \n",
    "print (positive, negative)"
   ],
   "metadata": {
    "collapsed": false
   },
   "id": "a12398fcb5f94188"
  },
  {
   "cell_type": "markdown",
   "source": [
    "# Задача №5\n",
    "https://stepik.org/lesson/806242/step/7?unit=809371\n",
    "\n",
    "Вводится последовательность целых чисел, оканчивающаяся числом 0. Определите, есть ли среди элементов последовательности двузначное чётное число. Выведите YES, если такое число встретилось и NO - в противном случае.\n",
    "\n",
    "Входные данные\n",
    "Вводится последовательность целых чисел, оканчивающаяся числом 0 (число 0 в последовательность не входит, а служит как признак ее окончания)\n",
    "\n",
    "Выходные данные\n",
    "Выведите YES, если встретилось двузначное чётное число и NO - в противном случае."
   ],
   "metadata": {
    "collapsed": false
   },
   "id": "a31f6db0a0a3dd2d"
  },
  {
   "cell_type": "code",
   "execution_count": null,
   "outputs": [],
   "source": [
    "x = int(input())\n",
    "f = \"NO\"\n",
    "\n",
    "while x != 0:\n",
    "    if x in range(10, 100):\n",
    "        if x % 2 == 0:\n",
    "            f = \"YES\"\n",
    "    x = int(input())\n",
    "    \n",
    "print(f)"
   ],
   "metadata": {
    "collapsed": false
   },
   "id": "90ed5f36f0df5670"
  }
 ],
 "metadata": {
  "kernelspec": {
   "display_name": "Python 3",
   "language": "python",
   "name": "python3"
  },
  "language_info": {
   "codemirror_mode": {
    "name": "ipython",
    "version": 2
   },
   "file_extension": ".py",
   "mimetype": "text/x-python",
   "name": "python",
   "nbconvert_exporter": "python",
   "pygments_lexer": "ipython2",
   "version": "2.7.6"
  }
 },
 "nbformat": 4,
 "nbformat_minor": 5
}
