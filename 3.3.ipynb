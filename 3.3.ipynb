{
 "cells": [
  {
   "cell_type": "markdown",
   "source": [
    "# Задача №1\n",
    "https://stepik.org/lesson/806234/step/3?unit=809363\n",
    "\n",
    "Напишите программу, которая вводит номер месяца и выводит название времени года на английском языке. При вводе неверного номера месяца должно быть выведено слово 'NO'.\n",
    "\n",
    "На вход программе подаётся одно целое число.\n",
    "\n",
    "Нужно вывести название времени года (на английском языке), соответствующее введённому номеру месяца ('winter' – зима, 'spring' – весна, 'summer' – лето, 'autumn' – осень). Если введён неверный номер месяца, программы должна вывести слово 'NO'."
   ],
   "metadata": {
    "collapsed": false
   },
   "id": "b974da18bdcaf24a"
  },
  {
   "cell_type": "code",
   "execution_count": null,
   "outputs": [],
   "source": [
    "winter = [12,1,2]\n",
    "spring = [3,4,5]\n",
    "summer = [6,7,8]\n",
    "autumn = [9,10,11]\n",
    "\n",
    "x = int(input())\n",
    "\n",
    "if x >= 1 and x <= 12:\n",
    "    if x in winter:\n",
    "        print('winter')\n",
    "    elif x in spring:\n",
    "        print('spring')\n",
    "    elif x in summer:\n",
    "        print('summer')\n",
    "    elif x in autumn:\n",
    "        print('autumn')\n",
    "else:\n",
    "    print('NO')"
   ],
   "metadata": {
    "collapsed": false
   },
   "id": "1e5f472c66c81a1a"
  },
  {
   "cell_type": "markdown",
   "source": [
    "# Задача №2\n",
    "https://stepik.org/lesson/806234/step/4?unit=809363\n",
    "\n",
    "Напишите программу, которая вводит с клавиатуры номер месяца и определяет, сколько дней в этом месяце. При вводе неверного номера месяца должно быть выведено сообщение об ошибке. Считается, что год не високосный.\n",
    "\n",
    "Входная строка содержит единственное целое число – номер месяца (возможно, неправильный).\n",
    "\n",
    "Выходная строка должна содержать одно целое число – количество дней в этом месяце или 0, если был введён неверный номер месяца."
   ],
   "metadata": {
    "collapsed": false
   },
   "id": "7d3c3c6713daa48"
  },
  {
   "cell_type": "code",
   "execution_count": null,
   "outputs": [],
   "source": [
    "month = {'1': 31,\n",
    "         '2': 28,\n",
    "         '3': 31,\n",
    "         '4': 30,\n",
    "         '5': 31,\n",
    "         '6': 30,\n",
    "         '7': 31,\n",
    "         '8': 31,\n",
    "         '9': 30,\n",
    "         '10': 31,\n",
    "         '11': 30,\n",
    "         '12': 31}\n",
    "\n",
    "x = input()\n",
    "\n",
    "if x in month.keys():\n",
    "    print(month[str(x)])\n",
    "else:\n",
    "    print(0)"
   ],
   "metadata": {
    "collapsed": false
   },
   "id": "746e59072fc1bc66"
  },
  {
   "cell_type": "markdown",
   "source": [
    "# Задача №3\n",
    "https://stepik.org/lesson/806234/step/5?unit=809363\n",
    "\n",
    "Три целых числа подаются в столбик. Определите, сколько среди них совпадающих. Программа должна вывести число 3, если все числа совпадают. Число 2, если только 2 совпадают. Или число 0, если все числа различны."
   ],
   "metadata": {
    "collapsed": false
   },
   "id": "a42f746ff1238348"
  },
  {
   "cell_type": "code",
   "execution_count": null,
   "outputs": [],
   "source": [
    "x = list()\n",
    "count = 3\n",
    "for i in range(count):\n",
    "    x.append(input())\n",
    "\n",
    "tmp_var = set()\n",
    "for i in x:\n",
    "    tmp_var.add(x.count(i))\n",
    "\n",
    "if len(tmp_var) == 2:\n",
    "    print(2)\n",
    "else:\n",
    "    if tmp_var.pop() == 3:\n",
    "        print(3)\n",
    "    else:\n",
    "        print(0)\n",
    "\n",
    "# print (tmp_var)"
   ],
   "metadata": {
    "collapsed": false
   },
   "id": "544cbc36dde0077e"
  },
  {
   "cell_type": "markdown",
   "source": [
    "# Задача №4\n",
    "https://stepik.org/lesson/806234/step/6?unit=809363\n",
    "\n",
    "Даны координаты двух точек на плоскости, требуется определить, лежат ли они в одной координатной четверти или нет (все координаты отличны от нуля).\n",
    "Вводятся 4 числа: координаты первой точки (x1, y1) и координаты второй точки (x2, y2).\n",
    "Программа должна вывести слово YES, если точки находятся в одной координатной четверти, в противном случае вывести слово NO."
   ],
   "metadata": {
    "collapsed": false
   },
   "id": "7557758ed05e68e1"
  },
  {
   "cell_type": "code",
   "execution_count": null,
   "outputs": [],
   "source": [
    "x1, y1 = map(int, input().split())\n",
    "x2, y2 = map(int, input().split())\n",
    "\"\"\"\n",
    "   |\n",
    "__2|1___\n",
    "  3|4\n",
    "   |\n",
    "\"\"\"\n",
    "def check_space(x,y):\n",
    "    if x > 0 and y > 0:\n",
    "        return 1\n",
    "    elif x < 0 and y > 0:\n",
    "        return 2\n",
    "    elif x < 0 and y < 0:\n",
    "        return 3\n",
    "    elif x > 0 and y < 0:\n",
    "        return 4\n",
    "    \n",
    "if check_space(x1,y1) == check_space(x2,y2):\n",
    "    print('YES')\n",
    "else:\n",
    "    print('NO')"
   ],
   "metadata": {
    "collapsed": false
   },
   "id": "ccd300414e641303"
  },
  {
   "cell_type": "markdown",
   "source": [
    "# Задача №5\n",
    "https://stepik.org/lesson/806234/step/7?unit=809363\n",
    "\n",
    "Напишите программу, которая запрашивает три числа, два из которых равны между собой, а третье не равно первым двум. Найдите это, не равное остальным, число."
   ],
   "metadata": {
    "collapsed": false
   },
   "id": "aff90fb3e2ef495d"
  },
  {
   "cell_type": "code",
   "execution_count": null,
   "outputs": [],
   "source": [
    "# TO_DO"
   ],
   "metadata": {
    "collapsed": false
   },
   "id": "45c3268627d82a78"
  }
 ],
 "metadata": {
  "kernelspec": {
   "display_name": "Python 3",
   "language": "python",
   "name": "python3"
  },
  "language_info": {
   "codemirror_mode": {
    "name": "ipython",
    "version": 2
   },
   "file_extension": ".py",
   "mimetype": "text/x-python",
   "name": "python",
   "nbconvert_exporter": "python",
   "pygments_lexer": "ipython2",
   "version": "2.7.6"
  }
 },
 "nbformat": 4,
 "nbformat_minor": 5
}
