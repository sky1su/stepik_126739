{
 "cells": [
  {
   "cell_type": "markdown",
   "source": [
    "\n",
    "# Задача №1\n",
    "https://stepik.org/lesson/806231/step/3?unit=809360\n",
    "\n",
    "Необходимо разложить по коробкам n книг. В каждую коробку можно положить ровно m книг. Сколько коробок понадобится? \n",
    "На вход программе подаётся два натуральных числа n и m."
   ],
   "metadata": {
    "collapsed": false
   },
   "id": "9a700f974c88f08e"
  },
  {
   "cell_type": "code",
   "execution_count": null,
   "outputs": [],
   "source": [
    "import math\n",
    "\n",
    "\n",
    "book_count, box_cap = map(int, input().split())\n",
    "print(math.ceil(book_count/box_cap))"
   ],
   "metadata": {
    "collapsed": false,
    "ExecuteTime": {
     "start_time": "2023-11-04T12:00:49.164633Z"
    }
   },
   "id": "fcddb84af91775f2"
  },
  {
   "cell_type": "markdown",
   "source": [
    "# Задача №2\n",
    "https://stepik.org/lesson/806231/step/4?unit=809360\n",
    "\n",
    "В школе решили набрать три новых математических класса. Так как занятия по математике у них проходят в одно и то же время, было решено выделить кабинет для каждого класса и купить в них новые парты. За каждой партой может сидеть не больше двух учеников. Известно количество учащихся в каждом из трёх классов. Сколько всего нужно закупить парт чтобы их хватило на всех учеников? Программа получает на вход три натуральных числа: количество учащихся в каждом из трех классов."
   ],
   "metadata": {
    "collapsed": false
   },
   "id": "e6b9093152f4ab5e"
  },
  {
   "cell_type": "code",
   "execution_count": 21,
   "outputs": [
    {
     "data": {
      "text/plain": "[20, 21, 22]"
     },
     "execution_count": 21,
     "metadata": {},
     "output_type": "execute_result"
    }
   ],
   "source": [
    "students_count = []\n",
    "class_count = 3\n",
    "for i in range(class_count):\n",
    "    students_count.append(int(input()))\n",
    "    \n",
    "students_count"
   ],
   "metadata": {
    "collapsed": false,
    "ExecuteTime": {
     "end_time": "2023-11-04T10:00:09.050727Z",
     "start_time": "2023-11-04T10:00:03.749975Z"
    }
   },
   "id": "a436e63973836e52"
  },
  {
   "cell_type": "code",
   "execution_count": null,
   "outputs": [],
   "source": [
    "import math\n",
    "def count_tables(students):\n",
    "    table_cap = 2\n",
    "    return math.ceil(students / table_cap)\n",
    "\n",
    "total_count = 0\n",
    "for i in students_count:\n",
    "    total_count += count_tables(i)\n",
    "    \n",
    "print(total_count)"
   ],
   "metadata": {
    "collapsed": false,
    "ExecuteTime": {
     "start_time": "2023-11-04T12:00:49.165965Z"
    }
   },
   "id": "c14a16564af1dd18"
  },
  {
   "cell_type": "markdown",
   "source": [
    "# Задача №3\n",
    "https://stepik.org/lesson/806231/step/5?unit=809360\n",
    "Автомобиль проезжает в день х км. Требуется преодолеть путь длинной в y км. Сколько целых дней требуется заложить путешественникам при таких условиях? \n",
    "\n",
    "На вход программе подаётся сначала целое число x, в следующей строке подаётся число y."
   ],
   "metadata": {
    "collapsed": false
   },
   "id": "1bff6ff2fc6ed285"
  },
  {
   "cell_type": "code",
   "execution_count": null,
   "outputs": [],
   "source": [
    "day_travel = int(input())\n",
    "total_travel = int(input())"
   ],
   "metadata": {
    "collapsed": false,
    "ExecuteTime": {
     "start_time": "2023-11-04T12:00:49.166650Z"
    }
   },
   "id": "237f80f65f8fd735"
  },
  {
   "cell_type": "code",
   "execution_count": 25,
   "outputs": [
    {
     "name": "stdout",
     "output_type": "stream",
     "text": [
      "2\n"
     ]
    }
   ],
   "source": [
    "import math\n",
    "print(math.ceil(total_travel / day_travel))"
   ],
   "metadata": {
    "collapsed": false,
    "ExecuteTime": {
     "end_time": "2023-11-04T10:14:01.989916Z",
     "start_time": "2023-11-04T10:14:01.985903Z"
    }
   },
   "id": "2215c88afe3e3f83"
  },
  {
   "cell_type": "markdown",
   "source": [
    "# Задача №4\n",
    "https://stepik.org/lesson/806231/step/6?unit=809360\n",
    "Улитка ползет по вертикальному шесту высотой h метров, поднимаясь за день на a метров, а за ночь спускаясь на b метров. На какой день улитка доползет до вершины шеста?\n",
    "\n",
    "Программа получает на вход натуральные числа h, a, b.  Гарантируется, что a>b."
   ],
   "metadata": {
    "collapsed": false
   },
   "id": "e58492172e2f6aa"
  },
  {
   "cell_type": "code",
   "execution_count": null,
   "outputs": [],
   "source": [
    "h = int(input())\n",
    "day_step = int(input())\n",
    "night_step = int(input())\n"
   ],
   "metadata": {
    "collapsed": false,
    "ExecuteTime": {
     "start_time": "2023-11-04T12:00:49.167342Z"
    }
   },
   "id": "534f9c72327fc079"
  },
  {
   "cell_type": "code",
   "execution_count": null,
   "outputs": [],
   "source": [
    "def check_finish(h, day_step):\n",
    "    if (h - day_step) <= 0:\n",
    "        return True\n",
    "    return False\n",
    "\n",
    "def day_travel(h: int, day_step: int, night_step: int) -> int:\n",
    "    if check_finish(h,day_step):\n",
    "        return 0\n",
    "    else:\n",
    "        return h - (day_step - night_step)\n",
    "    \n",
    "count_day = 0\n",
    "while h != 0:\n",
    "    h = day_travel(h,day_step,night_step)\n",
    "    count_day += 1\n",
    "    \n",
    "print(count_day)"
   ],
   "metadata": {
    "collapsed": false,
    "ExecuteTime": {
     "start_time": "2023-11-04T12:00:49.167999Z"
    }
   },
   "id": "7ee2d881fe9da1ab"
  },
  {
   "cell_type": "markdown",
   "source": [
    "# Задача №5\n",
    "https://stepik.org/lesson/806231/step/7?unit=809360\n",
    "\n",
    "В некоторой школе занятия начинаются в 9:00. Продолжительность урока — 45 минут, после 1-го, 3-го, 5-го и т.д. уроков перемена 5 минут, а после 2-го, 4-го, 6-го и т.д. — 15 минут.\n",
    "\n",
    "Дан номер урока (число от 1 до 10). Определите, когда заканчивается указанный урок.\n",
    "\n",
    "Выведите два целых числа: время окончания урока в часах и минутах."
   ],
   "metadata": {
    "collapsed": false
   },
   "id": "73206815ea93d208"
  },
  {
   "cell_type": "code",
   "execution_count": null,
   "outputs": [],
   "source": [
    "# TO_DO"
   ],
   "metadata": {
    "collapsed": false
   },
   "id": "5c58eab0e835f86b"
  }
 ],
 "metadata": {
  "kernelspec": {
   "display_name": "Python 3",
   "language": "python",
   "name": "python3"
  },
  "language_info": {
   "codemirror_mode": {
    "name": "ipython",
    "version": 2
   },
   "file_extension": ".py",
   "mimetype": "text/x-python",
   "name": "python",
   "nbconvert_exporter": "python",
   "pygments_lexer": "ipython2",
   "version": "2.7.6"
  }
 },
 "nbformat": 4,
 "nbformat_minor": 5
}
