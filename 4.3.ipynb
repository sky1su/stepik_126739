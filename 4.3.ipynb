{
 "cells": [
  {
   "cell_type": "markdown",
   "source": [
    "# Задача №1\n",
    "https://stepik.org/lesson/806240/step/2?unit=809369\n",
    "\n",
    "На вход программы подаются два натуральных числа n и m. Программа должна построить таблицу, состоящую из нулей.\n",
    "В таблице должно быть n строк. В каждой строке m нулей. Нули выводятся через пробел.\n",
    "\n",
    "Замечание: Если вы решаете другим способом, отличным от той теории, которая рассмотрена в данном уроке, то имейте в виду, что в конце каждой строки имеются пробелы. "
   ],
   "metadata": {
    "collapsed": false
   },
   "id": "b1c74615575aae4c"
  },
  {
   "cell_type": "code",
   "execution_count": null,
   "outputs": [],
   "source": [
    "def print_matrix(n,m):\n",
    "    for i in range(n):\n",
    "        line = ''\n",
    "        for j in range(m):\n",
    "            line += '0 '\n",
    "        print(line)\n",
    "        \n",
    "n, m = map(int, input().split())\n",
    "print_matrix(n,m)"
   ],
   "metadata": {
    "collapsed": false
   },
   "id": "a7a280ae462c865f"
  },
  {
   "cell_type": "markdown",
   "source": [
    "# Задача №2\n",
    "https://stepik.org/lesson/806240/step/3?unit=809369\n",
    "\n",
    "На вход программы подаются два натуральных числа n и m. Выведите n строк по m чисел. Первая строка состоит из единиц, вторая из двоек и т.д."
   ],
   "metadata": {
    "collapsed": false
   },
   "id": "c40d334503df95bb"
  },
  {
   "cell_type": "code",
   "execution_count": null,
   "outputs": [],
   "source": [
    "def print_matrix(n,m, filler):\n",
    "    for i in range(n):\n",
    "        line = ''\n",
    "        for j in range(m):\n",
    "            line += str(filler) + ' '\n",
    "        filler += 1\n",
    "        print(line)\n",
    "        \n",
    "n, m = map(int, input().split())\n",
    "print_matrix(n,m, 1)"
   ],
   "metadata": {
    "collapsed": false
   },
   "id": "aa697a3bc649b2ee"
  },
  {
   "cell_type": "markdown",
   "source": [
    "# Задача №3\n",
    "https://stepik.org/lesson/806240/step/4?unit=809369\n",
    "\n",
    "На вход программы подаётся натуральное число. Надо напечатать квадратную матрицу, состоящую из 0 и 1. В верхнем левом углу должен стоять 0.\n",
    "\n",
    "Подсказка: Понаблюдайте за чётностью суммы  i + j. Печатайте остатки от деления этой суммы. "
   ],
   "metadata": {
    "collapsed": false
   },
   "id": "785b69054ef8e18b"
  },
  {
   "cell_type": "code",
   "execution_count": null,
   "outputs": [],
   "source": [
    "def print_matrix(n,m):\n",
    "    for i in range(n):\n",
    "        line = ''\n",
    "        for j in range(m):\n",
    "            if (i + j) % 2 == 0:\n",
    "                line += '0 '\n",
    "            else:\n",
    "                line += '1 '\n",
    "        print(line)\n",
    "        \n",
    "n = int(input())\n",
    "print_matrix(n,n)"
   ],
   "metadata": {
    "collapsed": false
   },
   "id": "c1083095ef637f7a"
  },
  {
   "cell_type": "markdown",
   "source": [
    "# Задача №4\n",
    "https://stepik.org/lesson/806240/step/6?unit=809369\n",
    "\n",
    "Старинная задача. Сколько можно купить быков, коров и телят, если плата за быка 10 рублей, за корову — 5 рублей, за теленка — полтинник (0.5 рубля), если на 100 рублей надо купить 100 голов скота.\n",
    "\n",
    "Входные данные\n",
    "На вход никаких данных не подаётся. Вся исходная информация берётся из условия задачи.\n",
    "\n",
    "Выходные данные\n",
    "Вывести одной строкой через пробел возможное количество быков, коров и телят.\n",
    "\n",
    "> решение из лекционной части материала. "
   ],
   "metadata": {
    "collapsed": false
   },
   "id": "ba6e5ec22f2a4f97"
  },
  {
   "cell_type": "code",
   "execution_count": null,
   "outputs": [],
   "source": [
    "for b in range(11):\n",
    "    for k in range(21):\n",
    "        for t in range(101):\n",
    "            if  b+k+t==100 and b*10 + k*5 + t*0.5 == 100:\n",
    "                print (b, k, t)"
   ],
   "metadata": {
    "collapsed": false
   },
   "id": "acae413854da0a2e"
  },
  {
   "cell_type": "markdown",
   "source": [
    "# Задача №5\n",
    "https://stepik.org/lesson/806240/step/7?unit=809369\n",
    "\n",
    "На вход программы подаётся натуральное число n - количество рублей (2<=n <=100). Надо разменять n рублей монетами номиналом 1 руб, 2 руб и 5 руб. В качестве ответа вывести все возможные варианты размена. Сначала вывести количество рублёвых монет, потом двухрублёвых и пятирублёвых. \n",
    "\n",
    "Входные данные\n",
    "Натуральное число n (2<=n<=100)\n",
    "\n",
    "Выходные данные\n",
    "Количество рублёвых монет, количество двухрублёвых, количество пятирублёвых."
   ],
   "metadata": {
    "collapsed": false
   },
   "id": "1896f0b85adc37a8"
  },
  {
   "cell_type": "code",
   "execution_count": null,
   "outputs": [],
   "source": [
    "def calculate_coins(coin):\n",
    "    result = list()\n",
    "    for coin_1 in range(101):\n",
    "        for coin_2 in range(51):\n",
    "            for coin_5 in range(21):\n",
    "                if  coin_5 * 5 + coin_2 * 2 + coin_1 == coin:\n",
    "                    result.append(' '.join(map(str,[coin_1, coin_2, coin_5])))\n",
    "    return result\n",
    "\n",
    "def print_matrix(data):\n",
    "    for i in data:\n",
    "        print(i)\n",
    "\n",
    "coin = int(input())\n",
    "data = calculate_coins(coin)\n",
    "print_matrix(data)"
   ],
   "metadata": {
    "collapsed": false
   },
   "id": "177e2fa66330d0e3"
  },
  {
   "cell_type": "markdown",
   "source": [
    "# Задача №6\n",
    "https://stepik.org/lesson/806240/step/8?unit=809369\n",
    "\n",
    "На вход программы подаётся натуральное число n - количество рублей (1<=n <=100). Надо разменять n рублей монетами номиналом 1 руб, 2 руб и 5 руб. В качестве ответа вывести количество всех возможных вариантов размена\n",
    "\n",
    "Входные данные\n",
    "Натуральное число n (2<=n<=100)\n",
    "\n",
    "Выходные данные\n",
    "Количество возможных вариантов размена."
   ],
   "metadata": {
    "collapsed": false
   },
   "id": "9b558f6760fee0dd"
  },
  {
   "cell_type": "code",
   "execution_count": null,
   "outputs": [],
   "source": [
    "def calculate_coins(coin):\n",
    "    result = list()\n",
    "    for coin_1 in range(101):\n",
    "        for coin_2 in range(51):\n",
    "            for coin_5 in range(21):\n",
    "                if  coin_5 * 5 + coin_2 * 2 + coin_1 == coin:\n",
    "                    result.append(' '.join(map(str,[coin_1, coin_2, coin_5])))\n",
    "    return result\n",
    "\n",
    "coin = int(input())\n",
    "data = calculate_coins(coin)\n",
    "print(len(data))"
   ],
   "metadata": {
    "collapsed": false
   },
   "id": "275cf6cac229212"
  },
  {
   "cell_type": "markdown",
   "source": [
    "# Задача №7\n",
    "https://stepik.org/lesson/806240/step/10?unit=809369\n",
    "\n",
    "Дан ребус ДА + ДА = НЕТ. Необходимо заменить буквы цифрами так, чтобы получилось верное равенство. Разным буквам соответствуют разные цифры. Число не может начинаться с нуля.\n",
    "\n",
    "Надо написать программу, которая находит все решения (если есть несколько). И вывести их в виде ДА+ДА=НЕТ строго без пробелов.\n",
    "\n",
    "> решение из лекционной части материала. "
   ],
   "metadata": {
    "collapsed": false
   },
   "id": "9e930750d66b2dce"
  },
  {
   "cell_type": "code",
   "execution_count": null,
   "outputs": [],
   "source": [
    "for d in range(2,10):\n",
    "   for a in range(10):\n",
    "      for e in range(10):\n",
    "         for t in range(10):\n",
    "            if  a!=1 and e!=1 and  t!=1 and  d!=a and d!=e and  d!=t and a!=e and a!=t and e!=t:\n",
    "               if (d*10+a) + (d*10+a) == 100+e*10+t:\n",
    "                  print (d*10+a,'+',d*10+a,'=',100+e*10+t, sep=\"\")"
   ],
   "metadata": {
    "collapsed": false
   },
   "id": "4165e51f1b61063"
  },
  {
   "cell_type": "markdown",
   "source": [
    "# Задача №8\n",
    "https://stepik.org/lesson/806240/step/11?unit=809369\n",
    "\n",
    "Напишите программу, которая выводит решение ребуса ИКС+ИСК=КСИ. Одинаковым буквам соответствуют одинаковые цифры. Разным буквам соответствуют разные цифры. ИКС, ИСК, КСИ -- трехзначные числа. Числа не могут начинаться с нуля."
   ],
   "metadata": {
    "collapsed": false
   },
   "id": "7a024e886a43602b"
  },
  {
   "cell_type": "code",
   "execution_count": null,
   "outputs": [],
   "source": [
    "for i in range(1, 10):\n",
    "    for k in range(1, 10):\n",
    "        for s in range(10):\n",
    "            if i != k and k != s:\n",
    "                iks = int(str(i)+str(k)+str(s))\n",
    "                isk = int(str(i)+str(s)+str(k))\n",
    "                ksi = int(str(k)+str(s)+str(i))\n",
    "                if iks + isk == ksi:\n",
    "                    print (f'{iks}+{isk}={ksi}')"
   ],
   "metadata": {
    "collapsed": false
   },
   "id": "cf06d47e29bf3084"
  },
  {
   "cell_type": "markdown",
   "source": [
    "# Задача №9\n",
    "https://stepik.org/lesson/806240/step/12?unit=809369\n",
    "\n",
    "Напишите программу, которая выводит решение ребуса ЖУК*ЕЖ=ЖЖЖЖЖ. Одинаковым буквам соответствуют одинаковые цифры. Разным буквам соответствуют разные цифры. Числа не могут начинаться с нуля.\n",
    "\n",
    "В выводе между цифрами и знаками должны отсутствовать пробелы. "
   ],
   "metadata": {
    "collapsed": false
   },
   "id": "fb360d91dabba851"
  },
  {
   "cell_type": "code",
   "execution_count": null,
   "outputs": [],
   "source": [
    "for z in range(1,10):\n",
    "    for e in range(1,10):\n",
    "        for u in range(10):\n",
    "            for k in range(10):\n",
    "                if z != e and e != u and u != k:\n",
    "                    zuk = int(str(z)+str(u)+str(k))\n",
    "                    ez = int(str(e)+str(z))\n",
    "                    zzzzz = int(str(z)*5)\n",
    "                    if zuk * ez == zzzzz:\n",
    "                        print (f'{zuk}*{ez}={zzzzz}')"
   ],
   "metadata": {
    "collapsed": false
   },
   "id": "7ad77930ea22dc53"
  },
  {
   "cell_type": "markdown",
   "source": [
    "# Задача №10\n",
    "https://stepik.org/lesson/806240/step/13?unit=809369\n",
    "\n",
    "Напишите программу, которая выводит решение ребуса (K+u+B)^3=KUB, где знак ^ означает возведение в степень. Одинаковым буквам соответствуют одинаковые цифры. Разным буквам соответствуют разные цифры.\n",
    "Выведите решение в формате (k+U+B)^3=KUB﻿, где вместо букв подставлены цифры."
   ],
   "metadata": {
    "collapsed": false
   },
   "id": "8a5b61684bd9b060"
  },
  {
   "cell_type": "code",
   "execution_count": null,
   "outputs": [],
   "source": [
    "def num_pow(number, power):\n",
    "    tmp = 1\n",
    "    for i in range(power):\n",
    "        tmp = tmp * number\n",
    "    return tmp\n",
    "\n",
    "for k in range(10):\n",
    "    for u in range(10):\n",
    "        for b in range(10):\n",
    "            if k != u and u != b:\n",
    "                kub = int(str(k)+str(u)+str(b))\n",
    "                if num_pow(k+u+b, 3) == kub:\n",
    "                    print(f'({k}+{u}+{b})^3={kub}')"
   ],
   "metadata": {
    "collapsed": false
   },
   "id": "f9cdaf3cc90dca8f"
  }
 ],
 "metadata": {
  "kernelspec": {
   "display_name": "Python 3",
   "language": "python",
   "name": "python3"
  },
  "language_info": {
   "codemirror_mode": {
    "name": "ipython",
    "version": 2
   },
   "file_extension": ".py",
   "mimetype": "text/x-python",
   "name": "python",
   "nbconvert_exporter": "python",
   "pygments_lexer": "ipython2",
   "version": "2.7.6"
  }
 },
 "nbformat": 4,
 "nbformat_minor": 5
}
