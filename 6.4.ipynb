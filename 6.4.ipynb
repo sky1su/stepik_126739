{
 "cells": [
  {
   "cell_type": "markdown",
   "source": [
    "# Задача №1\n",
    "https://stepik.org/lesson/806249/step/2?unit=809378\n",
    "\n",
    "На вход программы подаётся одна строка, напишите программу, которая выводит эту же строку но без первого и последнего символа."
   ],
   "metadata": {
    "collapsed": false
   },
   "id": "a4742477b6004b97"
  },
  {
   "cell_type": "code",
   "execution_count": null,
   "outputs": [],
   "source": [
    "s = input()\n",
    "print(s[1:-1:])"
   ],
   "metadata": {
    "collapsed": false
   },
   "id": "70d83da2d2607bf3"
  },
  {
   "cell_type": "markdown",
   "source": [
    "# Задача №2\n",
    "https://stepik.org/lesson/806249/step/3?unit=809378\n",
    "\n",
    "На вход программы подаётся одна строка, напишите программу, которая выводит из этой строки каждый второй символ. "
   ],
   "metadata": {
    "collapsed": false
   },
   "id": "25d44d19a5d23cce"
  },
  {
   "cell_type": "code",
   "execution_count": null,
   "outputs": [],
   "source": [
    "def string_processing(s: str):\n",
    "    result = ''\n",
    "    for i in range(len(s)):\n",
    "        if i % 2 != 0:\n",
    "            result += s[i]\n",
    "    return result\n",
    "\n",
    "s = input()\n",
    "print(string_processing(s))"
   ],
   "metadata": {
    "collapsed": false
   },
   "id": "b815740e6dd8a82d"
  },
  {
   "cell_type": "markdown",
   "source": [
    "# Задача №3\n",
    "https://stepik.org/lesson/806249/step/4?unit=809378\n",
    "На вход подаётся одна строка. Напишите программу, которая определяет, является ли она палиндромом и выводит сообщение True или False. Палиндром одинаково читается слева направо и справа налево. Для того, чтобы развернуть строку, используйте срез."
   ],
   "metadata": {
    "collapsed": false
   },
   "id": "330dd27c04ae784c"
  },
  {
   "cell_type": "code",
   "execution_count": null,
   "outputs": [],
   "source": [
    "def check_palindrome(s: str):\n",
    "    if s == s[::-1]:\n",
    "        return True\n",
    "    return False\n",
    "\n",
    "s = input()\n",
    "print(check_palindrome(s))"
   ],
   "metadata": {
    "collapsed": false
   },
   "id": "aee3520ab411ebe8"
  },
  {
   "cell_type": "markdown",
   "source": [
    "# Задача №4\n",
    "https://stepik.org/lesson/806249/step/5?unit=809378\n",
    "\n",
    "Дана строка. Разрежьте ее на две равные части (если длина строки — четная, а если длина строки нечетная, то длина первой части должна быть на один символ больше). Переставьте эти две части местами, результат запишите в новую строку и выведите на экран.\n",
    "\n",
    "При решении этой задачи не стоит пользоваться инструкцией if."
   ],
   "metadata": {
    "collapsed": false
   },
   "id": "c762f0094d695b4f"
  },
  {
   "cell_type": "code",
   "execution_count": null,
   "outputs": [],
   "source": [
    "s = input()\n",
    "slice_shift = int(len(s)/2 + len(s) % 2)\n",
    "\n",
    "s1 = s[:slice_shift]\n",
    "s2 = s[slice_shift:]\n",
    "\n",
    "result = s2 + s1\n",
    "print(result)"
   ],
   "metadata": {
    "collapsed": false
   },
   "id": "4cf2277e7bb331fd"
  },
  {
   "cell_type": "markdown",
   "source": [
    "# Задача №5\n",
    "https://stepik.org/lesson/806249/step/6?unit=809378\n",
    "\n",
    "На вход программе подаётся два натуральных числа a и b, в следующей строке подаётся строка. Выведите из этой строки все символы с индексами от a до b или от b до а. В зависимости от того, a>b или b>=a."
   ],
   "metadata": {
    "collapsed": false
   },
   "id": "c2dd452152e68472"
  },
  {
   "cell_type": "code",
   "execution_count": null,
   "outputs": [],
   "source": [
    "a,b = map(int, input().split())\n",
    "s = input()\n",
    "\n",
    "if a > b:\n",
    "    start = b\n",
    "    end = a + 1\n",
    "else:\n",
    "    start = a\n",
    "    end = b + 1\n",
    "\n",
    "print(s[start:end:])"
   ],
   "metadata": {
    "collapsed": false
   },
   "id": "87694388f1b2a10"
  },
  {
   "cell_type": "markdown",
   "source": [
    "# Задача №6\n",
    "https://stepik.org/lesson/806249/step/7?unit=809378\n",
    "\n",
    "Напишите программу, которая запрашивает строку и образует из неё новую путём удвоения первого и последнего символа."
   ],
   "metadata": {
    "collapsed": false
   },
   "id": "c4aac8e2aab5b487"
  },
  {
   "cell_type": "code",
   "execution_count": null,
   "outputs": [],
   "source": [
    "def string_processing(s: str):\n",
    "    result = ''\n",
    "    result += s[:1] * 2\n",
    "    result += s[1:len(s)]\n",
    "    result += s[-1::]\n",
    "    return result\n",
    "\n",
    "s = input()\n",
    "print(string_processing(s))"
   ],
   "metadata": {
    "collapsed": false
   },
   "id": "713782be98769078"
  }
 ],
 "metadata": {
  "kernelspec": {
   "display_name": "Python 3",
   "language": "python",
   "name": "python3"
  },
  "language_info": {
   "codemirror_mode": {
    "name": "ipython",
    "version": 2
   },
   "file_extension": ".py",
   "mimetype": "text/x-python",
   "name": "python",
   "nbconvert_exporter": "python",
   "pygments_lexer": "ipython2",
   "version": "2.7.6"
  }
 },
 "nbformat": 4,
 "nbformat_minor": 5
}
