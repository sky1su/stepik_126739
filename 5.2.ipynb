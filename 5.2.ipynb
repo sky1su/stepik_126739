{
 "cells": [
  {
   "cell_type": "markdown",
   "source": [
    "# Задача №1\n",
    "https://stepik.org/lesson/806243/step/2?unit=809372\n",
    "\n",
    "Напишите программу, которая считает сумму цифр введённого числа. Про число известно только то, что оно натуральное. Больше ничего не известно.\n",
    "\n",
    "Входные данные\n",
    "Входная строка содержит одно натуральное число.\n",
    "\n",
    "Выходные данные\n",
    "Программа должна вывести сумму цифр введённого числа."
   ],
   "metadata": {
    "collapsed": false
   },
   "id": "a7fe3f43a2477072"
  },
  {
   "cell_type": "code",
   "execution_count": null,
   "outputs": [],
   "source": [
    "def number_sum(number):\n",
    "    number = str(number)\n",
    "    result = 0\n",
    "    for i in number:\n",
    "        result += int(i)\n",
    "    return result\n",
    "\n",
    "x = int(input())\n",
    "print(number_sum(x))\n"
   ],
   "metadata": {
    "collapsed": false
   },
   "id": "828f3583c63bbd36"
  },
  {
   "cell_type": "markdown",
   "source": [
    "# Задача №2\n",
    "https://stepik.org/lesson/806243/step/3?unit=809372\n",
    "\n",
    "Напишите программу, которая переставляет цифры натурального числа в обратном порядке. \n",
    "\n",
    "Входные данные\n",
    "Задано единственное натуральное число n\n",
    "\n",
    "Выходные данные\n",
    "Необходимо вывести цифры данного числа в обратном порядке."
   ],
   "metadata": {
    "collapsed": false
   },
   "id": "3d747a830324d711"
  },
  {
   "cell_type": "code",
   "execution_count": null,
   "outputs": [],
   "source": [
    "def reverse(number):\n",
    "    return str(number)[::-1]\n",
    "\n",
    "x = int(input())\n",
    "print(reverse(x))"
   ],
   "metadata": {
    "collapsed": false
   },
   "id": "7c74a783e4bd7d1c"
  },
  {
   "cell_type": "markdown",
   "source": [
    "# Задача №3\n",
    "https://stepik.org/lesson/806243/step/4?unit=809372\n",
    "\n",
    "Дано натуральное число n. Напишите программу, определяющую количество нулей среди всех цифр числа n.\n",
    "\n",
    "Входные данные\n",
    "Дано натуральное число n\n",
    "\n",
    "Выходные данные\n",
    "Необходимо вывести количество нулей среди всех цифр числа n."
   ],
   "metadata": {
    "collapsed": false
   },
   "id": "976715cfdaeec382"
  },
  {
   "cell_type": "code",
   "execution_count": null,
   "outputs": [],
   "source": [
    "def zero_count(number):\n",
    "    return str(number).count('0')\n",
    "\n",
    "x = int(input())\n",
    "print(zero_count(x))"
   ],
   "metadata": {
    "collapsed": false
   },
   "id": "54b21e2ab3e1a120"
  },
  {
   "cell_type": "markdown",
   "source": [
    "# Задача №4\n",
    "https://stepik.org/lesson/806243/step/5?unit=809372\n",
    "\n",
    "Дано натуральное число n. Напишите программу, определяющую есть ли в числе n цифра 5 или нет. Если есть цифра 5, то выведите \"YES\", иначе выведите - \"NO\".\n",
    "\n",
    "Входные данные\n",
    "Дано натуральное число n\n",
    "\n",
    "Выходные данные\n",
    "Вывести YES или NO."
   ],
   "metadata": {
    "collapsed": false
   },
   "id": "dcf297eb3ef5693b"
  },
  {
   "cell_type": "code",
   "execution_count": null,
   "outputs": [],
   "source": [
    "def check_digit(number, digit):\n",
    "    if str(number).count(str(digit)) != 0:\n",
    "        return 'YES'\n",
    "    return 'NO'\n",
    "\n",
    "x = int(input())\n",
    "print(check_digit(x,5))"
   ],
   "metadata": {
    "collapsed": false
   },
   "id": "8f4046f08e3530c7"
  },
  {
   "cell_type": "markdown",
   "source": [
    "# Задача №5\n",
    "https://stepik.org/lesson/806243/step/6?unit=809372\n",
    "\n",
    "Напишите программу, которая выводит в столбик цифры введённого числа, начиная с последней. \n",
    "\n",
    "Входные данные\n",
    "Входная строка содержит натуральное число N .\n",
    "\n",
    "Выходные данные\n",
    "Программа должна вывести в столбик все цифры введённого числа в обратном порядке, начиная с последней."
   ],
   "metadata": {
    "collapsed": false
   },
   "id": "54928f2d44f18b9"
  },
  {
   "cell_type": "code",
   "execution_count": null,
   "outputs": [],
   "source": [
    "def print_vertial(number):\n",
    "    for i in str(number)[::-1]:\n",
    "        print(i)\n",
    "\n",
    "x = input()\n",
    "print_vertial(x)"
   ],
   "metadata": {
    "collapsed": false
   },
   "id": "7479a2062dbed57c"
  }
 ],
 "metadata": {
  "kernelspec": {
   "display_name": "Python 3",
   "language": "python",
   "name": "python3"
  },
  "language_info": {
   "codemirror_mode": {
    "name": "ipython",
    "version": 2
   },
   "file_extension": ".py",
   "mimetype": "text/x-python",
   "name": "python",
   "nbconvert_exporter": "python",
   "pygments_lexer": "ipython2",
   "version": "2.7.6"
  }
 },
 "nbformat": 4,
 "nbformat_minor": 5
}
